{
 "cells": [
  {
   "cell_type": "code",
   "execution_count": 1,
   "metadata": {
    "colab": {
     "base_uri": "https://localhost:8080/"
    },
    "id": "tQDo6qj7sZJi",
    "outputId": "7fc814ae-fa99-4323-909f-abc0440032de"
   },
   "outputs": [
    {
     "name": "stderr",
     "output_type": "stream",
     "text": [
      "/tmp/ipykernel_26075/1392500899.py:22: TqdmDeprecationWarning: This function will be removed in tqdm==5.0.0\n",
      "Please use `tqdm.notebook.*` instead of `tqdm._tqdm_notebook.*`\n",
      "  from tqdm._tqdm_notebook import tqdm_notebook\n",
      "[nltk_data] Downloading package punkt to\n",
      "[nltk_data]     /home/starminalush/nltk_data...\n",
      "[nltk_data]   Package punkt is already up-to-date!\n",
      "[nltk_data] Downloading package stopwords to\n",
      "[nltk_data]     /home/starminalush/nltk_data...\n",
      "[nltk_data]   Package stopwords is already up-to-date!\n"
     ]
    }
   ],
   "source": [
    "import ast\n",
    "import re\n",
    "from typing import Sequence\n",
    "\n",
    "import matplotlib.pyplot as plt\n",
    "import nltk\n",
    "import numpy as np\n",
    "import opendatasets as od\n",
    "import pandas as pd\n",
    "from gensim.models import FastText, Word2Vec\n",
    "from nltk import WordPunctTokenizer\n",
    "from nltk.corpus import stopwords\n",
    "from nltk.stem.porter import PorterStemmer\n",
    "from nltk.tokenize import sent_tokenize, word_tokenize\n",
    "from num2words import num2words\n",
    "from scipy.spatial.distance import cosine\n",
    "from sklearn.linear_model import LogisticRegression\n",
    "from sklearn.manifold import TSNE\n",
    "from sklearn.metrics import classification_report\n",
    "from sklearn.model_selection import GridSearchCV, train_test_split\n",
    "from tqdm import tqdm\n",
    "from tqdm._tqdm_notebook import tqdm_notebook\n",
    "\n",
    "nltk.download(\"punkt\")\n",
    "nltk.download(\"stopwords\")\n",
    "tqdm_notebook.pandas()"
   ]
  },
  {
   "cell_type": "code",
   "execution_count": 2,
   "metadata": {
    "id": "5xtupf4J7vad"
   },
   "outputs": [],
   "source": [
    "RANDOM_SEED = 42"
   ]
  },
  {
   "cell_type": "code",
   "execution_count": 3,
   "metadata": {
    "id": "akgjWkQyylEZ"
   },
   "outputs": [],
   "source": [
    "word_punct_tokenizer = WordPunctTokenizer()\n",
    "stemmer = PorterStemmer()"
   ]
  },
  {
   "cell_type": "markdown",
   "metadata": {
    "id": "r71KeY4lssqP"
   },
   "source": [
    "## Скачиваем датасет и делаем предобработку\n",
    "\n"
   ]
  },
  {
   "cell_type": "code",
   "execution_count": 4,
   "metadata": {
    "colab": {
     "base_uri": "https://localhost:8080/"
    },
    "id": "ENP0pWKWsdgd",
    "outputId": "0f86087a-48b5-4175-8e82-aae0a9949e48"
   },
   "outputs": [
    {
     "name": "stdout",
     "output_type": "stream",
     "text": [
      "Skipping, found downloaded files in \"./imdb-movie-ratings-sentiment-analysis\" (use force=True to force download)\n"
     ]
    }
   ],
   "source": [
    "od.download(\n",
    "    \"http://www.kaggle.com/datasets/yasserh/imdb-movie-ratings-sentiment-analysis\"\n",
    ")"
   ]
  },
  {
   "cell_type": "code",
   "execution_count": 5,
   "metadata": {
    "colab": {
     "base_uri": "https://localhost:8080/",
     "height": 206
    },
    "id": "ouuedJgLwH8g",
    "outputId": "bcf8cfec-4dc6-423b-8c49-e80eceb29e32"
   },
   "outputs": [
    {
     "data": {
      "text/html": [
       "<div>\n",
       "<style scoped>\n",
       "    .dataframe tbody tr th:only-of-type {\n",
       "        vertical-align: middle;\n",
       "    }\n",
       "\n",
       "    .dataframe tbody tr th {\n",
       "        vertical-align: top;\n",
       "    }\n",
       "\n",
       "    .dataframe thead th {\n",
       "        text-align: right;\n",
       "    }\n",
       "</style>\n",
       "<table border=\"1\" class=\"dataframe\">\n",
       "  <thead>\n",
       "    <tr style=\"text-align: right;\">\n",
       "      <th></th>\n",
       "      <th>text</th>\n",
       "      <th>label</th>\n",
       "    </tr>\n",
       "  </thead>\n",
       "  <tbody>\n",
       "    <tr>\n",
       "      <th>0</th>\n",
       "      <td>I grew up (b. 1965) watching and loving the Th...</td>\n",
       "      <td>0</td>\n",
       "    </tr>\n",
       "    <tr>\n",
       "      <th>1</th>\n",
       "      <td>When I put this movie in my DVD player, and sa...</td>\n",
       "      <td>0</td>\n",
       "    </tr>\n",
       "    <tr>\n",
       "      <th>2</th>\n",
       "      <td>Why do people who do not know what a particula...</td>\n",
       "      <td>0</td>\n",
       "    </tr>\n",
       "    <tr>\n",
       "      <th>3</th>\n",
       "      <td>Even though I have great interest in Biblical ...</td>\n",
       "      <td>0</td>\n",
       "    </tr>\n",
       "    <tr>\n",
       "      <th>4</th>\n",
       "      <td>Im a die hard Dads Army fan and nothing will e...</td>\n",
       "      <td>1</td>\n",
       "    </tr>\n",
       "  </tbody>\n",
       "</table>\n",
       "</div>"
      ],
      "text/plain": [
       "                                                text  label\n",
       "0  I grew up (b. 1965) watching and loving the Th...      0\n",
       "1  When I put this movie in my DVD player, and sa...      0\n",
       "2  Why do people who do not know what a particula...      0\n",
       "3  Even though I have great interest in Biblical ...      0\n",
       "4  Im a die hard Dads Army fan and nothing will e...      1"
      ]
     },
     "execution_count": 5,
     "metadata": {},
     "output_type": "execute_result"
    }
   ],
   "source": [
    "df = pd.read_csv(\"imdb-movie-ratings-sentiment-analysis/movie.csv\")\n",
    "df.head()"
   ]
  },
  {
   "cell_type": "markdown",
   "metadata": {
    "id": "WiuCW376UW8U"
   },
   "source": [
    "Проверяем на пустоту и удаляем ее"
   ]
  },
  {
   "cell_type": "code",
   "execution_count": 6,
   "metadata": {
    "colab": {
     "base_uri": "https://localhost:8080/"
    },
    "id": "UQAkZRXADTIR",
    "outputId": "389232ed-b103-4080-9852-bbf2edabc364"
   },
   "outputs": [
    {
     "data": {
      "text/plain": [
       "0"
      ]
     },
     "execution_count": 6,
     "metadata": {},
     "output_type": "execute_result"
    }
   ],
   "source": [
    "df[\"text\"].isnull().sum()"
   ]
  },
  {
   "cell_type": "markdown",
   "metadata": {
    "id": "PqdsHPIVUfUn"
   },
   "source": [
    "Проверяем на пробелы и удаляем и их тоже"
   ]
  },
  {
   "cell_type": "code",
   "execution_count": 7,
   "metadata": {
    "colab": {
     "base_uri": "https://localhost:8080/"
    },
    "id": "YXcfdDgpUj2J",
    "outputId": "98e3ff2d-988e-4366-c16c-9a4afc390991"
   },
   "outputs": [
    {
     "data": {
      "text/plain": [
       "0"
      ]
     },
     "execution_count": 7,
     "metadata": {},
     "output_type": "execute_result"
    }
   ],
   "source": [
    "df[\"text\"].str.isspace().sum()"
   ]
  },
  {
   "cell_type": "markdown",
   "metadata": {
    "id": "oAQ-aoW2dHsw"
   },
   "source": [
    "Датасет очень большой, поэтому возьму первые 4к записей из 40к"
   ]
  },
  {
   "cell_type": "code",
   "execution_count": 8,
   "metadata": {
    "id": "NgoPxm9PdNoj"
   },
   "outputs": [],
   "source": [
    "df = df[:4000]"
   ]
  },
  {
   "cell_type": "markdown",
   "metadata": {
    "id": "kTIQtsBnUtUq"
   },
   "source": [
    "### Делаем препроцессинг текста"
   ]
  },
  {
   "cell_type": "code",
   "execution_count": 9,
   "metadata": {
    "id": "yQrHJr41yuro"
   },
   "outputs": [],
   "source": [
    "def convert_digit_to_word(text: str) -> str:\n",
    "    pattern = r\"\\d+\"\n",
    "    numbers = re.findall(pattern, text)\n",
    "    for number in numbers:\n",
    "        try:\n",
    "            digit = ast.literal_eval(number)\n",
    "        except SyntaxError:\n",
    "            digit = int(number)\n",
    "        text = text.replace(number, num2words(digit, lang=\"en\"))\n",
    "    return text\n",
    "\n",
    "\n",
    "def convert_to_lowercase(text: str) -> str:\n",
    "    return text.lower()\n",
    "\n",
    "\n",
    "def delete_punctuation(text: str) -> str:\n",
    "    return \" \".join(\n",
    "        [\n",
    "            word\n",
    "            for word in word_punct_tokenizer.tokenize(text)\n",
    "            if word.isalpha() or word.isalnum()\n",
    "        ]\n",
    "    )\n",
    "\n",
    "\n",
    "def delete_stop_words(words: Sequence[str]) -> Sequence[str]:\n",
    "    return [word for word in words if word not in set(stopwords.words(\"english\"))]\n",
    "\n",
    "\n",
    "def tokenize_by_words(sentence: str) -> Sequence[str]:\n",
    "    return word_tokenize(sentence, language=\"english\")\n",
    "\n",
    "\n",
    "def tokenize_by_sentence(text: str) -> Sequence[str]:\n",
    "    return sent_tokenize(text, language=\"english\")\n",
    "\n",
    "\n",
    "def normalize(text: str) -> str:\n",
    "    text = convert_to_lowercase(text)\n",
    "    text = delete_punctuation(text)\n",
    "    text = convert_digit_to_word(text)\n",
    "    return text\n",
    "\n",
    "\n",
    "def stem(words: Sequence[str]) -> Sequence[str]:\n",
    "    return [stemmer.stem(word) for word in words]"
   ]
  },
  {
   "cell_type": "code",
   "execution_count": 10,
   "metadata": {},
   "outputs": [],
   "source": [
    "def preprocess_text(text: str) -> str:\n",
    "    sentences: list[str] = tokenize_by_sentence(text)\n",
    "    preprocessed_sentences: list[str] = []\n",
    "    for sentence in sentences:\n",
    "        normalized_text = normalize(sentence)\n",
    "        tokens = tokenize_by_words(normalized_text)\n",
    "        clean_tokens = delete_stop_words(tokens)\n",
    "        stemmed_tokens = stem(clean_tokens)\n",
    "        preprocessed_sentences.append(\" \".join([token for token in stemmed_tokens]))\n",
    "    return \" \".join(preprocessed_sentences)"
   ]
  },
  {
   "cell_type": "code",
   "execution_count": 11,
   "metadata": {
    "colab": {
     "base_uri": "https://localhost:8080/",
     "height": 49,
     "referenced_widgets": [
      "0b18cef04ad044be898bed96aedf377d",
      "66347b467ca4431b96f9dfa0a3e167ac",
      "3f6e2b659e6f4776971064acebf1bfcb",
      "e45c15c18f144039b886dfb2bfec110a",
      "cc3bebee8d4d4f80994a10806a1bdd7b",
      "98bc9c4a3cb64ab7b230ccda01242c1e",
      "442c5003955f45d59619f1a0a999aaed",
      "46b95d4c17bd402facd0b50d94196d52",
      "85a59d29785e499ba2042fa7eff4884c",
      "88aacc6945cd43c7a1f30f803c02ff6c",
      "0ec96f57727a4d0aa4f84d9b9c4e7724"
     ]
    },
    "id": "oOTPqTE4ypff",
    "outputId": "314a2bd9-cb9c-4b33-fb8f-77717cac79f3"
   },
   "outputs": [
    {
     "data": {
      "application/vnd.jupyter.widget-view+json": {
       "model_id": "48cf8821dc5e4b9e86674656958d60bc",
       "version_major": 2,
       "version_minor": 0
      },
      "text/plain": [
       "  0%|          | 0/4000 [00:00<?, ?it/s]"
      ]
     },
     "metadata": {},
     "output_type": "display_data"
    }
   ],
   "source": [
    "df[\"text\"] = df[\"text\"].progress_apply(lambda x: preprocess_text(text=x))"
   ]
  },
  {
   "cell_type": "markdown",
   "metadata": {
    "id": "npkZmM0nV37d"
   },
   "source": [
    "## Эксперименты над Word2Vec и FastText"
   ]
  },
  {
   "cell_type": "code",
   "execution_count": 12,
   "metadata": {
    "id": "SRT-IzqA4G70"
   },
   "outputs": [],
   "source": [
    "X = df[\"text\"]\n",
    "y = df[\"label\"]\n",
    "\n",
    "X_train, X_test, y_train, y_test = train_test_split(\n",
    "    X, y, test_size=0.2, random_state=RANDOM_SEED\n",
    ")"
   ]
  },
  {
   "cell_type": "code",
   "execution_count": 13,
   "metadata": {
    "id": "JcCc1T9r5SRB"
   },
   "outputs": [],
   "source": [
    "def sentence_to_words(texts: pd.Series) -> Sequence[str]:\n",
    "    return [text.split() for _, text in texts.items()]"
   ]
  },
  {
   "cell_type": "code",
   "execution_count": 14,
   "metadata": {
    "id": "om0XWfXUd22v"
   },
   "outputs": [],
   "source": [
    "X_train_words = sentence_to_words(texts=X_train)\n",
    "X_test_words = sentence_to_words(texts=X_test)"
   ]
  },
  {
   "cell_type": "code",
   "execution_count": 15,
   "metadata": {
    "id": "rWU-ZvtPpphx"
   },
   "outputs": [],
   "source": [
    "def check_similar_words_results(model: Word2Vec, initial_word: str):\n",
    "    \"\"\"Проверяет, что слова из вывода функции most_similar достаточно близки по косинусной близости с initial_word.\"\"\"\n",
    "    similar_words = model.wv.most_similar(positive=[initial_word], topn=5)\n",
    "    for word, coef in similar_words:\n",
    "        print(f\"Пара {initial_word} - {word}\")\n",
    "        print(f\"Косинусная близость по модели: {coef}\")\n",
    "        print(\n",
    "            f\"Косинусная близость по метрике из sklearn {1-cosine(model.wv['game'], model.wv[word])}\\n\"\n",
    "        )"
   ]
  },
  {
   "cell_type": "code",
   "execution_count": 16,
   "metadata": {
    "id": "GxJaW-nsqgtN"
   },
   "outputs": [],
   "source": [
    "def check_doesnt_match_results(model: Word2Vec, words: Sequence[str]):\n",
    "    \"\"\"Проверяет, что вывод функции doesnt_match самый далекий от всех остальных слов в списке words.\"\"\"\n",
    "    superfluous_word = model.wv.doesnt_match(words)\n",
    "    print(f\"Вывод функции doesnt_match: {superfluous_word}\")\n",
    "\n",
    "    similarity_scores = np.zeros((len(words), len(words)))\n",
    "    for i in range(len(words)):\n",
    "        for j in range(len(words)):\n",
    "            similarity_scores[i][j] = 1 - cosine(model.wv[words[i]], model.wv[words[j]])\n",
    "    plt.imshow(similarity_scores, cmap=\"Blues\")\n",
    "    plt.colorbar()\n",
    "    plt.xticks(np.arange(len(words)), words, rotation=45)\n",
    "    plt.yticks(np.arange(len(words)), words)\n",
    "    plt.xlabel(\"Слова\")\n",
    "    plt.ylabel(\"Слова\")\n",
    "    plt.title(\"Матрица близости\")\n",
    "\n",
    "    for i in range(len(words)):\n",
    "        for j in range(len(words)):\n",
    "            plt.text(\n",
    "                j,\n",
    "                i,\n",
    "                round(similarity_scores[i, j], 2),\n",
    "                ha=\"center\",\n",
    "                va=\"center\",\n",
    "                color=\"black\",\n",
    "            )\n",
    "    plt.show()"
   ]
  },
  {
   "cell_type": "markdown",
   "metadata": {
    "id": "YAQ0iY0udwy4"
   },
   "source": [
    "Обучим word2vec"
   ]
  },
  {
   "cell_type": "code",
   "execution_count": 17,
   "metadata": {
    "colab": {
     "base_uri": "https://localhost:8080/"
    },
    "id": "xLvNfGzhrPGN",
    "outputId": "352c5616-8557-4a17-f68d-bf57a65b9e2e"
   },
   "outputs": [
    {
     "name": "stdout",
     "output_type": "stream",
     "text": [
      "CPU times: user 1min 24s, sys: 152 ms, total: 1min 25s\n",
      "Wall time: 29.6 s\n"
     ]
    }
   ],
   "source": [
    "%%time\n",
    "model_word2vec = Word2Vec(\n",
    "    sentences=X_train_words,\n",
    "    vector_size=300,\n",
    "    window=10,\n",
    "    min_count=10,\n",
    "    sg=1,\n",
    "    hs=0,\n",
    "    negative=2,\n",
    "    epochs=20,\n",
    "    seed=RANDOM_SEED,\n",
    ")"
   ]
  },
  {
   "cell_type": "markdown",
   "metadata": {
    "id": "MYUYgJkFrS2y"
   },
   "source": [
    "Посмотрим на внутреннюю оценку"
   ]
  },
  {
   "cell_type": "code",
   "execution_count": 18,
   "metadata": {
    "colab": {
     "base_uri": "https://localhost:8080/"
    },
    "id": "BWnDoIV5rRrQ",
    "outputId": "4af1a5ba-d5ae-4ead-b747-3ef4cde623b8"
   },
   "outputs": [
    {
     "name": "stdout",
     "output_type": "stream",
     "text": [
      "Пара game - uwe\n",
      "Косинусная близость по модели: 0.42962267994880676\n",
      "Косинусная близость по метрике из sklearn 0.4296226501464844\n",
      "\n",
      "Пара game - chess\n",
      "Косинусная близость по модели: 0.4099084734916687\n",
      "Косинусная близость по метрике из sklearn 0.4099084734916687\n",
      "\n",
      "Пара game - boll\n",
      "Косинусная близость по модели: 0.40352365374565125\n",
      "Косинусная близость по метрике из sklearn 0.40352359414100647\n",
      "\n",
      "Пара game - monkey\n",
      "Косинусная близость по модели: 0.3955715596675873\n",
      "Косинусная близость по метрике из sklearn 0.3955715596675873\n",
      "\n",
      "Пара game - gamer\n",
      "Косинусная близость по модели: 0.3797648251056671\n",
      "Косинусная близость по метрике из sklearn 0.3797648251056671\n",
      "\n"
     ]
    }
   ],
   "source": [
    "check_similar_words_results(model=model_word2vec, initial_word=\"game\")"
   ]
  },
  {
   "cell_type": "markdown",
   "metadata": {
    "id": "zlgJ2u7Hf80I"
   },
   "source": [
    "По внутренней оценке можно увидеть, что вывод функции most_similar в целом логичен. Косинусная близость совпадает с косинусной близостью, которую мы посчитали с помощью sklearn"
   ]
  },
  {
   "cell_type": "code",
   "execution_count": 26,
   "metadata": {
    "colab": {
     "base_uri": "https://localhost:8080/",
     "height": 534
    },
    "id": "xpYYEoB2rfR2",
    "outputId": "252adeca-fe3c-4691-9164-4450591e9275"
   },
   "outputs": [
    {
     "name": "stdout",
     "output_type": "stream",
     "text": [
      "Вывод функции doesnt_match: cat\n"
     ]
    },
    {
     "data": {
      "image/png": "[encoded data removed]",
      "text/plain": [
       "<Figure size 640x480 with 2 Axes>"
      ]
     },
     "metadata": {},
     "output_type": "display_data"
    }
   ],
   "source": [
    "check_doesnt_match_results(\n",
    "    model=model_word2vec, words=[\"tv\", \"radio\", \"broadcast\", \"cat\"]\n",
    ")"
   ]
  },
  {
   "cell_type": "markdown",
   "metadata": {
    "id": "LN9cGBlXgPIY"
   },
   "source": [
    "По выводу функции doesnt_match мы получили, что слово cat в списке ['tv', 'radio', 'broadcast', 'cat'] лишнее. Если для каждой пары слов рассчитать косинусную близость, то можно увидеть, что для слова cat косинусная близость с другими словами самая маленькая"
   ]
  },
  {
   "cell_type": "markdown",
   "metadata": {
    "id": "3hYUWlk2jWVw"
   },
   "source": [
    "Сделаем то же самое для FastText"
   ]
  },
  {
   "cell_type": "code",
   "execution_count": 20,
   "metadata": {
    "colab": {
     "base_uri": "https://localhost:8080/"
    },
    "id": "QsoZwbExjY9p",
    "outputId": "d19e2227-f0ba-4bb6-ba5e-e6470ce021ba"
   },
   "outputs": [
    {
     "name": "stdout",
     "output_type": "stream",
     "text": [
      "CPU times: user 3min 58s, sys: 933 ms, total: 3min 59s\n",
      "Wall time: 1min 25s\n"
     ]
    }
   ],
   "source": [
    "%%time\n",
    "model_fasttext = FastText(\n",
    "    sentences=X_train_words,\n",
    "    vector_size=300,  # default = 100\n",
    "    window=10,  # default = 5\n",
    "    min_count=10,\n",
    "    sg=1,  # Training algorithm: 1 for skip-gram; otherwise CBOW\n",
    "    hs=0,  #  If 1, hierarchical softmax will be used for model training. If 0, and negative is non-zero, negative sampling will be used.\n",
    "    negative=2,  # If > 0, negative sampling will be used, if set to 0, no negative sampling is used.\n",
    "    epochs=20,  # Number of iterations (epochs) over the corpus\n",
    "    seed=RANDOM_SEED,\n",
    ")"
   ]
  },
  {
   "cell_type": "markdown",
   "metadata": {
    "id": "HNEiqg3TjnkP"
   },
   "source": [
    "Посмотрим на внутреннюю оценку"
   ]
  },
  {
   "cell_type": "code",
   "execution_count": 21,
   "metadata": {
    "colab": {
     "base_uri": "https://localhost:8080/"
    },
    "id": "0RbKg-_jjnkP",
    "outputId": "20975a60-cdd4-475c-f305-1c1d19a331c8"
   },
   "outputs": [
    {
     "name": "stdout",
     "output_type": "stream",
     "text": [
      "Пара game - gamer\n",
      "Косинусная близость по модели: 0.7586571574211121\n",
      "Косинусная близость по метрике из sklearn 0.7586571574211121\n",
      "\n",
      "Пара game - gambl\n",
      "Косинусная близость по модели: 0.5320618152618408\n",
      "Косинусная близость по метрике из sklearn 0.5320618152618408\n",
      "\n",
      "Пара game - uwe\n",
      "Косинусная близость по модели: 0.43684807419776917\n",
      "Косинусная близость по метрике из sklearn 0.4368480145931244\n",
      "\n",
      "Пара game - gabriel\n",
      "Косинусная близость по модели: 0.36090314388275146\n",
      "Косинусная близость по метрике из sklearn 0.3609030842781067\n",
      "\n",
      "Пара game - fame\n",
      "Косинусная близость по модели: 0.36083704233169556\n",
      "Косинусная близость по метрике из sklearn 0.36083701252937317\n",
      "\n"
     ]
    }
   ],
   "source": [
    "check_similar_words_results(model=model_fasttext, initial_word=\"game\")"
   ]
  },
  {
   "cell_type": "code",
   "execution_count": 27,
   "metadata": {
    "colab": {
     "base_uri": "https://localhost:8080/",
     "height": 534
    },
    "id": "j2GoXvRNjnkQ",
    "outputId": "ed36d47e-4146-4dbd-d295-eb8a7487857b"
   },
   "outputs": [
    {
     "name": "stdout",
     "output_type": "stream",
     "text": [
      "Вывод функции doesnt_match: cat\n"
     ]
    },
    {
     "data": {
      "image/png": "[encoded data removed]",
      "text/plain": [
       "<Figure size 640x480 with 2 Axes>"
      ]
     },
     "metadata": {},
     "output_type": "display_data"
    }
   ],
   "source": [
    "check_doesnt_match_results(\n",
    "    model=model_fasttext, words=[\"tv\", \"radio\", \"broadcast\", \"cat\"]\n",
    ")"
   ]
  },
  {
   "cell_type": "markdown",
   "metadata": {
    "id": "HFB74tHajnkR"
   },
   "source": [
    "Вывод по внутренней оценке аналогичен выводу для модели Word2Vec, только что значения косинусной близости получились другие для пар слов и функиця most_similar выдает другой результат"
   ]
  },
  {
   "cell_type": "markdown",
   "metadata": {
    "id": "LusgRlrjl3rr"
   },
   "source": [
    "### Обучим логистическую регрессию на векторах каждой модели"
   ]
  },
  {
   "cell_type": "code",
   "execution_count": 23,
   "metadata": {
    "id": "Z0nGebqOJW1e"
   },
   "outputs": [],
   "source": [
    "def avg_vector_model(sentences: list[str], model: Word2Vec) -> np.ndarray:\n",
    "    \"\"\"Вычисляет усредненный эмбеддинг для каждого предложения текста.\"\"\"\n",
    "    transformed = []\n",
    "    for idx, sentence in sentences.items():\n",
    "        valid_words = [\n",
    "            word for word in sentence.split() if word in list(model.wv.index_to_key)\n",
    "        ]\n",
    "        if valid_words:\n",
    "            embedding = np.zeros((len(valid_words), 300), dtype=np.float32)\n",
    "            for idx, word in enumerate(valid_words):\n",
    "                embedding[idx] = model.wv[word]\n",
    "            transformed.append(np.mean(embedding, axis=0))\n",
    "        else:\n",
    "            transformed.append(np.zeros(300))\n",
    "    return np.asarray(transformed)"
   ]
  },
  {
   "cell_type": "code",
   "execution_count": 24,
   "metadata": {
    "id": "j1qTqJpImVhA"
   },
   "outputs": [],
   "source": [
    "def train_logistic_regression(\n",
    "    X_train: np.ndarray, X_test: np.ndarray, y_train: np.ndarray, model: Word2Vec\n",
    ") -> np.ndarray:\n",
    "    \"\"\"Обучает логистическую регрессую на наборе эмбеддингов, полученнных на основе векторной модели.\"\"\"\n",
    "    x_train_transformed = avg_vector_model(X_train, model)\n",
    "    x_test_transformed = avg_vector_model(X_test, model)\n",
    "    lr_model = LogisticRegression(random_state=RANDOM_SEED)\n",
    "    lr_model.fit(x_train_transformed, y_train)\n",
    "    return lr_model.predict(x_test_transformed)"
   ]
  },
  {
   "cell_type": "code",
   "execution_count": 25,
   "metadata": {
    "colab": {
     "base_uri": "https://localhost:8080/"
    },
    "id": "5F0PEqbuAYZ8",
    "outputId": "284af548-dfca-4c5a-d69f-0d09267498ee"
   },
   "outputs": [
    {
     "name": "stdout",
     "output_type": "stream",
     "text": [
      "Модель: Word2Vec\n",
      "              precision    recall  f1-score   support\n",
      "\n",
      "           0       0.88      0.86      0.87       419\n",
      "           1       0.85      0.87      0.86       381\n",
      "\n",
      "    accuracy                           0.86       800\n",
      "   macro avg       0.86      0.87      0.86       800\n",
      "weighted avg       0.87      0.86      0.87       800\n",
      "\n",
      "Модель: FastText\n",
      "              precision    recall  f1-score   support\n",
      "\n",
      "           0       0.87      0.86      0.87       419\n",
      "           1       0.85      0.86      0.85       381\n",
      "\n",
      "    accuracy                           0.86       800\n",
      "   macro avg       0.86      0.86      0.86       800\n",
      "weighted avg       0.86      0.86      0.86       800\n",
      "\n"
     ]
    }
   ],
   "source": [
    "for model in (model_word2vec, model_fasttext):\n",
    "    y_pred = train_logistic_regression(X_train, X_test, y_train.to_numpy(), model)\n",
    "    print(f\"Модель: {model.__class__.__name__}\")\n",
    "    print(classification_report(y_test, y_pred))"
   ]
  },
  {
   "cell_type": "markdown",
   "metadata": {
    "id": "jbFAsbrjpSaN"
   },
   "source": [
    "Вывод: без подбора гиперпараметров метрики моделей Word2Vec и FastText получились почти одинаковыми. Метрики Word2Vec выше на 1 процент, чем метрики FastText"
   ]
  }
 ],
 "metadata": {
  "colab": {
   "provenance": []
  },
  "kernelspec": {
   "display_name": "Python 3 (ipykernel)",
   "language": "python",
   "name": "python3"
  },
  "language_info": {
   "codemirror_mode": {
    "name": "ipython",
    "version": 3
   },
   "file_extension": ".py",
   "mimetype": "text/x-python",
   "name": "python",
   "nbconvert_exporter": "python",
   "pygments_lexer": "ipython3",
   "version": "3.10.12"
  },
  "widgets": {
   "application/vnd.jupyter.widget-state+json": {
    "0b18cef04ad044be898bed96aedf377d": {
     "model_module": "@jupyter-widgets/controls",
     "model_module_version": "1.5.0",
     "model_name": "HBoxModel",
     "state": {
      "_dom_classes": [],
      "_model_module": "@jupyter-widgets/controls",
      "_model_module_version": "1.5.0",
      "_model_name": "HBoxModel",
      "_view_count": null,
      "_view_module": "@jupyter-widgets/controls",
      "_view_module_version": "1.5.0",
      "_view_name": "HBoxView",
      "box_style": "",
      "children": [
       "IPY_MODEL_66347b467ca4431b96f9dfa0a3e167ac",
       "IPY_MODEL_3f6e2b659e6f4776971064acebf1bfcb",
       "IPY_MODEL_e45c15c18f144039b886dfb2bfec110a"
      ],
      "layout": "IPY_MODEL_cc3bebee8d4d4f80994a10806a1bdd7b"
     }
    },
    "0ec96f57727a4d0aa4f84d9b9c4e7724": {
     "model_module": "@jupyter-widgets/controls",
     "model_module_version": "1.5.0",
     "model_name": "DescriptionStyleModel",
     "state": {
      "_model_module": "@jupyter-widgets/controls",
      "_model_module_version": "1.5.0",
      "_model_name": "DescriptionStyleModel",
      "_view_count": null,
      "_view_module": "@jupyter-widgets/base",
      "_view_module_version": "1.2.0",
      "_view_name": "StyleView",
      "description_width": ""
     }
    },
    "3f6e2b659e6f4776971064acebf1bfcb": {
     "model_module": "@jupyter-widgets/controls",
     "model_module_version": "1.5.0",
     "model_name": "FloatProgressModel",
     "state": {
      "_dom_classes": [],
      "_model_module": "@jupyter-widgets/controls",
      "_model_module_version": "1.5.0",
      "_model_name": "FloatProgressModel",
      "_view_count": null,
      "_view_module": "@jupyter-widgets/controls",
      "_view_module_version": "1.5.0",
      "_view_name": "ProgressView",
      "bar_style": "success",
      "description": "",
      "description_tooltip": null,
      "layout": "IPY_MODEL_46b95d4c17bd402facd0b50d94196d52",
      "max": 4000,
      "min": 0,
      "orientation": "horizontal",
      "style": "IPY_MODEL_85a59d29785e499ba2042fa7eff4884c",
      "value": 4000
     }
    },
    "442c5003955f45d59619f1a0a999aaed": {
     "model_module": "@jupyter-widgets/controls",
     "model_module_version": "1.5.0",
     "model_name": "DescriptionStyleModel",
     "state": {
      "_model_module": "@jupyter-widgets/controls",
      "_model_module_version": "1.5.0",
      "_model_name": "DescriptionStyleModel",
      "_view_count": null,
      "_view_module": "@jupyter-widgets/base",
      "_view_module_version": "1.2.0",
      "_view_name": "StyleView",
      "description_width": ""
     }
    },
    "46b95d4c17bd402facd0b50d94196d52": {
     "model_module": "@jupyter-widgets/base",
     "model_module_version": "1.2.0",
     "model_name": "LayoutModel",
     "state": {
      "_model_module": "@jupyter-widgets/base",
      "_model_module_version": "1.2.0",
      "_model_name": "LayoutModel",
      "_view_count": null,
      "_view_module": "@jupyter-widgets/base",
      "_view_module_version": "1.2.0",
      "_view_name": "LayoutView",
      "align_content": null,
      "align_items": null,
      "align_self": null,
      "border": null,
      "bottom": null,
      "display": null,
      "flex": null,
      "flex_flow": null,
      "grid_area": null,
      "grid_auto_columns": null,
      "grid_auto_flow": null,
      "grid_auto_rows": null,
      "grid_column": null,
      "grid_gap": null,
      "grid_row": null,
      "grid_template_areas": null,
      "grid_template_columns": null,
      "grid_template_rows": null,
      "height": null,
      "justify_content": null,
      "justify_items": null,
      "left": null,
      "margin": null,
      "max_height": null,
      "max_width": null,
      "min_height": null,
      "min_width": null,
      "object_fit": null,
      "object_position": null,
      "order": null,
      "overflow": null,
      "overflow_x": null,
      "overflow_y": null,
      "padding": null,
      "right": null,
      "top": null,
      "visibility": null,
      "width": null
     }
    },
    "66347b467ca4431b96f9dfa0a3e167ac": {
     "model_module": "@jupyter-widgets/controls",
     "model_module_version": "1.5.0",
     "model_name": "HTMLModel",
     "state": {
      "_dom_classes": [],
      "_model_module": "@jupyter-widgets/controls",
      "_model_module_version": "1.5.0",
      "_model_name": "HTMLModel",
      "_view_count": null,
      "_view_module": "@jupyter-widgets/controls",
      "_view_module_version": "1.5.0",
      "_view_name": "HTMLView",
      "description": "",
      "description_tooltip": null,
      "layout": "IPY_MODEL_98bc9c4a3cb64ab7b230ccda01242c1e",
      "placeholder": "​",
      "style": "IPY_MODEL_442c5003955f45d59619f1a0a999aaed",
      "value": "100%"
     }
    },
    "85a59d29785e499ba2042fa7eff4884c": {
     "model_module": "@jupyter-widgets/controls",
     "model_module_version": "1.5.0",
     "model_name": "ProgressStyleModel",
     "state": {
      "_model_module": "@jupyter-widgets/controls",
      "_model_module_version": "1.5.0",
      "_model_name": "ProgressStyleModel",
      "_view_count": null,
      "_view_module": "@jupyter-widgets/base",
      "_view_module_version": "1.2.0",
      "_view_name": "StyleView",
      "bar_color": null,
      "description_width": ""
     }
    },
    "88aacc6945cd43c7a1f30f803c02ff6c": {
     "model_module": "@jupyter-widgets/base",
     "model_module_version": "1.2.0",
     "model_name": "LayoutModel",
     "state": {
      "_model_module": "@jupyter-widgets/base",
      "_model_module_version": "1.2.0",
      "_model_name": "LayoutModel",
      "_view_count": null,
      "_view_module": "@jupyter-widgets/base",
      "_view_module_version": "1.2.0",
      "_view_name": "LayoutView",
      "align_content": null,
      "align_items": null,
      "align_self": null,
      "border": null,
      "bottom": null,
      "display": null,
      "flex": null,
      "flex_flow": null,
      "grid_area": null,
      "grid_auto_columns": null,
      "grid_auto_flow": null,
      "grid_auto_rows": null,
      "grid_column": null,
      "grid_gap": null,
      "grid_row": null,
      "grid_template_areas": null,
      "grid_template_columns": null,
      "grid_template_rows": null,
      "height": null,
      "justify_content": null,
      "justify_items": null,
      "left": null,
      "margin": null,
      "max_height": null,
      "max_width": null,
      "min_height": null,
      "min_width": null,
      "object_fit": null,
      "object_position": null,
      "order": null,
      "overflow": null,
      "overflow_x": null,
      "overflow_y": null,
      "padding": null,
      "right": null,
      "top": null,
      "visibility": null,
      "width": null
     }
    },
    "98bc9c4a3cb64ab7b230ccda01242c1e": {
     "model_module": "@jupyter-widgets/base",
     "model_module_version": "1.2.0",
     "model_name": "LayoutModel",
     "state": {
      "_model_module": "@jupyter-widgets/base",
      "_model_module_version": "1.2.0",
      "_model_name": "LayoutModel",
      "_view_count": null,
      "_view_module": "@jupyter-widgets/base",
      "_view_module_version": "1.2.0",
      "_view_name": "LayoutView",
      "align_content": null,
      "align_items": null,
      "align_self": null,
      "border": null,
      "bottom": null,
      "display": null,
      "flex": null,
      "flex_flow": null,
      "grid_area": null,
      "grid_auto_columns": null,
      "grid_auto_flow": null,
      "grid_auto_rows": null,
      "grid_column": null,
      "grid_gap": null,
      "grid_row": null,
      "grid_template_areas": null,
      "grid_template_columns": null,
      "grid_template_rows": null,
      "height": null,
      "justify_content": null,
      "justify_items": null,
      "left": null,
      "margin": null,
      "max_height": null,
      "max_width": null,
      "min_height": null,
      "min_width": null,
      "object_fit": null,
      "object_position": null,
      "order": null,
      "overflow": null,
      "overflow_x": null,
      "overflow_y": null,
      "padding": null,
      "right": null,
      "top": null,
      "visibility": null,
      "width": null
     }
    },
    "cc3bebee8d4d4f80994a10806a1bdd7b": {
     "model_module": "@jupyter-widgets/base",
     "model_module_version": "1.2.0",
     "model_name": "LayoutModel",
     "state": {
      "_model_module": "@jupyter-widgets/base",
      "_model_module_version": "1.2.0",
      "_model_name": "LayoutModel",
      "_view_count": null,
      "_view_module": "@jupyter-widgets/base",
      "_view_module_version": "1.2.0",
      "_view_name": "LayoutView",
      "align_content": null,
      "align_items": null,
      "align_self": null,
      "border": null,
      "bottom": null,
      "display": null,
      "flex": null,
      "flex_flow": null,
      "grid_area": null,
      "grid_auto_columns": null,
      "grid_auto_flow": null,
      "grid_auto_rows": null,
      "grid_column": null,
      "grid_gap": null,
      "grid_row": null,
      "grid_template_areas": null,
      "grid_template_columns": null,
      "grid_template_rows": null,
      "height": null,
      "justify_content": null,
      "justify_items": null,
      "left": null,
      "margin": null,
      "max_height": null,
      "max_width": null,
      "min_height": null,
      "min_width": null,
      "object_fit": null,
      "object_position": null,
      "order": null,
      "overflow": null,
      "overflow_x": null,
      "overflow_y": null,
      "padding": null,
      "right": null,
      "top": null,
      "visibility": null,
      "width": null
     }
    },
    "e45c15c18f144039b886dfb2bfec110a": {
     "model_module": "@jupyter-widgets/controls",
     "model_module_version": "1.5.0",
     "model_name": "HTMLModel",
     "state": {
      "_dom_classes": [],
      "_model_module": "@jupyter-widgets/controls",
      "_model_module_version": "1.5.0",
      "_model_name": "HTMLModel",
      "_view_count": null,
      "_view_module": "@jupyter-widgets/controls",
      "_view_module_version": "1.5.0",
      "_view_name": "HTMLView",
      "description": "",
      "description_tooltip": null,
      "layout": "IPY_MODEL_88aacc6945cd43c7a1f30f803c02ff6c",
      "placeholder": "​",
      "style": "IPY_MODEL_0ec96f57727a4d0aa4f84d9b9c4e7724",
      "value": " 4000/4000 [01:31&lt;00:00, 34.51it/s]"
     }
    }
   }
  }
 },
 "nbformat": 4,
 "nbformat_minor": 4
}
