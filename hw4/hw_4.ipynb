{
 "cells": [
  {
   "cell_type": "markdown",
   "metadata": {
    "id": "2InHEBaNwka9"
   },
   "source": [
    "## Импорты и инициализация библиотек"
   ]
  },
  {
   "cell_type": "code",
   "execution_count": 78,
   "metadata": {
    "colab": {
     "base_uri": "https://localhost:8080/"
    },
    "id": "rfiP2-whTmqv",
    "outputId": "d028d371-2136-408c-bb38-c255c7239e5b"
   },
   "outputs": [
    {
     "name": "stderr",
     "output_type": "stream",
     "text": [
      "[nltk_data] Downloading package punkt to\n",
      "[nltk_data]     /home/starminalush/nltk_data...\n",
      "[nltk_data]   Package punkt is already up-to-date!\n",
      "[nltk_data] Downloading package stopwords to\n",
      "[nltk_data]     /home/starminalush/nltk_data...\n",
      "[nltk_data]   Package stopwords is already up-to-date!\n"
     ]
    }
   ],
   "source": [
    "import os\n",
    "import random\n",
    "from collections import Counter\n",
    "from typing import Tuple\n",
    "\n",
    "import matplotlib.pyplot as plt\n",
    "import nltk\n",
    "import numpy as np\n",
    "import opendatasets as od\n",
    "import pandas as pd\n",
    "import torch\n",
    "import torch.nn as nn\n",
    "import torch.nn.functional as F\n",
    "from nltk.corpus import stopwords\n",
    "from nltk.tokenize import WordPunctTokenizer, sent_tokenize\n",
    "from sklearn.model_selection import train_test_split\n",
    "from torch.utils.data import DataLoader, Dataset\n",
    "from torchmetrics import F1Score\n",
    "from tqdm import tqdm\n",
    "from tqdm._tqdm_notebook import tqdm_notebook\n",
    "\n",
    "nltk.download(\"punkt\")\n",
    "nltk.download(\"stopwords\")\n",
    "tqdm_notebook.pandas()"
   ]
  },
  {
   "cell_type": "markdown",
   "metadata": {
    "id": "Zc0Ld68UwbrT"
   },
   "source": [
    "Фиксируем random seed для воспроизводимости"
   ]
  },
  {
   "cell_type": "code",
   "execution_count": 35,
   "metadata": {
    "id": "6hl96xUFwZto"
   },
   "outputs": [],
   "source": [
    "RANDOM_SEED = 42\n",
    "\n",
    "random.seed(RANDOM_SEED)\n",
    "os.environ[\"PYTHONHASHSEED\"] = str(RANDOM_SEED)\n",
    "np.random.seed(RANDOM_SEED)\n",
    "torch.manual_seed(RANDOM_SEED)\n",
    "torch.cuda.manual_seed(RANDOM_SEED)"
   ]
  },
  {
   "cell_type": "code",
   "execution_count": 36,
   "metadata": {
    "id": "m3Vga1Un_1kw"
   },
   "outputs": [],
   "source": [
    "tokenizer = WordPunctTokenizer()\n",
    "english_stopwords = set(stopwords.words(\"english\"))"
   ]
  },
  {
   "cell_type": "code",
   "execution_count": 37,
   "metadata": {
    "id": "wgAuegVt9Dpl"
   },
   "outputs": [],
   "source": [
    "MAX_SENTENSE_LEN = 300\n",
    "MIN_FREQUENCY_OF_OCCURRENCE = 20"
   ]
  },
  {
   "cell_type": "markdown",
   "metadata": {
    "id": "GTdCezoxwRcb"
   },
   "source": [
    "## Скачиваем датасет, делаем предобработку"
   ]
  },
  {
   "cell_type": "code",
   "execution_count": 38,
   "metadata": {
    "colab": {
     "base_uri": "https://localhost:8080/"
    },
    "id": "lawAmxlcTx1Y",
    "outputId": "02d0d63a-e85a-4b6d-c35b-504688405d47"
   },
   "outputs": [
    {
     "name": "stdout",
     "output_type": "stream",
     "text": [
      "Skipping, found downloaded files in \"./fake-and-real-news-dataset\" (use force=True to force download)\n"
     ]
    }
   ],
   "source": [
    "od.download(\"http://www.kaggle.com/datasets/clmentbisaillon/fake-and-real-news-dataset\")"
   ]
  },
  {
   "cell_type": "markdown",
   "metadata": {
    "id": "Lg3QzRbTUnY9"
   },
   "source": [
    "Мешаем два датасета в 1"
   ]
  },
  {
   "cell_type": "code",
   "execution_count": 39,
   "metadata": {
    "id": "f_GxfpOddWZh"
   },
   "outputs": [],
   "source": [
    "df_true = pd.read_csv(\"fake-and-real-news-dataset/True.csv\")\n",
    "df_true[\"text\"] = df_true[\"text\"].apply(lambda x: x[x.find(\")\") + 3 :])\n",
    "df_true[\"label\"] = 1\n",
    "df_fake = pd.read_csv(\"fake-and-real-news-dataset/Fake.csv\")\n",
    "df_fake[\"label\"] = 0\n",
    "\n",
    "df = pd.concat([df_true, df_fake])\n",
    "\n",
    "df[\"text\"] = df[\"title\"] + \" \" + df[\"text\"]\n",
    "df.drop([\"title\", \"subject\", \"date\"], axis=1, inplace=True)\n",
    "df = df.sample(frac=1, random_state=RANDOM_SEED)\n",
    "df.reset_index(drop=True, inplace=True)"
   ]
  },
  {
   "cell_type": "markdown",
   "metadata": {
    "id": "tMh0HHb_6L5s"
   },
   "source": [
    "Делаем препроцессинг текста"
   ]
  },
  {
   "cell_type": "code",
   "execution_count": 42,
   "metadata": {
    "id": "X_lhg1OqeGAB"
   },
   "outputs": [],
   "source": [
    "def preprocess(text: str) -> str:\n",
    "    return \" \".join(\n",
    "        [\n",
    "            word\n",
    "            for word in tokenizer.tokenize(text)\n",
    "            if word.isalnum() and word not in english_stopwords\n",
    "        ]\n",
    "    ).lower()"
   ]
  },
  {
   "cell_type": "code",
   "execution_count": 43,
   "metadata": {
    "colab": {
     "base_uri": "https://localhost:8080/",
     "height": 84,
     "referenced_widgets": [
      "e6528c3590234ece92c591c4c3523c7f",
      "2f122b33bfd144d8aa4bc2453cf83900",
      "28a1496645854734a69acc56bf44a963",
      "2488f0e2508d47aab9f7f6fbfbbfe1e6",
      "eff1a013a4274375ab79000d4e578730",
      "2e78dcd6b8874b4eb4d59f2abd61c94b",
      "79d973c1f2b640f9bee09b6b220b5986",
      "de3340af32ba4c29b2c7cbe52a90a8d6",
      "8ca840589a604eedb72282e3614f513a",
      "f9f4f71c677949aaa133fcad53368f32",
      "e9eebbb7b47e49edbb25d58df62dc35e"
     ]
    },
    "id": "aBpu7GdKYx7_",
    "outputId": "b50339b8-f4c5-425f-a739-759f74b22f04"
   },
   "outputs": [
    {
     "data": {
      "application/vnd.jupyter.widget-view+json": {
       "model_id": "c0fb9523ced641528aeb65b5d272dafd",
       "version_major": 2,
       "version_minor": 0
      },
      "text/plain": [
       "  0%|          | 0/44898 [00:00<?, ?it/s]"
      ]
     },
     "metadata": {},
     "output_type": "display_data"
    },
    {
     "name": "stdout",
     "output_type": "stream",
     "text": [
      "CPU times: user 12.5 s, sys: 66.6 ms, total: 12.5 s\n",
      "Wall time: 12.5 s\n"
     ]
    }
   ],
   "source": [
    "%%time\n",
    "df[\"text\"] = df[\"text\"].progress_apply(lambda x: preprocess(x))"
   ]
  },
  {
   "cell_type": "markdown",
   "metadata": {
    "id": "yEMd-gXDxy1D"
   },
   "source": [
    "## Конвертация в векторное представление"
   ]
  },
  {
   "cell_type": "code",
   "execution_count": 45,
   "metadata": {
    "id": "d9EwA1EHd2CY"
   },
   "outputs": [],
   "source": [
    "token_counts = Counter()\n",
    "for sentence in df[\"text\"]:\n",
    "    token_counts.update([word for word in sentence.split() if word.isalnum()])"
   ]
  },
  {
   "cell_type": "code",
   "execution_count": 75,
   "metadata": {
    "colab": {
     "base_uri": "https://localhost:8080/"
    },
    "id": "KJCsFi8Je2NI",
    "outputId": "00834963-4c09-4e68-a456-4eeb596a8062"
   },
   "outputs": [
    {
     "name": "stdout",
     "output_type": "stream",
     "text": [
      "Количество уникальных токенов : 121230\n",
      "Топ-5 самых часто и редко встречающихся: \n",
      "\n",
      "('trump', 148729)\n",
      "('said', 132987)\n",
      "('the', 123247)\n",
      "('i', 62678)\n",
      "('u', 59377)\n",
      "...\n",
      "('unrolled', 1)\n",
      "('pjkyqx', 1)\n",
      "('nelini', 1)\n",
      "('governmentsachs', 1)\n",
      "('durkee', 1)\n"
     ]
    }
   ],
   "source": [
    "print(\"Количество уникальных токенов :\", len(token_counts))\n",
    "print(\"Топ-5 самых часто и редко встречающихся: \\n\")\n",
    "print(\"\\n\".join(map(str, token_counts.most_common(n=5))))\n",
    "print(\"...\")\n",
    "print(\"\\n\".join(map(str, token_counts.most_common()[-5:])))"
   ]
  },
  {
   "cell_type": "code",
   "execution_count": 47,
   "metadata": {
    "colab": {
     "base_uri": "https://localhost:8080/",
     "height": 489
    },
    "id": "EMA9ra-5e5ly",
    "outputId": "65af4414-c037-41cd-95ee-1be40c6bdc88"
   },
   "outputs": [
    {
     "data": {
      "text/plain": [
       "Text(0, 0.5, 'Частота')"
      ]
     },
     "execution_count": 47,
     "metadata": {},
     "output_type": "execute_result"
    },
    {
     "data": {
      "image/png": "[encoded data removed]",
      "text/plain": [
       "<Figure size 640x480 with 1 Axes>"
      ]
     },
     "metadata": {},
     "output_type": "display_data"
    }
   ],
   "source": [
    "plt.hist(list(token_counts.values()), range=[0, 10**4], bins=50, log=True)\n",
    "plt.title(\"График частотности слов\")\n",
    "plt.xlabel(\"Количество слов\")\n",
    "plt.ylabel(\"Частота\")"
   ]
  },
  {
   "cell_type": "markdown",
   "metadata": {
    "id": "3CzDXAnrzB7c"
   },
   "source": [
    "Отсеиваем слова, которые встретились меньше 20 раз как слова с ошибками, опечатками, или просто те, которые очень редки"
   ]
  },
  {
   "cell_type": "code",
   "execution_count": 48,
   "metadata": {
    "id": "zNDWIr9Ke9O9"
   },
   "outputs": [],
   "source": [
    "tokens = sorted(t for t, c in token_counts.items() if c >= MIN_FREQUENCY_OF_OCCURRENCE)"
   ]
  },
  {
   "cell_type": "markdown",
   "metadata": {
    "id": "y9qj7ydbzNGP"
   },
   "source": [
    "Добавляем токен паддинга и токен для слова, которого нет в словаре"
   ]
  },
  {
   "cell_type": "code",
   "execution_count": 49,
   "metadata": {
    "id": "HE5s-hEEzRPA"
   },
   "outputs": [],
   "source": [
    "UNK, PAD = \"unk\", \"pad\"\n",
    "tokens = [UNK, PAD] + tokens"
   ]
  },
  {
   "cell_type": "code",
   "execution_count": 50,
   "metadata": {
    "id": "O0luAZJPfFTF"
   },
   "outputs": [],
   "source": [
    "token_to_id = {tok: id for id, tok in enumerate(tokens, 1)}"
   ]
  },
  {
   "cell_type": "markdown",
   "metadata": {
    "id": "r134AyeBzdbE"
   },
   "source": [
    "Конвертируем текст в векторное представление"
   ]
  },
  {
   "cell_type": "code",
   "execution_count": 76,
   "metadata": {
    "id": "3whop7n0fRbm"
   },
   "outputs": [],
   "source": [
    "UNK_IDX, PAD_IDX = map(token_to_id.get, [UNK, PAD])\n",
    "\n",
    "\n",
    "def text_to_vector(text, max_len) -> np.ndarray:\n",
    "    vector = np.full(max_len, np.int32(PAD_IDX))\n",
    "    text_idx = [token_to_id.get(word, UNK_IDX) for word in text[:max_len]]\n",
    "    vector[: len(text_idx)] = text_idx\n",
    "    return vector"
   ]
  },
  {
   "cell_type": "code",
   "execution_count": 60,
   "metadata": {
    "colab": {
     "base_uri": "https://localhost:8080/"
    },
    "id": "1mPfvVOVitMI",
    "outputId": "4839c039-2739-42d8-8154-4f83db6cdd50"
   },
   "outputs": [
    {
     "name": "stderr",
     "output_type": "stream",
     "text": [
      "100%|██████████████████████████████████████████████████████████████████████████████████████████████████████████████████████████████████████████████████████████████████████████████████| 44898/44898 [00:02<00:00, 21300.28it/s]\n"
     ]
    }
   ],
   "source": [
    "X = np.array(\n",
    "    [text_to_vector(text, MAX_SENTENSE_LEN) for text in tqdm(df[\"text\"])],\n",
    "    dtype=np.int32,\n",
    ")"
   ]
  },
  {
   "cell_type": "code",
   "execution_count": 61,
   "metadata": {
    "id": "iaDBLQ_yk5qU"
   },
   "outputs": [],
   "source": [
    "y = df[\"label\"].to_numpy()"
   ]
  },
  {
   "cell_type": "markdown",
   "metadata": {
    "id": "0pGRsqjP9e7z"
   },
   "source": [
    "## Обучение сетей"
   ]
  },
  {
   "cell_type": "markdown",
   "metadata": {},
   "source": [
    "Разделим данные на обучающую и тестовую выборки"
   ]
  },
  {
   "cell_type": "code",
   "execution_count": 62,
   "metadata": {
    "id": "GDkNdZQQi-XR"
   },
   "outputs": [],
   "source": [
    "X_train, X_test, y_train, y_test = train_test_split(\n",
    "    X, y, test_size=0.2, random_state=RANDOM_SEED\n",
    ")"
   ]
  },
  {
   "cell_type": "markdown",
   "metadata": {},
   "source": [
    "Создадим 2 класса моделей для классификации текста: одну сверточную, вторую LSTM"
   ]
  },
  {
   "cell_type": "code",
   "execution_count": 63,
   "metadata": {
    "id": "ys3bCCEPkvdq"
   },
   "outputs": [],
   "source": [
    "class NewsClassifierCNN(nn.Module):\n",
    "    def __init__(\n",
    "        self,\n",
    "        num_classes: int,\n",
    "        vocab_size: int,\n",
    "        embedding_dim=300,\n",
    "        kernels=(3, 4, 5),\n",
    "        num_filters=[128, 128, 128],\n",
    "    ):\n",
    "        super().__init__()\n",
    "        self.embedding = nn.Embedding(vocab_size, embedding_dim)\n",
    "        self.conv1d_list = nn.ModuleList(\n",
    "            [\n",
    "                nn.Conv1d(\n",
    "                    in_channels=embedding_dim,\n",
    "                    out_channels=num_filters[i],\n",
    "                    kernel_size=kernels[i],\n",
    "                )\n",
    "                for i in range(len(kernels))\n",
    "            ]\n",
    "        )\n",
    "        self.dropout = nn.Dropout(0.2)\n",
    "        self.linear = nn.Linear(np.sum(num_filters), num_classes)\n",
    "\n",
    "    def forward(self, x):\n",
    "        output = self.embedding(x)\n",
    "        output = output.permute(0, 2, 1)  # bs, emb_dim, len\n",
    "        x_conv_list = [F.relu(conv1d(output)) for conv1d in self.conv1d_list]\n",
    "\n",
    "        x_pool_list = [\n",
    "            F.max_pool1d(x_conv, kernel_size=x_conv.shape[2]) for x_conv in x_conv_list\n",
    "        ]\n",
    "\n",
    "        x_fc = torch.cat([x_pool.squeeze(dim=2) for x_pool in x_pool_list], dim=1)\n",
    "\n",
    "        return self.linear(self.dropout(x_fc))"
   ]
  },
  {
   "cell_type": "code",
   "execution_count": 64,
   "metadata": {},
   "outputs": [],
   "source": [
    "class NewsClassifierLSTM(nn.Module):\n",
    "    def __init__(\n",
    "        self,\n",
    "        vocab_size: int,\n",
    "        num_classes: int,\n",
    "        embedding_dim: int = 300,\n",
    "        hidden_size: int = 300,\n",
    "    ):\n",
    "        super().__init__()\n",
    "        self.embedding = nn.Embedding(\n",
    "            num_embeddings=vocab_size, embedding_dim=embedding_dim\n",
    "        )\n",
    "        self.lstm = nn.LSTM(\n",
    "            input_size=embedding_dim,\n",
    "            hidden_size=hidden_size,\n",
    "            batch_first=True,\n",
    "        )\n",
    "        self.linear = nn.Linear(hidden_size, num_classes)\n",
    "\n",
    "    def forward(self, x):\n",
    "        embeddings = self.embedding(x)\n",
    "        output, (hidden, carry) = self.lstm(embeddings)\n",
    "        return self.linear(hidden[-1])"
   ]
  },
  {
   "cell_type": "markdown",
   "metadata": {},
   "source": [
    "Создадим класс датасета"
   ]
  },
  {
   "cell_type": "code",
   "execution_count": 65,
   "metadata": {
    "id": "9ncwi5h8lSQW"
   },
   "outputs": [],
   "source": [
    "class NewsDatasetWrapper(Dataset):\n",
    "    def __init__(self, data, target=None):\n",
    "        self.data = torch.from_numpy(data).long()\n",
    "        if target is not None:\n",
    "            self.target = torch.from_numpy(target).long()\n",
    "        else:\n",
    "            self.target = None\n",
    "\n",
    "    def __getitem__(self, index):\n",
    "        x = self.data[index]\n",
    "        y = self.target[index] if self.target is not None else -1\n",
    "        return x, y\n",
    "\n",
    "    def __len__(self):\n",
    "        return len(self.data)"
   ]
  },
  {
   "cell_type": "markdown",
   "metadata": {},
   "source": [
    "Запускаем обучение моделей"
   ]
  },
  {
   "cell_type": "code",
   "execution_count": 66,
   "metadata": {},
   "outputs": [],
   "source": [
    "batch_size = 256\n",
    "epochs = 10\n",
    "num_classes = 2\n",
    "vocab_size = len(token_to_id)\n",
    "device = torch.device(\"cuda:0\") if torch.cuda.is_available() else torch.device(\"cpu\")\n",
    "train_dataset = NewsDatasetWrapper(X_train, y_train)\n",
    "test_dataset = NewsDatasetWrapper(X_test, y_test)\n",
    "\n",
    "dataloaders = {\n",
    "    \"train\": DataLoader(train_dataset, batch_size=batch_size, shuffle=True),\n",
    "    \"test\": DataLoader(test_dataset, batch_size=batch_size, shuffle=True),\n",
    "}"
   ]
  },
  {
   "cell_type": "code",
   "execution_count": 68,
   "metadata": {
    "id": "f-A-0tatlYcI"
   },
   "outputs": [],
   "source": [
    "model_cnn = NewsClassifierCNN(vocab_size=vocab_size, num_classes=num_classes).to(device)\n",
    "\n",
    "model_lstm = NewsClassifierLSTM(vocab_size=vocab_size, num_classes=num_classes).to(\n",
    "    device\n",
    ")"
   ]
  },
  {
   "cell_type": "code",
   "execution_count": 70,
   "metadata": {},
   "outputs": [],
   "source": [
    "def plot_loss_history(loss_history: list[float], title: str) -> None:\n",
    "    plt.title(title)\n",
    "    plt.grid(True)\n",
    "    plt.ylabel(\"Validation loss\")\n",
    "    plt.xlabel(\"Step\")\n",
    "    plt.plot(loss_history)\n",
    "    plt.show()"
   ]
  },
  {
   "cell_type": "code",
   "execution_count": 77,
   "metadata": {
    "id": "Pmv3onTeAZYJ"
   },
   "outputs": [],
   "source": [
    "def train_model(\n",
    "    model, criterion, optimizer, metric, num_epochs=25\n",
    ") -> Tuple[list[float], list[float], float]:\n",
    "    losses, metrics = [], []\n",
    "    best_metric = 0.0\n",
    "    for epoch in tqdm(range(num_epochs)):\n",
    "        for phase in [\"train\", \"test\"]:\n",
    "            if phase == \"train\":\n",
    "                model.train()\n",
    "            else:\n",
    "                model.eval()\n",
    "            running_loss = 0.0\n",
    "            for inputs, labels in dataloaders[phase]:\n",
    "                optimizer.zero_grad()\n",
    "                inputs = inputs.to(device)\n",
    "                labels = labels.to(device)\n",
    "                outputs = model(inputs)\n",
    "                loss = criterion(outputs, labels)\n",
    "                if phase == \"train\":\n",
    "                    loss.backward()\n",
    "                    optimizer.step()\n",
    "                running_loss += loss.item()\n",
    "                if phase == \"test\":\n",
    "                    metric.update(outputs.argmax(1), labels)\n",
    "\n",
    "        epoch_loss = running_loss / len(dataloaders[phase])\n",
    "        epoch_metric = metric.compute()\n",
    "        best_metric = epoch_metric if epoch_metric > best_metric else best_metric\n",
    "        losses.append(epoch_loss)\n",
    "        metrics.append(float(epoch_metric))\n",
    "        print(\n",
    "            f\"Epoch: {epoch}, Loss: {epoch_loss:.4f}, Metric: {metric.__class__.__name__}: {epoch_metric:.4f}\"\n",
    "        )\n",
    "    return losses, metrics, best_metric"
   ]
  },
  {
   "cell_type": "code",
   "execution_count": 72,
   "metadata": {},
   "outputs": [
    {
     "name": "stdout",
     "output_type": "stream",
     "text": [
      "Start train NewsClassifierLSTM...\n"
     ]
    },
    {
     "name": "stderr",
     "output_type": "stream",
     "text": [
      " 10%|██████████████████▊                                                                                                                                                                         | 1/10 [00:42<06:19, 42.22s/it]"
     ]
    },
    {
     "name": "stdout",
     "output_type": "stream",
     "text": [
      "Epoch: 0, Loss: 0.6821, Metric: BinaryF1Score: 0.4860\n"
     ]
    },
    {
     "name": "stderr",
     "output_type": "stream",
     "text": [
      " 20%|█████████████████████████████████████▌                                                                                                                                                      | 2/10 [01:24<05:37, 42.19s/it]"
     ]
    },
    {
     "name": "stdout",
     "output_type": "stream",
     "text": [
      "Epoch: 1, Loss: 0.3877, Metric: BinaryF1Score: 0.6732\n"
     ]
    },
    {
     "name": "stderr",
     "output_type": "stream",
     "text": [
      " 30%|████████████████████████████████████████████████████████▍                                                                                                                                   | 3/10 [02:08<05:00, 42.86s/it]"
     ]
    },
    {
     "name": "stdout",
     "output_type": "stream",
     "text": [
      "Epoch: 2, Loss: 0.1765, Metric: BinaryF1Score: 0.7585\n"
     ]
    },
    {
     "name": "stderr",
     "output_type": "stream",
     "text": [
      " 40%|███████████████████████████████████████████████████████████████████████████▏                                                                                                                | 4/10 [02:53<04:22, 43.78s/it]"
     ]
    },
    {
     "name": "stdout",
     "output_type": "stream",
     "text": [
      "Epoch: 3, Loss: 0.1285, Metric: BinaryF1Score: 0.8057\n"
     ]
    },
    {
     "name": "stderr",
     "output_type": "stream",
     "text": [
      " 50%|██████████████████████████████████████████████████████████████████████████████████████████████                                                                                              | 5/10 [03:38<03:41, 44.37s/it]"
     ]
    },
    {
     "name": "stdout",
     "output_type": "stream",
     "text": [
      "Epoch: 4, Loss: 0.0855, Metric: BinaryF1Score: 0.8380\n"
     ]
    },
    {
     "name": "stderr",
     "output_type": "stream",
     "text": [
      " 60%|████████████████████████████████████████████████████████████████████████████████████████████████████████████████▊                                                                           | 6/10 [04:24<02:59, 44.95s/it]"
     ]
    },
    {
     "name": "stdout",
     "output_type": "stream",
     "text": [
      "Epoch: 5, Loss: 0.0918, Metric: BinaryF1Score: 0.8592\n"
     ]
    },
    {
     "name": "stderr",
     "output_type": "stream",
     "text": [
      " 70%|███████████████████████████████████████████████████████████████████████████████████████████████████████████████████████████████████▌                                                        | 7/10 [05:10<02:15, 45.21s/it]"
     ]
    },
    {
     "name": "stdout",
     "output_type": "stream",
     "text": [
      "Epoch: 6, Loss: 0.0494, Metric: BinaryF1Score: 0.8770\n"
     ]
    },
    {
     "name": "stderr",
     "output_type": "stream",
     "text": [
      " 80%|██████████████████████████████████████████████████████████████████████████████████████████████████████████████████████████████████████████████████████▍                                     | 8/10 [05:56<01:31, 45.52s/it]"
     ]
    },
    {
     "name": "stdout",
     "output_type": "stream",
     "text": [
      "Epoch: 7, Loss: 0.0350, Metric: BinaryF1Score: 0.8911\n"
     ]
    },
    {
     "name": "stderr",
     "output_type": "stream",
     "text": [
      " 90%|█████████████████████████████████████████████████████████████████████████████████████████████████████████████████████████████████████████████████████████████████████████▏                  | 9/10 [06:43<00:45, 45.83s/it]"
     ]
    },
    {
     "name": "stdout",
     "output_type": "stream",
     "text": [
      "Epoch: 8, Loss: 0.0428, Metric: BinaryF1Score: 0.9019\n"
     ]
    },
    {
     "name": "stderr",
     "output_type": "stream",
     "text": [
      "100%|███████████████████████████████████████████████████████████████████████████████████████████████████████████████████████████████████████████████████████████████████████████████████████████| 10/10 [08:02<00:00, 48.25s/it]"
     ]
    },
    {
     "name": "stdout",
     "output_type": "stream",
     "text": [
      "Epoch: 9, Loss: 0.0472, Metric: BinaryF1Score: 0.9101\n",
      "Best f1 metric of NewsClassifierLSTM: 0.9101133942604065 \n"
     ]
    },
    {
     "name": "stderr",
     "output_type": "stream",
     "text": [
      "\n"
     ]
    },
    {
     "data": {
      "image/png": "[encoded data removed]",
      "text/plain": [
       "<Figure size 640x480 with 1 Axes>"
      ]
     },
     "metadata": {},
     "output_type": "display_data"
    },
    {
     "name": "stdout",
     "output_type": "stream",
     "text": [
      "Start train NewsClassifierCNN...\n"
     ]
    },
    {
     "name": "stderr",
     "output_type": "stream",
     "text": [
      " 10%|██████████████████▊                                                                                                                                                                         | 1/10 [00:36<05:26, 36.23s/it]"
     ]
    },
    {
     "name": "stdout",
     "output_type": "stream",
     "text": [
      "Epoch: 0, Loss: 0.0610, Metric: BinaryF1Score: 0.9787\n"
     ]
    },
    {
     "name": "stderr",
     "output_type": "stream",
     "text": [
      " 20%|█████████████████████████████████████▌                                                                                                                                                      | 2/10 [01:10<04:40, 35.04s/it]"
     ]
    },
    {
     "name": "stdout",
     "output_type": "stream",
     "text": [
      "Epoch: 1, Loss: 0.0417, Metric: BinaryF1Score: 0.9818\n"
     ]
    },
    {
     "name": "stderr",
     "output_type": "stream",
     "text": [
      " 30%|████████████████████████████████████████████████████████▍                                                                                                                                   | 3/10 [01:44<04:03, 34.73s/it]"
     ]
    },
    {
     "name": "stdout",
     "output_type": "stream",
     "text": [
      "Epoch: 2, Loss: 0.0450, Metric: BinaryF1Score: 0.9827\n"
     ]
    },
    {
     "name": "stderr",
     "output_type": "stream",
     "text": [
      " 40%|███████████████████████████████████████████████████████████████████████████▏                                                                                                                | 4/10 [02:19<03:27, 34.63s/it]"
     ]
    },
    {
     "name": "stdout",
     "output_type": "stream",
     "text": [
      "Epoch: 3, Loss: 0.0327, Metric: BinaryF1Score: 0.9839\n"
     ]
    },
    {
     "name": "stderr",
     "output_type": "stream",
     "text": [
      " 50%|██████████████████████████████████████████████████████████████████████████████████████████████                                                                                              | 5/10 [02:53<02:52, 34.51s/it]"
     ]
    },
    {
     "name": "stdout",
     "output_type": "stream",
     "text": [
      "Epoch: 4, Loss: 0.0346, Metric: BinaryF1Score: 0.9845\n"
     ]
    },
    {
     "name": "stderr",
     "output_type": "stream",
     "text": [
      " 60%|████████████████████████████████████████████████████████████████████████████████████████████████████████████████▊                                                                           | 6/10 [03:28<02:18, 34.51s/it]"
     ]
    },
    {
     "name": "stdout",
     "output_type": "stream",
     "text": [
      "Epoch: 5, Loss: 0.0316, Metric: BinaryF1Score: 0.9855\n"
     ]
    },
    {
     "name": "stderr",
     "output_type": "stream",
     "text": [
      " 70%|███████████████████████████████████████████████████████████████████████████████████████████████████████████████████████████████████▌                                                        | 7/10 [04:02<01:43, 34.41s/it]"
     ]
    },
    {
     "name": "stdout",
     "output_type": "stream",
     "text": [
      "Epoch: 6, Loss: 0.0305, Metric: BinaryF1Score: 0.9857\n"
     ]
    },
    {
     "name": "stderr",
     "output_type": "stream",
     "text": [
      " 80%|██████████████████████████████████████████████████████████████████████████████████████████████████████████████████████████████████████████████████████▍                                     | 8/10 [04:36<01:08, 34.35s/it]"
     ]
    },
    {
     "name": "stdout",
     "output_type": "stream",
     "text": [
      "Epoch: 7, Loss: 0.0278, Metric: BinaryF1Score: 0.9861\n"
     ]
    },
    {
     "name": "stderr",
     "output_type": "stream",
     "text": [
      " 90%|█████████████████████████████████████████████████████████████████████████████████████████████████████████████████████████████████████████████████████████████████████████▏                  | 9/10 [05:10<00:34, 34.37s/it]"
     ]
    },
    {
     "name": "stdout",
     "output_type": "stream",
     "text": [
      "Epoch: 8, Loss: 0.0289, Metric: BinaryF1Score: 0.9865\n"
     ]
    },
    {
     "name": "stderr",
     "output_type": "stream",
     "text": [
      "100%|███████████████████████████████████████████████████████████████████████████████████████████████████████████████████████████████████████████████████████████████████████████████████████████| 10/10 [05:45<00:00, 34.54s/it]"
     ]
    },
    {
     "name": "stdout",
     "output_type": "stream",
     "text": [
      "Epoch: 9, Loss: 0.0330, Metric: BinaryF1Score: 0.9864\n",
      "Best f1 metric of NewsClassifierCNN: 0.9864810705184937 \n"
     ]
    },
    {
     "name": "stderr",
     "output_type": "stream",
     "text": [
      "\n"
     ]
    },
    {
     "data": {
      "image/png": "[encoded data removed]",
      "text/plain": [
       "<Figure size 640x480 with 1 Axes>"
      ]
     },
     "metadata": {},
     "output_type": "display_data"
    }
   ],
   "source": [
    "for model in (model_lstm, model_cnn):\n",
    "    optimizer = torch.optim.Adam(model.parameters(), lr=1e-3)\n",
    "    criterion = nn.CrossEntropyLoss()\n",
    "    model_name = model.__class__.__name__\n",
    "    print(f\"Start train {model_name}...\")\n",
    "    f1_score_fn = F1Score(task=\"binary\", num_classes=num_classes).to(device)\n",
    "    val_losses, val_metrics, best_metric = train_model(\n",
    "        model, criterion, optimizer, f1_score_fn, epochs\n",
    "    )\n",
    "    print(f\"Best f1 metric of {model_name}: {best_metric} \")\n",
    "    plot_loss_history(val_losses, f\"Validation loss history of {model_name}\")"
   ]
  },
  {
   "cell_type": "markdown",
   "metadata": {
    "id": "QBlSOOejzrYZ"
   },
   "source": [
    "Вывод: по результатам обучения лучше себя показала модель, основанная на свертках, потому что для LSTM вектор из 300 слов, видимо, мало"
   ]
  }
 ],
 "metadata": {
  "accelerator": "GPU",
  "colab": {
   "gpuType": "T4",
   "provenance": []
  },
  "kernelspec": {
   "display_name": "Python 3 (ipykernel)",
   "language": "python",
   "name": "python3"
  },
  "language_info": {
   "codemirror_mode": {
    "name": "ipython",
    "version": 3
   },
   "file_extension": ".py",
   "mimetype": "text/x-python",
   "name": "python",
   "nbconvert_exporter": "python",
   "pygments_lexer": "ipython3",
   "version": "3.10.12"
  },
  "widgets": {
   "application/vnd.jupyter.widget-state+json": {
    "2488f0e2508d47aab9f7f6fbfbbfe1e6": {
     "model_module": "@jupyter-widgets/controls",
     "model_module_version": "1.5.0",
     "model_name": "HTMLModel",
     "state": {
      "_dom_classes": [],
      "_model_module": "@jupyter-widgets/controls",
      "_model_module_version": "1.5.0",
      "_model_name": "HTMLModel",
      "_view_count": null,
      "_view_module": "@jupyter-widgets/controls",
      "_view_module_version": "1.5.0",
      "_view_name": "HTMLView",
      "description": "",
      "description_tooltip": null,
      "layout": "IPY_MODEL_f9f4f71c677949aaa133fcad53368f32",
      "placeholder": "​",
      "style": "IPY_MODEL_e9eebbb7b47e49edbb25d58df62dc35e",
      "value": " 44898/44898 [44:22&lt;00:00, 25.17it/s]"
     }
    },
    "28a1496645854734a69acc56bf44a963": {
     "model_module": "@jupyter-widgets/controls",
     "model_module_version": "1.5.0",
     "model_name": "FloatProgressModel",
     "state": {
      "_dom_classes": [],
      "_model_module": "@jupyter-widgets/controls",
      "_model_module_version": "1.5.0",
      "_model_name": "FloatProgressModel",
      "_view_count": null,
      "_view_module": "@jupyter-widgets/controls",
      "_view_module_version": "1.5.0",
      "_view_name": "ProgressView",
      "bar_style": "success",
      "description": "",
      "description_tooltip": null,
      "layout": "IPY_MODEL_de3340af32ba4c29b2c7cbe52a90a8d6",
      "max": 44898,
      "min": 0,
      "orientation": "horizontal",
      "style": "IPY_MODEL_8ca840589a604eedb72282e3614f513a",
      "value": 44898
     }
    },
    "2e78dcd6b8874b4eb4d59f2abd61c94b": {
     "model_module": "@jupyter-widgets/base",
     "model_module_version": "1.2.0",
     "model_name": "LayoutModel",
     "state": {
      "_model_module": "@jupyter-widgets/base",
      "_model_module_version": "1.2.0",
      "_model_name": "LayoutModel",
      "_view_count": null,
      "_view_module": "@jupyter-widgets/base",
      "_view_module_version": "1.2.0",
      "_view_name": "LayoutView",
      "align_content": null,
      "align_items": null,
      "align_self": null,
      "border": null,
      "bottom": null,
      "display": null,
      "flex": null,
      "flex_flow": null,
      "grid_area": null,
      "grid_auto_columns": null,
      "grid_auto_flow": null,
      "grid_auto_rows": null,
      "grid_column": null,
      "grid_gap": null,
      "grid_row": null,
      "grid_template_areas": null,
      "grid_template_columns": null,
      "grid_template_rows": null,
      "height": null,
      "justify_content": null,
      "justify_items": null,
      "left": null,
      "margin": null,
      "max_height": null,
      "max_width": null,
      "min_height": null,
      "min_width": null,
      "object_fit": null,
      "object_position": null,
      "order": null,
      "overflow": null,
      "overflow_x": null,
      "overflow_y": null,
      "padding": null,
      "right": null,
      "top": null,
      "visibility": null,
      "width": null
     }
    },
    "2f122b33bfd144d8aa4bc2453cf83900": {
     "model_module": "@jupyter-widgets/controls",
     "model_module_version": "1.5.0",
     "model_name": "HTMLModel",
     "state": {
      "_dom_classes": [],
      "_model_module": "@jupyter-widgets/controls",
      "_model_module_version": "1.5.0",
      "_model_name": "HTMLModel",
      "_view_count": null,
      "_view_module": "@jupyter-widgets/controls",
      "_view_module_version": "1.5.0",
      "_view_name": "HTMLView",
      "description": "",
      "description_tooltip": null,
      "layout": "IPY_MODEL_2e78dcd6b8874b4eb4d59f2abd61c94b",
      "placeholder": "​",
      "style": "IPY_MODEL_79d973c1f2b640f9bee09b6b220b5986",
      "value": "Pandas Apply: 100%"
     }
    },
    "79d973c1f2b640f9bee09b6b220b5986": {
     "model_module": "@jupyter-widgets/controls",
     "model_module_version": "1.5.0",
     "model_name": "DescriptionStyleModel",
     "state": {
      "_model_module": "@jupyter-widgets/controls",
      "_model_module_version": "1.5.0",
      "_model_name": "DescriptionStyleModel",
      "_view_count": null,
      "_view_module": "@jupyter-widgets/base",
      "_view_module_version": "1.2.0",
      "_view_name": "StyleView",
      "description_width": ""
     }
    },
    "8ca840589a604eedb72282e3614f513a": {
     "model_module": "@jupyter-widgets/controls",
     "model_module_version": "1.5.0",
     "model_name": "ProgressStyleModel",
     "state": {
      "_model_module": "@jupyter-widgets/controls",
      "_model_module_version": "1.5.0",
      "_model_name": "ProgressStyleModel",
      "_view_count": null,
      "_view_module": "@jupyter-widgets/base",
      "_view_module_version": "1.2.0",
      "_view_name": "StyleView",
      "bar_color": null,
      "description_width": ""
     }
    },
    "de3340af32ba4c29b2c7cbe52a90a8d6": {
     "model_module": "@jupyter-widgets/base",
     "model_module_version": "1.2.0",
     "model_name": "LayoutModel",
     "state": {
      "_model_module": "@jupyter-widgets/base",
      "_model_module_version": "1.2.0",
      "_model_name": "LayoutModel",
      "_view_count": null,
      "_view_module": "@jupyter-widgets/base",
      "_view_module_version": "1.2.0",
      "_view_name": "LayoutView",
      "align_content": null,
      "align_items": null,
      "align_self": null,
      "border": null,
      "bottom": null,
      "display": null,
      "flex": null,
      "flex_flow": null,
      "grid_area": null,
      "grid_auto_columns": null,
      "grid_auto_flow": null,
      "grid_auto_rows": null,
      "grid_column": null,
      "grid_gap": null,
      "grid_row": null,
      "grid_template_areas": null,
      "grid_template_columns": null,
      "grid_template_rows": null,
      "height": null,
      "justify_content": null,
      "justify_items": null,
      "left": null,
      "margin": null,
      "max_height": null,
      "max_width": null,
      "min_height": null,
      "min_width": null,
      "object_fit": null,
      "object_position": null,
      "order": null,
      "overflow": null,
      "overflow_x": null,
      "overflow_y": null,
      "padding": null,
      "right": null,
      "top": null,
      "visibility": null,
      "width": null
     }
    },
    "e6528c3590234ece92c591c4c3523c7f": {
     "model_module": "@jupyter-widgets/controls",
     "model_module_version": "1.5.0",
     "model_name": "HBoxModel",
     "state": {
      "_dom_classes": [],
      "_model_module": "@jupyter-widgets/controls",
      "_model_module_version": "1.5.0",
      "_model_name": "HBoxModel",
      "_view_count": null,
      "_view_module": "@jupyter-widgets/controls",
      "_view_module_version": "1.5.0",
      "_view_name": "HBoxView",
      "box_style": "",
      "children": [
       "IPY_MODEL_2f122b33bfd144d8aa4bc2453cf83900",
       "IPY_MODEL_28a1496645854734a69acc56bf44a963",
       "IPY_MODEL_2488f0e2508d47aab9f7f6fbfbbfe1e6"
      ],
      "layout": "IPY_MODEL_eff1a013a4274375ab79000d4e578730"
     }
    },
    "e9eebbb7b47e49edbb25d58df62dc35e": {
     "model_module": "@jupyter-widgets/controls",
     "model_module_version": "1.5.0",
     "model_name": "DescriptionStyleModel",
     "state": {
      "_model_module": "@jupyter-widgets/controls",
      "_model_module_version": "1.5.0",
      "_model_name": "DescriptionStyleModel",
      "_view_count": null,
      "_view_module": "@jupyter-widgets/base",
      "_view_module_version": "1.2.0",
      "_view_name": "StyleView",
      "description_width": ""
     }
    },
    "eff1a013a4274375ab79000d4e578730": {
     "model_module": "@jupyter-widgets/base",
     "model_module_version": "1.2.0",
     "model_name": "LayoutModel",
     "state": {
      "_model_module": "@jupyter-widgets/base",
      "_model_module_version": "1.2.0",
      "_model_name": "LayoutModel",
      "_view_count": null,
      "_view_module": "@jupyter-widgets/base",
      "_view_module_version": "1.2.0",
      "_view_name": "LayoutView",
      "align_content": null,
      "align_items": null,
      "align_self": null,
      "border": null,
      "bottom": null,
      "display": null,
      "flex": null,
      "flex_flow": null,
      "grid_area": null,
      "grid_auto_columns": null,
      "grid_auto_flow": null,
      "grid_auto_rows": null,
      "grid_column": null,
      "grid_gap": null,
      "grid_row": null,
      "grid_template_areas": null,
      "grid_template_columns": null,
      "grid_template_rows": null,
      "height": null,
      "justify_content": null,
      "justify_items": null,
      "left": null,
      "margin": null,
      "max_height": null,
      "max_width": null,
      "min_height": null,
      "min_width": null,
      "object_fit": null,
      "object_position": null,
      "order": null,
      "overflow": null,
      "overflow_x": null,
      "overflow_y": null,
      "padding": null,
      "right": null,
      "top": null,
      "visibility": null,
      "width": null
     }
    },
    "f9f4f71c677949aaa133fcad53368f32": {
     "model_module": "@jupyter-widgets/base",
     "model_module_version": "1.2.0",
     "model_name": "LayoutModel",
     "state": {
      "_model_module": "@jupyter-widgets/base",
      "_model_module_version": "1.2.0",
      "_model_name": "LayoutModel",
      "_view_count": null,
      "_view_module": "@jupyter-widgets/base",
      "_view_module_version": "1.2.0",
      "_view_name": "LayoutView",
      "align_content": null,
      "align_items": null,
      "align_self": null,
      "border": null,
      "bottom": null,
      "display": null,
      "flex": null,
      "flex_flow": null,
      "grid_area": null,
      "grid_auto_columns": null,
      "grid_auto_flow": null,
      "grid_auto_rows": null,
      "grid_column": null,
      "grid_gap": null,
      "grid_row": null,
      "grid_template_areas": null,
      "grid_template_columns": null,
      "grid_template_rows": null,
      "height": null,
      "justify_content": null,
      "justify_items": null,
      "left": null,
      "margin": null,
      "max_height": null,
      "max_width": null,
      "min_height": null,
      "min_width": null,
      "object_fit": null,
      "object_position": null,
      "order": null,
      "overflow": null,
      "overflow_x": null,
      "overflow_y": null,
      "padding": null,
      "right": null,
      "top": null,
      "visibility": null,
      "width": null
     }
    }
   }
  }
 },
 "nbformat": 4,
 "nbformat_minor": 4
}
