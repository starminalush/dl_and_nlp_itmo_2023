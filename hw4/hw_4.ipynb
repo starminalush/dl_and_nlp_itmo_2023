{
 "cells": [
  {
   "cell_type": "markdown",
   "metadata": {
    "id": "2InHEBaNwka9"
   },
   "source": [
    "## Импорты и инициализация библиотек"
   ]
  },
  {
   "cell_type": "code",
   "execution_count": 1,
   "metadata": {
    "colab": {
     "base_uri": "https://localhost:8080/"
    },
    "id": "rfiP2-whTmqv",
    "outputId": "d028d371-2136-408c-bb38-c255c7239e5b"
   },
   "outputs": [
    {
     "name": "stderr",
     "output_type": "stream",
     "text": [
      "/tmp/ipykernel_94893/3262379494.py:22: TqdmDeprecationWarning: This function will be removed in tqdm==5.0.0\n",
      "Please use `tqdm.notebook.*` instead of `tqdm._tqdm_notebook.*`\n",
      "  from tqdm._tqdm_notebook import tqdm_notebook\n",
      "[nltk_data] Downloading package punkt to\n",
      "[nltk_data]     /home/starminalush/nltk_data...\n",
      "[nltk_data]   Package punkt is already up-to-date!\n",
      "[nltk_data] Downloading package stopwords to\n",
      "[nltk_data]     /home/starminalush/nltk_data...\n",
      "[nltk_data]   Package stopwords is already up-to-date!\n"
     ]
    }
   ],
   "source": [
    "import os\n",
    "import random\n",
    "from collections import Counter\n",
    "from typing import Tuple\n",
    "\n",
    "import matplotlib.pyplot as plt\n",
    "import nltk\n",
    "import numpy as np\n",
    "import opendatasets as od\n",
    "import pandas as pd\n",
    "import torch\n",
    "import torch.nn as nn\n",
    "import torch.nn.functional as F\n",
    "from nltk.corpus import stopwords\n",
    "from nltk.tokenize import WordPunctTokenizer, sent_tokenize\n",
    "from sklearn.model_selection import train_test_split\n",
    "from torch.utils.data import DataLoader, Dataset\n",
    "from torchmetrics import F1Score\n",
    "from tqdm import tqdm\n",
    "from torchtext import vocab\n",
    "from torch import Tensor\n",
    "from tqdm._tqdm_notebook import tqdm_notebook\n",
    "\n",
    "nltk.download(\"punkt\")\n",
    "nltk.download(\"stopwords\")\n",
    "tqdm_notebook.pandas()"
   ]
  },
  {
   "cell_type": "code",
   "execution_count": 2,
   "metadata": {},
   "outputs": [],
   "source": [
    "MAX_SENTENSE_LEN = 300\n",
    "MIN_FREQUENCY_OF_OCCURRENCE = 20\n",
    "RANDOM_SEED = 42\n",
    "EMBEDDING_DIM=300\n"
   ]
  },
  {
   "cell_type": "markdown",
   "metadata": {
    "id": "Zc0Ld68UwbrT"
   },
   "source": [
    "Фиксируем random seed для воспроизводимости"
   ]
  },
  {
   "cell_type": "code",
   "execution_count": 3,
   "metadata": {
    "id": "6hl96xUFwZto"
   },
   "outputs": [],
   "source": [
    "random.seed(RANDOM_SEED)\n",
    "os.environ[\"PYTHONHASHSEED\"] = str(RANDOM_SEED)\n",
    "np.random.seed(RANDOM_SEED)\n",
    "torch.manual_seed(RANDOM_SEED)\n",
    "torch.cuda.manual_seed(RANDOM_SEED)"
   ]
  },
  {
   "cell_type": "code",
   "execution_count": 4,
   "metadata": {
    "id": "m3Vga1Un_1kw"
   },
   "outputs": [],
   "source": [
    "tokenizer = WordPunctTokenizer()\n",
    "english_stopwords = set(stopwords.words(\"english\"))"
   ]
  },
  {
   "cell_type": "code",
   "execution_count": 5,
   "metadata": {
    "id": "wgAuegVt9Dpl"
   },
   "outputs": [],
   "source": [
    "glove = vocab.GloVe(name=\"6B\", dim=EMBEDDING_DIM)"
   ]
  },
  {
   "cell_type": "markdown",
   "metadata": {
    "id": "GTdCezoxwRcb"
   },
   "source": [
    "## Скачиваем датасет, делаем предобработку"
   ]
  },
  {
   "cell_type": "code",
   "execution_count": 6,
   "metadata": {
    "colab": {
     "base_uri": "https://localhost:8080/"
    },
    "id": "lawAmxlcTx1Y",
    "outputId": "02d0d63a-e85a-4b6d-c35b-504688405d47"
   },
   "outputs": [
    {
     "name": "stdout",
     "output_type": "stream",
     "text": [
      "Skipping, found downloaded files in \"./fake-and-real-news-dataset\" (use force=True to force download)\n"
     ]
    }
   ],
   "source": [
    "od.download(\"http://www.kaggle.com/datasets/clmentbisaillon/fake-and-real-news-dataset\")"
   ]
  },
  {
   "cell_type": "markdown",
   "metadata": {
    "id": "Lg3QzRbTUnY9"
   },
   "source": [
    "Мешаем два датасета в 1"
   ]
  },
  {
   "cell_type": "code",
   "execution_count": 7,
   "metadata": {
    "id": "f_GxfpOddWZh"
   },
   "outputs": [],
   "source": [
    "df_true = pd.read_csv(\"fake-and-real-news-dataset/True.csv\")\n",
    "df_true[\"text\"] = df_true[\"text\"].apply(lambda x: x[x.find(\")\") + 3 :])\n",
    "df_true[\"label\"] = 1\n",
    "df_fake = pd.read_csv(\"fake-and-real-news-dataset/Fake.csv\")\n",
    "df_fake[\"label\"] = 0\n",
    "\n",
    "df = pd.concat([df_true, df_fake])\n",
    "\n",
    "df[\"text\"] = df[\"title\"] + \" \" + df[\"text\"]\n",
    "df.drop([\"title\", \"subject\", \"date\"], axis=1, inplace=True)\n",
    "df = df.sample(frac=1, random_state=RANDOM_SEED)\n",
    "df.reset_index(drop=True, inplace=True)"
   ]
  },
  {
   "cell_type": "markdown",
   "metadata": {
    "id": "tMh0HHb_6L5s"
   },
   "source": [
    "Делаем препроцессинг текста"
   ]
  },
  {
   "cell_type": "code",
   "execution_count": 8,
   "metadata": {
    "id": "X_lhg1OqeGAB"
   },
   "outputs": [],
   "source": [
    "def preprocess(text: str) -> str:\n",
    "    return \" \".join(\n",
    "        [\n",
    "            word\n",
    "            for word in tokenizer.tokenize(text)\n",
    "            if word.isalnum() and word not in english_stopwords\n",
    "        ]\n",
    "    ).lower()"
   ]
  },
  {
   "cell_type": "code",
   "execution_count": 9,
   "metadata": {
    "colab": {
     "base_uri": "https://localhost:8080/",
     "height": 84,
     "referenced_widgets": [
      "e6528c3590234ece92c591c4c3523c7f",
      "2f122b33bfd144d8aa4bc2453cf83900",
      "28a1496645854734a69acc56bf44a963",
      "2488f0e2508d47aab9f7f6fbfbbfe1e6",
      "eff1a013a4274375ab79000d4e578730",
      "2e78dcd6b8874b4eb4d59f2abd61c94b",
      "79d973c1f2b640f9bee09b6b220b5986",
      "de3340af32ba4c29b2c7cbe52a90a8d6",
      "8ca840589a604eedb72282e3614f513a",
      "f9f4f71c677949aaa133fcad53368f32",
      "e9eebbb7b47e49edbb25d58df62dc35e"
     ]
    },
    "id": "aBpu7GdKYx7_",
    "outputId": "b50339b8-f4c5-425f-a739-759f74b22f04"
   },
   "outputs": [
    {
     "data": {
      "application/vnd.jupyter.widget-view+json": {
       "model_id": "3dd4a137adb24f11b49e508dd94795f8",
       "version_major": 2,
       "version_minor": 0
      },
      "text/plain": [
       "  0%|          | 0/44898 [00:00<?, ?it/s]"
      ]
     },
     "metadata": {},
     "output_type": "display_data"
    },
    {
     "name": "stdout",
     "output_type": "stream",
     "text": [
      "CPU times: user 8.09 s, sys: 285 ms, total: 8.37 s\n",
      "Wall time: 8.35 s\n"
     ]
    }
   ],
   "source": [
    "%%time\n",
    "df[\"text\"] = df[\"text\"].progress_apply(lambda x: preprocess(x))"
   ]
  },
  {
   "cell_type": "markdown",
   "metadata": {
    "id": "yEMd-gXDxy1D"
   },
   "source": [
    "## Конвертация в векторное представление"
   ]
  },
  {
   "cell_type": "code",
   "execution_count": 10,
   "metadata": {
    "id": "d9EwA1EHd2CY"
   },
   "outputs": [],
   "source": [
    "token_counts = Counter()\n",
    "for sentence in df[\"text\"]:\n",
    "    token_counts.update([word for word in sentence.split() if word.isalnum()])"
   ]
  },
  {
   "cell_type": "code",
   "execution_count": 11,
   "metadata": {
    "colab": {
     "base_uri": "https://localhost:8080/"
    },
    "id": "KJCsFi8Je2NI",
    "outputId": "00834963-4c09-4e68-a456-4eeb596a8062"
   },
   "outputs": [
    {
     "name": "stdout",
     "output_type": "stream",
     "text": [
      "Количество уникальных токенов : 121230\n",
      "Топ-5 самых часто и редко встречающихся: \n",
      "\n",
      "('trump', 148729)\n",
      "('said', 132987)\n",
      "('the', 123247)\n",
      "('i', 62678)\n",
      "('u', 59377)\n",
      "...\n",
      "('unrolled', 1)\n",
      "('pjkyqx', 1)\n",
      "('nelini', 1)\n",
      "('governmentsachs', 1)\n",
      "('durkee', 1)\n"
     ]
    }
   ],
   "source": [
    "print(\"Количество уникальных токенов :\", len(token_counts))\n",
    "print(\"Топ-5 самых часто и редко встречающихся: \\n\")\n",
    "print(\"\\n\".join(map(str, token_counts.most_common(n=5))))\n",
    "print(\"...\")\n",
    "print(\"\\n\".join(map(str, token_counts.most_common()[-5:])))"
   ]
  },
  {
   "cell_type": "code",
   "execution_count": 12,
   "metadata": {
    "colab": {
     "base_uri": "https://localhost:8080/",
     "height": 489
    },
    "id": "EMA9ra-5e5ly",
    "outputId": "65af4414-c037-41cd-95ee-1be40c6bdc88"
   },
   "outputs": [
    {
     "data": {
      "text/plain": [
       "Text(0, 0.5, 'Частота')"
      ]
     },
     "execution_count": 12,
     "metadata": {},
     "output_type": "execute_result"
    },
    {
     "data": {
      "image/png": "[encoded data removed]",
      "text/plain": [
       "<Figure size 640x480 with 1 Axes>"
      ]
     },
     "metadata": {},
     "output_type": "display_data"
    }
   ],
   "source": [
    "plt.hist(list(token_counts.values()), range=[0, 10**4], bins=50, log=True)\n",
    "plt.title(\"График частотности слов\")\n",
    "plt.xlabel(\"Количество слов\")\n",
    "plt.ylabel(\"Частота\")"
   ]
  },
  {
   "cell_type": "markdown",
   "metadata": {
    "id": "3CzDXAnrzB7c"
   },
   "source": [
    "Отсеиваем слова, которые встретились меньше 20 раз как слова с ошибками, опечатками, или просто те, которые очень редки"
   ]
  },
  {
   "cell_type": "code",
   "execution_count": 16,
   "metadata": {
    "id": "zNDWIr9Ke9O9"
   },
   "outputs": [],
   "source": [
    "tokens = sorted(t for t, c in token_counts.items() if c >= MIN_FREQUENCY_OF_OCCURRENCE)"
   ]
  },
  {
   "cell_type": "markdown",
   "metadata": {
    "id": "y9qj7ydbzNGP"
   },
   "source": [
    "Добавляем токен паддинга и токен для слова, которого нет в словаре"
   ]
  },
  {
   "cell_type": "code",
   "execution_count": 17,
   "metadata": {
    "id": "HE5s-hEEzRPA"
   },
   "outputs": [],
   "source": [
    "UNK, PAD = \"UNK\", \"PAD\"\n",
    "tokens = [UNK, PAD] + tokens"
   ]
  },
  {
   "cell_type": "code",
   "execution_count": 18,
   "metadata": {
    "id": "O0luAZJPfFTF"
   },
   "outputs": [],
   "source": [
    "token_to_id = {tok: id for id, tok in enumerate(tokens, 1)}"
   ]
  },
  {
   "cell_type": "markdown",
   "metadata": {
    "id": "r134AyeBzdbE"
   },
   "source": [
    "Конвертируем текст в векторное представление"
   ]
  },
  {
   "cell_type": "code",
   "execution_count": 19,
   "metadata": {
    "id": "3whop7n0fRbm"
   },
   "outputs": [],
   "source": [
    "UNK_IDX, PAD_IDX = map(token_to_id.get, [UNK, PAD])\n",
    "\n",
    "\n",
    "def text_to_vector(text, max_len) -> np.ndarray:\n",
    "    vector = np.full(max_len, np.int32(PAD_IDX))\n",
    "    text_idx = [token_to_id.get(word, UNK_IDX) for word in text[:max_len]]\n",
    "    vector[: len(text_idx)] = text_idx\n",
    "    return vector"
   ]
  },
  {
   "cell_type": "code",
   "execution_count": 20,
   "metadata": {
    "colab": {
     "base_uri": "https://localhost:8080/"
    },
    "id": "1mPfvVOVitMI",
    "outputId": "4839c039-2739-42d8-8154-4f83db6cdd50"
   },
   "outputs": [
    {
     "name": "stderr",
     "output_type": "stream",
     "text": [
      "100%|█████████████████████████████████████████████████████████████████████████████████████████████████████████████████████████████████████████████████████████████████████████████████| 44898/44898 [00:01<00:00, 34114.59it/s]\n"
     ]
    }
   ],
   "source": [
    "X = np.array(\n",
    "    [text_to_vector(text, MAX_SENTENSE_LEN) for text in tqdm(df[\"text\"])],\n",
    "    dtype=np.int32,\n",
    ")"
   ]
  },
  {
   "cell_type": "code",
   "execution_count": 21,
   "metadata": {
    "id": "iaDBLQ_yk5qU"
   },
   "outputs": [],
   "source": [
    "y = df[\"label\"].to_numpy()"
   ]
  },
  {
   "cell_type": "markdown",
   "metadata": {
    "id": "0pGRsqjP9e7z"
   },
   "source": [
    "## Обучение сетей"
   ]
  },
  {
   "cell_type": "markdown",
   "metadata": {},
   "source": [
    "Разделим данные на обучающую и тестовую выборки"
   ]
  },
  {
   "cell_type": "code",
   "execution_count": 22,
   "metadata": {
    "id": "GDkNdZQQi-XR"
   },
   "outputs": [],
   "source": [
    "X_train, X_test, y_train, y_test = train_test_split(\n",
    "    X, y, test_size=0.2, random_state=RANDOM_SEED\n",
    ")"
   ]
  },
  {
   "cell_type": "code",
   "execution_count": 23,
   "metadata": {},
   "outputs": [],
   "source": [
    "def load_pretrained_weights() -> torch.Tensor: \n",
    "    \"\"\"Загружает предобученные эмбеддинги из GloVe.\n",
    "    \n",
    "    Returns:\n",
    "        Тензор, содержащий предобученные эмбеддинги.\n",
    "    \"\"\"\n",
    "    embedding_weights = torch.zeros((len(token_to_id), EMBEDDING_DIM))\n",
    "    print(len(token_to_id))\n",
    "    print(embedding_weights.size())\n",
    "    for word, index in token_to_id.items():\n",
    "        if word in glove:\n",
    "            embedding_weights[index-1, :] = glove[word]\n",
    "    return embedding_weights"
   ]
  },
  {
   "cell_type": "markdown",
   "metadata": {},
   "source": [
    "Создадим 2 класса моделей для классификации текста: одну сверточную, вторую LSTM"
   ]
  },
  {
   "cell_type": "code",
   "execution_count": 35,
   "metadata": {
    "id": "ys3bCCEPkvdq"
   },
   "outputs": [],
   "source": [
    "class NewsClassifierCNN(nn.Module):\n",
    "    def __init__(\n",
    "        self,\n",
    "        num_classes: int,\n",
    "        vocab_size: int,\n",
    "        embedding_dim=300,\n",
    "        kernels=(3, 4, 5),\n",
    "        num_filters=[128, 128, 128],\n",
    "        weights: Tensor | None = None\n",
    "    ):\n",
    "        super().__init__()\n",
    "        self.weights  = weights\n",
    "        if self.weights is not None:\n",
    "            self.embedding = nn.Embedding(vocab_size, embedding_dim).from_pretrained(self.weights, freeze=False) # equivalent to required_grad=True\n",
    "        else:\n",
    "            self.embedding = nn.Embedding(vocab_size, embedding_dim)\n",
    "        self.conv1d_list = nn.ModuleList(\n",
    "            [\n",
    "                nn.Conv1d(\n",
    "                    in_channels=embedding_dim,\n",
    "                    out_channels=num_filters[i],\n",
    "                    kernel_size=kernels[i],\n",
    "                )\n",
    "                for i in range(len(kernels))\n",
    "            ]\n",
    "        )\n",
    "        self.dropout = nn.Dropout(0.2)\n",
    "        self.linear = nn.Linear(np.sum(num_filters), num_classes)\n",
    "\n",
    "    def forward(self, x):\n",
    "        output = self.embedding(x)\n",
    "        output = output.permute(0, 2, 1)  # bs, emb_dim, len\n",
    "        x_conv_list = [F.relu(conv1d(output)) for conv1d in self.conv1d_list]\n",
    "\n",
    "        x_pool_list = [\n",
    "            F.max_pool1d(x_conv, kernel_size=x_conv.shape[2]) for x_conv in x_conv_list\n",
    "        ]\n",
    "\n",
    "        x_fc = torch.cat([x_pool.squeeze(dim=2) for x_pool in x_pool_list], dim=1)\n",
    "\n",
    "        return self.linear(self.dropout(x_fc))"
   ]
  },
  {
   "cell_type": "code",
   "execution_count": 36,
   "metadata": {},
   "outputs": [],
   "source": [
    "class NewsClassifierLSTM(nn.Module):\n",
    "    def __init__(\n",
    "        self,\n",
    "        vocab_size: int,\n",
    "        num_classes: int,\n",
    "        embedding_dim: int = 300,\n",
    "        hidden_size: int = 300,\n",
    "        weights: Tensor | None = None\n",
    "    ):\n",
    "        super().__init__()\n",
    "        self.weights  = weights\n",
    "        if self.weights is not None:\n",
    "            self.embedding = nn.Embedding(vocab_size, embedding_dim).from_pretrained(self.weights, freeze=False) # equivalent to required_grad=True\n",
    "        else:\n",
    "            self.embedding = nn.Embedding(vocab_size, embedding_dim)\n",
    "        self.lstm = nn.LSTM(\n",
    "            input_size=embedding_dim,\n",
    "            hidden_size=hidden_size,\n",
    "            batch_first=True,\n",
    "        )\n",
    "        self.linear = nn.Linear(hidden_size, num_classes)\n",
    "\n",
    "    def forward(self, x):\n",
    "        embeddings = self.embedding(x)\n",
    "        output, (hidden, carry) = self.lstm(embeddings)\n",
    "        return self.linear(hidden[-1])"
   ]
  },
  {
   "cell_type": "markdown",
   "metadata": {},
   "source": [
    "Создадим класс датасета"
   ]
  },
  {
   "cell_type": "code",
   "execution_count": 37,
   "metadata": {
    "id": "9ncwi5h8lSQW"
   },
   "outputs": [],
   "source": [
    "class NewsDatasetWrapper(Dataset):\n",
    "    def __init__(self, data, target=None):\n",
    "        self.data = torch.from_numpy(data).long()\n",
    "        if target is not None:\n",
    "            self.target = torch.from_numpy(target).long()\n",
    "        else:\n",
    "            self.target = None\n",
    "\n",
    "    def __getitem__(self, index):\n",
    "        x = self.data[index]\n",
    "        y = self.target[index] if self.target is not None else -1\n",
    "        return x, y\n",
    "\n",
    "    def __len__(self):\n",
    "        return len(self.data)"
   ]
  },
  {
   "cell_type": "markdown",
   "metadata": {},
   "source": [
    "Настраиваем параметры для обучения, создаем даталоадеры"
   ]
  },
  {
   "cell_type": "code",
   "execution_count": 51,
   "metadata": {},
   "outputs": [],
   "source": [
    "batch_size = 256\n",
    "epochs = 15\n",
    "num_classes = 2\n",
    "vocab_size = len(token_to_id)\n",
    "device = torch.device(\"cuda:0\") if torch.cuda.is_available() else torch.device(\"cpu\")\n",
    "train_dataset = NewsDatasetWrapper(X_train, y_train)\n",
    "test_dataset = NewsDatasetWrapper(X_test, y_test)\n",
    "\n",
    "dataloaders = {\n",
    "    \"train\": DataLoader(train_dataset, batch_size=batch_size, shuffle=True),\n",
    "    \"test\": DataLoader(test_dataset, batch_size=batch_size, shuffle=True),\n",
    "}"
   ]
  },
  {
   "cell_type": "code",
   "execution_count": 52,
   "metadata": {},
   "outputs": [],
   "source": [
    "def plot_loss_history(loss_history: list[float], title: str) -> None:\n",
    "    plt.title(title)\n",
    "    plt.grid(True)\n",
    "    plt.ylabel(\"Validation loss\")\n",
    "    plt.xlabel(\"Step\")\n",
    "    plt.plot(loss_history)\n",
    "    plt.show()"
   ]
  },
  {
   "cell_type": "code",
   "execution_count": 53,
   "metadata": {
    "id": "Pmv3onTeAZYJ"
   },
   "outputs": [],
   "source": [
    "def train_model(\n",
    "    model, criterion, optimizer, metric, num_epochs=25\n",
    ") -> Tuple[list[float], list[float], float]:\n",
    "    losses, metrics = [], []\n",
    "    best_metric = 0.0\n",
    "    for epoch in tqdm(range(num_epochs)):\n",
    "        for phase in [\"train\", \"test\"]:\n",
    "            if phase == \"train\":\n",
    "                model.train()\n",
    "            else:\n",
    "                model.eval()\n",
    "            running_loss = 0.0\n",
    "            for inputs, labels in dataloaders[phase]:\n",
    "                optimizer.zero_grad()\n",
    "                inputs = inputs.to(device)\n",
    "                labels = labels.to(device)\n",
    "                outputs = model(inputs)\n",
    "                loss = criterion(outputs, labels)\n",
    "                if phase == \"train\":\n",
    "                    loss.backward()\n",
    "                    optimizer.step()\n",
    "                running_loss += loss.item()\n",
    "                if phase == \"test\":\n",
    "                    metric.update(outputs.argmax(1), labels)\n",
    "\n",
    "        epoch_loss = running_loss / len(dataloaders[phase])\n",
    "        epoch_metric = metric.compute()\n",
    "        best_metric = epoch_metric if epoch_metric > best_metric else best_metric\n",
    "        losses.append(epoch_loss)\n",
    "        metrics.append(float(epoch_metric))\n",
    "        print(\n",
    "            f\"Epoch: {epoch}, Loss: {epoch_loss:.4f}, Metric: {metric.__class__.__name__}: {epoch_metric:.4f}\"\n",
    "        )\n",
    "    return losses, metrics, best_metric"
   ]
  },
  {
   "cell_type": "code",
   "execution_count": 54,
   "metadata": {},
   "outputs": [
    {
     "name": "stdout",
     "output_type": "stream",
     "text": [
      "23782\n",
      "torch.Size([23782, 300])\n"
     ]
    }
   ],
   "source": [
    "weights = load_pretrained_weights()"
   ]
  },
  {
   "cell_type": "code",
   "execution_count": 55,
   "metadata": {},
   "outputs": [],
   "source": [
    "model_cnn = NewsClassifierCNN(vocab_size=vocab_size, num_classes=num_classes).to(device)\n",
    "\n",
    "model_lstm = NewsClassifierLSTM(vocab_size=vocab_size, num_classes=num_classes).to(\n",
    "    device\n",
    ")\n",
    "model_cnn_pretrained = NewsClassifierCNN(vocab_size=vocab_size, num_classes=num_classes, weights=weights).to(device)\n",
    "model_lstm_pretrained = NewsClassifierLSTM(vocab_size=vocab_size, num_classes=num_classes, weights=weights).to(\n",
    "    device\n",
    ")"
   ]
  },
  {
   "cell_type": "code",
   "execution_count": 56,
   "metadata": {},
   "outputs": [
    {
     "name": "stdout",
     "output_type": "stream",
     "text": [
      "Start train NewsClassifierLSTM, pretrained=False...\n"
     ]
    },
    {
     "name": "stderr",
     "output_type": "stream",
     "text": [
      "  7%|████████████▍                                                                                                                                                                              | 1/15 [00:19<04:34, 19.59s/it]"
     ]
    },
    {
     "name": "stdout",
     "output_type": "stream",
     "text": [
      "Epoch: 0, Loss: 0.6823, Metric: BinaryF1Score: 0.3944\n"
     ]
    },
    {
     "name": "stderr",
     "output_type": "stream",
     "text": [
      " 13%|████████████████████████▉                                                                                                                                                                  | 2/15 [00:38<04:13, 19.48s/it]"
     ]
    },
    {
     "name": "stdout",
     "output_type": "stream",
     "text": [
      "Epoch: 1, Loss: 0.6426, Metric: BinaryF1Score: 0.4413\n"
     ]
    },
    {
     "name": "stderr",
     "output_type": "stream",
     "text": [
      " 20%|█████████████████████████████████████▍                                                                                                                                                     | 3/15 [00:58<03:53, 19.45s/it]"
     ]
    },
    {
     "name": "stdout",
     "output_type": "stream",
     "text": [
      "Epoch: 2, Loss: 0.4702, Metric: BinaryF1Score: 0.5919\n"
     ]
    },
    {
     "name": "stderr",
     "output_type": "stream",
     "text": [
      " 27%|█████████████████████████████████████████████████▊                                                                                                                                         | 4/15 [01:17<03:33, 19.39s/it]"
     ]
    },
    {
     "name": "stdout",
     "output_type": "stream",
     "text": [
      "Epoch: 3, Loss: 0.2419, Metric: BinaryF1Score: 0.6787\n"
     ]
    },
    {
     "name": "stderr",
     "output_type": "stream",
     "text": [
      " 33%|██████████████████████████████████████████████████████████████▎                                                                                                                            | 5/15 [01:37<03:14, 19.41s/it]"
     ]
    },
    {
     "name": "stdout",
     "output_type": "stream",
     "text": [
      "Epoch: 4, Loss: 0.2000, Metric: BinaryF1Score: 0.7333\n"
     ]
    },
    {
     "name": "stderr",
     "output_type": "stream",
     "text": [
      " 40%|██████████████████████████████████████████████████████████████████████████▊                                                                                                                | 6/15 [01:56<02:54, 19.39s/it]"
     ]
    },
    {
     "name": "stdout",
     "output_type": "stream",
     "text": [
      "Epoch: 5, Loss: 0.1247, Metric: BinaryF1Score: 0.7720\n"
     ]
    },
    {
     "name": "stderr",
     "output_type": "stream",
     "text": [
      " 47%|███████████████████████████████████████████████████████████████████████████████████████▎                                                                                                   | 7/15 [02:15<02:34, 19.35s/it]"
     ]
    },
    {
     "name": "stdout",
     "output_type": "stream",
     "text": [
      "Epoch: 6, Loss: 0.4811, Metric: BinaryF1Score: 0.7799\n"
     ]
    },
    {
     "name": "stderr",
     "output_type": "stream",
     "text": [
      " 53%|███████████████████████████████████████████████████████████████████████████████████████████████████▋                                                                                       | 8/15 [02:35<02:15, 19.31s/it]"
     ]
    },
    {
     "name": "stdout",
     "output_type": "stream",
     "text": [
      "Epoch: 7, Loss: 0.2798, Metric: BinaryF1Score: 0.7939\n"
     ]
    },
    {
     "name": "stderr",
     "output_type": "stream",
     "text": [
      " 60%|████████████████████████████████████████████████████████████████████████████████████████████████████████████████▏                                                                          | 9/15 [02:54<01:55, 19.32s/it]"
     ]
    },
    {
     "name": "stdout",
     "output_type": "stream",
     "text": [
      "Epoch: 8, Loss: 0.2170, Metric: BinaryF1Score: 0.8079\n"
     ]
    },
    {
     "name": "stderr",
     "output_type": "stream",
     "text": [
      " 67%|████████████████████████████████████████████████████████████████████████████████████████████████████████████████████████████                                                              | 10/15 [03:13<01:36, 19.31s/it]"
     ]
    },
    {
     "name": "stdout",
     "output_type": "stream",
     "text": [
      "Epoch: 9, Loss: 0.1911, Metric: BinaryF1Score: 0.8212\n"
     ]
    },
    {
     "name": "stderr",
     "output_type": "stream",
     "text": [
      " 73%|████████████████████████████████████████████████████████████████████████████████████████████████████████████████████████████████████████▍                                                 | 11/15 [03:32<01:17, 19.31s/it]"
     ]
    },
    {
     "name": "stdout",
     "output_type": "stream",
     "text": [
      "Epoch: 10, Loss: 0.1626, Metric: BinaryF1Score: 0.8326\n"
     ]
    },
    {
     "name": "stderr",
     "output_type": "stream",
     "text": [
      " 80%|████████████████████████████████████████████████████████████████████████████████████████████████████████████████████████████████████████████████████▊                                     | 12/15 [03:52<00:57, 19.29s/it]"
     ]
    },
    {
     "name": "stdout",
     "output_type": "stream",
     "text": [
      "Epoch: 11, Loss: 0.1523, Metric: BinaryF1Score: 0.8417\n"
     ]
    },
    {
     "name": "stderr",
     "output_type": "stream",
     "text": [
      " 87%|█████████████████████████████████████████████████████████████████████████████████████████████████████████████████████████████████████████████████████████████████▏                        | 13/15 [04:11<00:38, 19.30s/it]"
     ]
    },
    {
     "name": "stdout",
     "output_type": "stream",
     "text": [
      "Epoch: 12, Loss: 0.1423, Metric: BinaryF1Score: 0.8502\n"
     ]
    },
    {
     "name": "stderr",
     "output_type": "stream",
     "text": [
      " 93%|█████████████████████████████████████████████████████████████████████████████████████████████████████████████████████████████████████████████████████████████████████████████▌            | 14/15 [04:30<00:19, 19.31s/it]"
     ]
    },
    {
     "name": "stdout",
     "output_type": "stream",
     "text": [
      "Epoch: 13, Loss: 0.1232, Metric: BinaryF1Score: 0.8579\n"
     ]
    },
    {
     "name": "stderr",
     "output_type": "stream",
     "text": [
      "100%|██████████████████████████████████████████████████████████████████████████████████████████████████████████████████████████████████████████████████████████████████████████████████████████| 15/15 [04:50<00:00, 19.34s/it]"
     ]
    },
    {
     "name": "stdout",
     "output_type": "stream",
     "text": [
      "Epoch: 14, Loss: 0.1096, Metric: BinaryF1Score: 0.8650\n",
      "Best f1 metric of NewsClassifierLSTM: 0.864985466003418 \n"
     ]
    },
    {
     "name": "stderr",
     "output_type": "stream",
     "text": [
      "\n"
     ]
    },
    {
     "data": {
      "image/png": "[encoded data removed]",
      "text/plain": [
       "<Figure size 640x480 with 1 Axes>"
      ]
     },
     "metadata": {},
     "output_type": "display_data"
    },
    {
     "name": "stdout",
     "output_type": "stream",
     "text": [
      "Start train NewsClassifierCNN, pretrained=False...\n"
     ]
    },
    {
     "name": "stderr",
     "output_type": "stream",
     "text": [
      "  7%|████████████▍                                                                                                                                                                              | 1/15 [00:13<03:14, 13.86s/it]"
     ]
    },
    {
     "name": "stdout",
     "output_type": "stream",
     "text": [
      "Epoch: 0, Loss: 0.0849, Metric: BinaryF1Score: 0.9675\n"
     ]
    },
    {
     "name": "stderr",
     "output_type": "stream",
     "text": [
      " 13%|████████████████████████▉                                                                                                                                                                  | 2/15 [00:27<03:00, 13.86s/it]"
     ]
    },
    {
     "name": "stdout",
     "output_type": "stream",
     "text": [
      "Epoch: 1, Loss: 0.0674, Metric: BinaryF1Score: 0.9716\n"
     ]
    },
    {
     "name": "stderr",
     "output_type": "stream",
     "text": [
      " 20%|█████████████████████████████████████▍                                                                                                                                                     | 3/15 [00:41<02:46, 13.90s/it]"
     ]
    },
    {
     "name": "stdout",
     "output_type": "stream",
     "text": [
      "Epoch: 2, Loss: 0.0374, Metric: BinaryF1Score: 0.9769\n"
     ]
    },
    {
     "name": "stderr",
     "output_type": "stream",
     "text": [
      " 27%|█████████████████████████████████████████████████▊                                                                                                                                         | 4/15 [00:55<02:33, 13.95s/it]"
     ]
    },
    {
     "name": "stdout",
     "output_type": "stream",
     "text": [
      "Epoch: 3, Loss: 0.0533, Metric: BinaryF1Score: 0.9779\n"
     ]
    },
    {
     "name": "stderr",
     "output_type": "stream",
     "text": [
      " 33%|██████████████████████████████████████████████████████████████▎                                                                                                                            | 5/15 [01:09<02:20, 14.05s/it]"
     ]
    },
    {
     "name": "stdout",
     "output_type": "stream",
     "text": [
      "Epoch: 4, Loss: 0.0328, Metric: BinaryF1Score: 0.9799\n"
     ]
    },
    {
     "name": "stderr",
     "output_type": "stream",
     "text": [
      " 40%|██████████████████████████████████████████████████████████████████████████▊                                                                                                                | 6/15 [01:24<02:06, 14.06s/it]"
     ]
    },
    {
     "name": "stdout",
     "output_type": "stream",
     "text": [
      "Epoch: 5, Loss: 0.0269, Metric: BinaryF1Score: 0.9814\n"
     ]
    },
    {
     "name": "stderr",
     "output_type": "stream",
     "text": [
      " 47%|███████████████████████████████████████████████████████████████████████████████████████▎                                                                                                   | 7/15 [01:38<01:53, 14.14s/it]"
     ]
    },
    {
     "name": "stdout",
     "output_type": "stream",
     "text": [
      "Epoch: 6, Loss: 0.0241, Metric: BinaryF1Score: 0.9826\n"
     ]
    },
    {
     "name": "stderr",
     "output_type": "stream",
     "text": [
      " 53%|███████████████████████████████████████████████████████████████████████████████████████████████████▋                                                                                       | 8/15 [01:52<01:38, 14.08s/it]"
     ]
    },
    {
     "name": "stdout",
     "output_type": "stream",
     "text": [
      "Epoch: 7, Loss: 0.0460, Metric: BinaryF1Score: 0.9827\n"
     ]
    },
    {
     "name": "stderr",
     "output_type": "stream",
     "text": [
      " 60%|████████████████████████████████████████████████████████████████████████████████████████████████████████████████▏                                                                          | 9/15 [02:06<01:23, 13.99s/it]"
     ]
    },
    {
     "name": "stdout",
     "output_type": "stream",
     "text": [
      "Epoch: 8, Loss: 0.0251, Metric: BinaryF1Score: 0.9835\n"
     ]
    },
    {
     "name": "stderr",
     "output_type": "stream",
     "text": [
      " 67%|████████████████████████████████████████████████████████████████████████████████████████████████████████████████████████████                                                              | 10/15 [02:20<01:10, 14.05s/it]"
     ]
    },
    {
     "name": "stdout",
     "output_type": "stream",
     "text": [
      "Epoch: 9, Loss: 0.0237, Metric: BinaryF1Score: 0.9843\n"
     ]
    },
    {
     "name": "stderr",
     "output_type": "stream",
     "text": [
      " 73%|████████████████████████████████████████████████████████████████████████████████████████████████████████████████████████████████████████▍                                                 | 11/15 [02:34<00:56, 14.08s/it]"
     ]
    },
    {
     "name": "stdout",
     "output_type": "stream",
     "text": [
      "Epoch: 10, Loss: 0.0269, Metric: BinaryF1Score: 0.9848\n"
     ]
    },
    {
     "name": "stderr",
     "output_type": "stream",
     "text": [
      " 80%|████████████████████████████████████████████████████████████████████████████████████████████████████████████████████████████████████████████████████▊                                     | 12/15 [02:48<00:42, 14.12s/it]"
     ]
    },
    {
     "name": "stdout",
     "output_type": "stream",
     "text": [
      "Epoch: 11, Loss: 0.0597, Metric: BinaryF1Score: 0.9844\n"
     ]
    },
    {
     "name": "stderr",
     "output_type": "stream",
     "text": [
      " 87%|█████████████████████████████████████████████████████████████████████████████████████████████████████████████████████████████████████████████████████████████████▏                        | 13/15 [03:02<00:28, 14.09s/it]"
     ]
    },
    {
     "name": "stdout",
     "output_type": "stream",
     "text": [
      "Epoch: 12, Loss: 0.0252, Metric: BinaryF1Score: 0.9849\n"
     ]
    },
    {
     "name": "stderr",
     "output_type": "stream",
     "text": [
      " 93%|█████████████████████████████████████████████████████████████████████████████████████████████████████████████████████████████████████████████████████████████████████████████▌            | 14/15 [03:16<00:14, 14.07s/it]"
     ]
    },
    {
     "name": "stdout",
     "output_type": "stream",
     "text": [
      "Epoch: 13, Loss: 0.0224, Metric: BinaryF1Score: 0.9853\n"
     ]
    },
    {
     "name": "stderr",
     "output_type": "stream",
     "text": [
      "100%|██████████████████████████████████████████████████████████████████████████████████████████████████████████████████████████████████████████████████████████████████████████████████████████| 15/15 [03:30<00:00, 14.01s/it]"
     ]
    },
    {
     "name": "stdout",
     "output_type": "stream",
     "text": [
      "Epoch: 14, Loss: 0.0210, Metric: BinaryF1Score: 0.9857\n",
      "Best f1 metric of NewsClassifierCNN: 0.9857078194618225 \n"
     ]
    },
    {
     "name": "stderr",
     "output_type": "stream",
     "text": [
      "\n"
     ]
    },
    {
     "data": {
      "image/png": "[encoded data removed]",
      "text/plain": [
       "<Figure size 640x480 with 1 Axes>"
      ]
     },
     "metadata": {},
     "output_type": "display_data"
    },
    {
     "name": "stdout",
     "output_type": "stream",
     "text": [
      "Start train NewsClassifierLSTM, pretrained=True...\n"
     ]
    },
    {
     "name": "stderr",
     "output_type": "stream",
     "text": [
      "  7%|████████████▍                                                                                                                                                                              | 1/15 [00:18<04:25, 18.96s/it]"
     ]
    },
    {
     "name": "stdout",
     "output_type": "stream",
     "text": [
      "Epoch: 0, Loss: 0.6867, Metric: BinaryF1Score: 0.0000\n"
     ]
    },
    {
     "name": "stderr",
     "output_type": "stream",
     "text": [
      " 13%|████████████████████████▉                                                                                                                                                                  | 2/15 [00:37<04:05, 18.90s/it]"
     ]
    },
    {
     "name": "stdout",
     "output_type": "stream",
     "text": [
      "Epoch: 1, Loss: 0.6755, Metric: BinaryF1Score: 0.4075\n"
     ]
    },
    {
     "name": "stderr",
     "output_type": "stream",
     "text": [
      " 20%|█████████████████████████████████████▍                                                                                                                                                     | 3/15 [00:56<03:46, 18.91s/it]"
     ]
    },
    {
     "name": "stdout",
     "output_type": "stream",
     "text": [
      "Epoch: 2, Loss: 0.4313, Metric: BinaryF1Score: 0.5735\n"
     ]
    },
    {
     "name": "stderr",
     "output_type": "stream",
     "text": [
      " 27%|█████████████████████████████████████████████████▊                                                                                                                                         | 4/15 [01:15<03:27, 18.89s/it]"
     ]
    },
    {
     "name": "stdout",
     "output_type": "stream",
     "text": [
      "Epoch: 3, Loss: 0.2289, Metric: BinaryF1Score: 0.6640\n"
     ]
    },
    {
     "name": "stderr",
     "output_type": "stream",
     "text": [
      " 33%|██████████████████████████████████████████████████████████████▎                                                                                                                            | 5/15 [01:34<03:08, 18.87s/it]"
     ]
    },
    {
     "name": "stdout",
     "output_type": "stream",
     "text": [
      "Epoch: 4, Loss: 0.1290, Metric: BinaryF1Score: 0.7257\n"
     ]
    },
    {
     "name": "stderr",
     "output_type": "stream",
     "text": [
      " 40%|██████████████████████████████████████████████████████████████████████████▊                                                                                                                | 6/15 [01:53<02:49, 18.87s/it]"
     ]
    },
    {
     "name": "stdout",
     "output_type": "stream",
     "text": [
      "Epoch: 5, Loss: 0.1077, Metric: BinaryF1Score: 0.7668\n"
     ]
    },
    {
     "name": "stderr",
     "output_type": "stream",
     "text": [
      " 47%|███████████████████████████████████████████████████████████████████████████████████████▎                                                                                                   | 7/15 [02:12<02:31, 18.89s/it]"
     ]
    },
    {
     "name": "stdout",
     "output_type": "stream",
     "text": [
      "Epoch: 6, Loss: 0.0626, Metric: BinaryF1Score: 0.7981\n"
     ]
    },
    {
     "name": "stderr",
     "output_type": "stream",
     "text": [
      " 53%|███████████████████████████████████████████████████████████████████████████████████████████████████▋                                                                                       | 8/15 [02:31<02:12, 18.88s/it]"
     ]
    },
    {
     "name": "stdout",
     "output_type": "stream",
     "text": [
      "Epoch: 7, Loss: 0.0484, Metric: BinaryF1Score: 0.8225\n"
     ]
    },
    {
     "name": "stderr",
     "output_type": "stream",
     "text": [
      " 60%|████████████████████████████████████████████████████████████████████████████████████████████████████████████████▏                                                                          | 9/15 [02:49<01:53, 18.87s/it]"
     ]
    },
    {
     "name": "stdout",
     "output_type": "stream",
     "text": [
      "Epoch: 8, Loss: 0.0472, Metric: BinaryF1Score: 0.8411\n"
     ]
    },
    {
     "name": "stderr",
     "output_type": "stream",
     "text": [
      " 67%|████████████████████████████████████████████████████████████████████████████████████████████████████████████████████████████                                                              | 10/15 [03:08<01:34, 18.90s/it]"
     ]
    },
    {
     "name": "stdout",
     "output_type": "stream",
     "text": [
      "Epoch: 9, Loss: 0.0493, Metric: BinaryF1Score: 0.8556\n"
     ]
    },
    {
     "name": "stderr",
     "output_type": "stream",
     "text": [
      " 73%|████████████████████████████████████████████████████████████████████████████████████████████████████████████████████████████████████████▍                                                 | 11/15 [03:27<01:15, 18.90s/it]"
     ]
    },
    {
     "name": "stdout",
     "output_type": "stream",
     "text": [
      "Epoch: 10, Loss: 0.0382, Metric: BinaryF1Score: 0.8679\n"
     ]
    },
    {
     "name": "stderr",
     "output_type": "stream",
     "text": [
      " 80%|████████████████████████████████████████████████████████████████████████████████████████████████████████████████████████████████████████████████████▊                                     | 12/15 [03:46<00:56, 18.89s/it]"
     ]
    },
    {
     "name": "stdout",
     "output_type": "stream",
     "text": [
      "Epoch: 11, Loss: 0.0330, Metric: BinaryF1Score: 0.8783\n"
     ]
    },
    {
     "name": "stderr",
     "output_type": "stream",
     "text": [
      " 87%|█████████████████████████████████████████████████████████████████████████████████████████████████████████████████████████████████████████████████████████████████▏                        | 13/15 [04:05<00:37, 18.89s/it]"
     ]
    },
    {
     "name": "stdout",
     "output_type": "stream",
     "text": [
      "Epoch: 12, Loss: 0.0580, Metric: BinaryF1Score: 0.8863\n"
     ]
    },
    {
     "name": "stderr",
     "output_type": "stream",
     "text": [
      " 93%|█████████████████████████████████████████████████████████████████████████████████████████████████████████████████████████████████████████████████████████████████████████████▌            | 14/15 [04:24<00:18, 18.89s/it]"
     ]
    },
    {
     "name": "stdout",
     "output_type": "stream",
     "text": [
      "Epoch: 13, Loss: 0.0342, Metric: BinaryF1Score: 0.8938\n"
     ]
    },
    {
     "name": "stderr",
     "output_type": "stream",
     "text": [
      "100%|██████████████████████████████████████████████████████████████████████████████████████████████████████████████████████████████████████████████████████████████████████████████████████████| 15/15 [04:43<00:00, 18.89s/it]"
     ]
    },
    {
     "name": "stdout",
     "output_type": "stream",
     "text": [
      "Epoch: 14, Loss: 0.0293, Metric: BinaryF1Score: 0.9004\n",
      "Best f1 metric of NewsClassifierLSTM: 0.9003534913063049 \n"
     ]
    },
    {
     "name": "stderr",
     "output_type": "stream",
     "text": [
      "\n"
     ]
    },
    {
     "data": {
      "image/png": "[encoded data removed]",
      "text/plain": [
       "<Figure size 640x480 with 1 Axes>"
      ]
     },
     "metadata": {},
     "output_type": "display_data"
    },
    {
     "name": "stdout",
     "output_type": "stream",
     "text": [
      "Start train NewsClassifierCNN, pretrained=True...\n"
     ]
    },
    {
     "name": "stderr",
     "output_type": "stream",
     "text": [
      "  7%|████████████▍                                                                                                                                                                              | 1/15 [00:13<03:09, 13.55s/it]"
     ]
    },
    {
     "name": "stdout",
     "output_type": "stream",
     "text": [
      "Epoch: 0, Loss: 0.0837, Metric: BinaryF1Score: 0.9721\n"
     ]
    },
    {
     "name": "stderr",
     "output_type": "stream",
     "text": [
      " 13%|████████████████████████▉                                                                                                                                                                  | 2/15 [00:27<02:56, 13.56s/it]"
     ]
    },
    {
     "name": "stdout",
     "output_type": "stream",
     "text": [
      "Epoch: 1, Loss: 0.0545, Metric: BinaryF1Score: 0.9767\n"
     ]
    },
    {
     "name": "stderr",
     "output_type": "stream",
     "text": [
      " 20%|█████████████████████████████████████▍                                                                                                                                                     | 3/15 [00:40<02:42, 13.56s/it]"
     ]
    },
    {
     "name": "stdout",
     "output_type": "stream",
     "text": [
      "Epoch: 2, Loss: 0.0399, Metric: BinaryF1Score: 0.9798\n"
     ]
    },
    {
     "name": "stderr",
     "output_type": "stream",
     "text": [
      " 27%|█████████████████████████████████████████████████▊                                                                                                                                         | 4/15 [00:54<02:29, 13.60s/it]"
     ]
    },
    {
     "name": "stdout",
     "output_type": "stream",
     "text": [
      "Epoch: 3, Loss: 0.0362, Metric: BinaryF1Score: 0.9813\n"
     ]
    },
    {
     "name": "stderr",
     "output_type": "stream",
     "text": [
      " 33%|██████████████████████████████████████████████████████████████▎                                                                                                                            | 5/15 [01:07<02:15, 13.58s/it]"
     ]
    },
    {
     "name": "stdout",
     "output_type": "stream",
     "text": [
      "Epoch: 4, Loss: 0.0309, Metric: BinaryF1Score: 0.9829\n"
     ]
    },
    {
     "name": "stderr",
     "output_type": "stream",
     "text": [
      " 40%|██████████████████████████████████████████████████████████████████████████▊                                                                                                                | 6/15 [01:21<02:02, 13.57s/it]"
     ]
    },
    {
     "name": "stdout",
     "output_type": "stream",
     "text": [
      "Epoch: 5, Loss: 0.0249, Metric: BinaryF1Score: 0.9841\n"
     ]
    },
    {
     "name": "stderr",
     "output_type": "stream",
     "text": [
      " 47%|███████████████████████████████████████████████████████████████████████████████████████▎                                                                                                   | 7/15 [01:34<01:48, 13.57s/it]"
     ]
    },
    {
     "name": "stdout",
     "output_type": "stream",
     "text": [
      "Epoch: 6, Loss: 0.0238, Metric: BinaryF1Score: 0.9849\n"
     ]
    },
    {
     "name": "stderr",
     "output_type": "stream",
     "text": [
      " 53%|███████████████████████████████████████████████████████████████████████████████████████████████████▋                                                                                       | 8/15 [01:48<01:35, 13.57s/it]"
     ]
    },
    {
     "name": "stdout",
     "output_type": "stream",
     "text": [
      "Epoch: 7, Loss: 0.0255, Metric: BinaryF1Score: 0.9858\n"
     ]
    },
    {
     "name": "stderr",
     "output_type": "stream",
     "text": [
      " 60%|████████████████████████████████████████████████████████████████████████████████████████████████████████████████▏                                                                          | 9/15 [02:02<01:21, 13.58s/it]"
     ]
    },
    {
     "name": "stdout",
     "output_type": "stream",
     "text": [
      "Epoch: 8, Loss: 0.0380, Metric: BinaryF1Score: 0.9858\n"
     ]
    },
    {
     "name": "stderr",
     "output_type": "stream",
     "text": [
      " 67%|████████████████████████████████████████████████████████████████████████████████████████████████████████████████████████████                                                              | 10/15 [02:15<01:07, 13.58s/it]"
     ]
    },
    {
     "name": "stdout",
     "output_type": "stream",
     "text": [
      "Epoch: 9, Loss: 0.0470, Metric: BinaryF1Score: 0.9854\n"
     ]
    },
    {
     "name": "stderr",
     "output_type": "stream",
     "text": [
      " 73%|████████████████████████████████████████████████████████████████████████████████████████████████████████████████████████████████████████▍                                                 | 11/15 [02:29<00:54, 13.57s/it]"
     ]
    },
    {
     "name": "stdout",
     "output_type": "stream",
     "text": [
      "Epoch: 10, Loss: 0.0235, Metric: BinaryF1Score: 0.9860\n"
     ]
    },
    {
     "name": "stderr",
     "output_type": "stream",
     "text": [
      " 80%|████████████████████████████████████████████████████████████████████████████████████████████████████████████████████████████████████████████████████▊                                     | 12/15 [02:42<00:40, 13.57s/it]"
     ]
    },
    {
     "name": "stdout",
     "output_type": "stream",
     "text": [
      "Epoch: 11, Loss: 0.0227, Metric: BinaryF1Score: 0.9864\n"
     ]
    },
    {
     "name": "stderr",
     "output_type": "stream",
     "text": [
      " 87%|█████████████████████████████████████████████████████████████████████████████████████████████████████████████████████████████████████████████████████████████████▏                        | 13/15 [02:56<00:27, 13.60s/it]"
     ]
    },
    {
     "name": "stdout",
     "output_type": "stream",
     "text": [
      "Epoch: 12, Loss: 0.0352, Metric: BinaryF1Score: 0.9865\n"
     ]
    },
    {
     "name": "stderr",
     "output_type": "stream",
     "text": [
      " 93%|█████████████████████████████████████████████████████████████████████████████████████████████████████████████████████████████████████████████████████████████████████████████▌            | 14/15 [03:10<00:13, 13.58s/it]"
     ]
    },
    {
     "name": "stdout",
     "output_type": "stream",
     "text": [
      "Epoch: 13, Loss: 0.0319, Metric: BinaryF1Score: 0.9867\n"
     ]
    },
    {
     "name": "stderr",
     "output_type": "stream",
     "text": [
      "100%|██████████████████████████████████████████████████████████████████████████████████████████████████████████████████████████████████████████████████████████████████████████████████████████| 15/15 [03:23<00:00, 13.57s/it]"
     ]
    },
    {
     "name": "stdout",
     "output_type": "stream",
     "text": [
      "Epoch: 14, Loss: 0.0209, Metric: BinaryF1Score: 0.9871\n",
      "Best f1 metric of NewsClassifierCNN: 0.9870673418045044 \n"
     ]
    },
    {
     "name": "stderr",
     "output_type": "stream",
     "text": [
      "\n"
     ]
    },
    {
     "data": {
      "image/png": "[encoded data removed]",
      "text/plain": [
       "<Figure size 640x480 with 1 Axes>"
      ]
     },
     "metadata": {},
     "output_type": "display_data"
    }
   ],
   "source": [
    "for model in (model_lstm, model_cnn, model_lstm_pretrained, model_cnn_pretrained):\n",
    "    optimizer = torch.optim.Adam(model.parameters(), lr=1e-3)\n",
    "    criterion = nn.CrossEntropyLoss()\n",
    "    model_name = model.__class__.__name__\n",
    "    print(f\"Start train {model_name}, pretrained={model.weights is not None}...\")\n",
    "    f1_score_fn = F1Score(task=\"binary\", num_classes=num_classes).to(device)\n",
    "    val_losses, val_metrics, best_metric = train_model(\n",
    "        model, criterion, optimizer, f1_score_fn, epochs\n",
    "    )\n",
    "    print(f\"Best f1 metric of {model_name}: {best_metric} \")\n",
    "    plot_loss_history(val_losses, f\"Validation loss history of {model_name} (pretrained={model.weights is not None})\")"
   ]
  },
  {
   "cell_type": "markdown",
   "metadata": {
    "id": "QBlSOOejzrYZ"
   },
   "source": [
    "Вывод: по результатам обучения лучше себя показала модель, основанная на свертках и предобученная на GloVe. При этом справедливо, что обе модели CNN и LSTM показывают себя лучше, если они инициализированы предобученными эмбеддингами по сравнению с теми же моделями, которые не были прединициализированы"
   ]
  }
 ],
 "metadata": {
  "accelerator": "GPU",
  "colab": {
   "gpuType": "T4",
   "provenance": []
  },
  "kernelspec": {
   "display_name": "Python 3 (ipykernel)",
   "language": "python",
   "name": "python3"
  },
  "language_info": {
   "codemirror_mode": {
    "name": "ipython",
    "version": 3
   },
   "file_extension": ".py",
   "mimetype": "text/x-python",
   "name": "python",
   "nbconvert_exporter": "python",
   "pygments_lexer": "ipython3",
   "version": "3.10.13"
  },
  "widgets": {
   "application/vnd.jupyter.widget-state+json": {
    "2488f0e2508d47aab9f7f6fbfbbfe1e6": {
     "model_module": "@jupyter-widgets/controls",
     "model_module_version": "1.5.0",
     "model_name": "HTMLModel",
     "state": {
      "_dom_classes": [],
      "_model_module": "@jupyter-widgets/controls",
      "_model_module_version": "1.5.0",
      "_model_name": "HTMLModel",
      "_view_count": null,
      "_view_module": "@jupyter-widgets/controls",
      "_view_module_version": "1.5.0",
      "_view_name": "HTMLView",
      "description": "",
      "description_tooltip": null,
      "layout": "IPY_MODEL_f9f4f71c677949aaa133fcad53368f32",
      "placeholder": "​",
      "style": "IPY_MODEL_e9eebbb7b47e49edbb25d58df62dc35e",
      "value": " 44898/44898 [44:22&lt;00:00, 25.17it/s]"
     }
    },
    "28a1496645854734a69acc56bf44a963": {
     "model_module": "@jupyter-widgets/controls",
     "model_module_version": "1.5.0",
     "model_name": "FloatProgressModel",
     "state": {
      "_dom_classes": [],
      "_model_module": "@jupyter-widgets/controls",
      "_model_module_version": "1.5.0",
      "_model_name": "FloatProgressModel",
      "_view_count": null,
      "_view_module": "@jupyter-widgets/controls",
      "_view_module_version": "1.5.0",
      "_view_name": "ProgressView",
      "bar_style": "success",
      "description": "",
      "description_tooltip": null,
      "layout": "IPY_MODEL_de3340af32ba4c29b2c7cbe52a90a8d6",
      "max": 44898,
      "min": 0,
      "orientation": "horizontal",
      "style": "IPY_MODEL_8ca840589a604eedb72282e3614f513a",
      "value": 44898
     }
    },
    "2e78dcd6b8874b4eb4d59f2abd61c94b": {
     "model_module": "@jupyter-widgets/base",
     "model_module_version": "1.2.0",
     "model_name": "LayoutModel",
     "state": {
      "_model_module": "@jupyter-widgets/base",
      "_model_module_version": "1.2.0",
      "_model_name": "LayoutModel",
      "_view_count": null,
      "_view_module": "@jupyter-widgets/base",
      "_view_module_version": "1.2.0",
      "_view_name": "LayoutView",
      "align_content": null,
      "align_items": null,
      "align_self": null,
      "border": null,
      "bottom": null,
      "display": null,
      "flex": null,
      "flex_flow": null,
      "grid_area": null,
      "grid_auto_columns": null,
      "grid_auto_flow": null,
      "grid_auto_rows": null,
      "grid_column": null,
      "grid_gap": null,
      "grid_row": null,
      "grid_template_areas": null,
      "grid_template_columns": null,
      "grid_template_rows": null,
      "height": null,
      "justify_content": null,
      "justify_items": null,
      "left": null,
      "margin": null,
      "max_height": null,
      "max_width": null,
      "min_height": null,
      "min_width": null,
      "object_fit": null,
      "object_position": null,
      "order": null,
      "overflow": null,
      "overflow_x": null,
      "overflow_y": null,
      "padding": null,
      "right": null,
      "top": null,
      "visibility": null,
      "width": null
     }
    },
    "2f122b33bfd144d8aa4bc2453cf83900": {
     "model_module": "@jupyter-widgets/controls",
     "model_module_version": "1.5.0",
     "model_name": "HTMLModel",
     "state": {
      "_dom_classes": [],
      "_model_module": "@jupyter-widgets/controls",
      "_model_module_version": "1.5.0",
      "_model_name": "HTMLModel",
      "_view_count": null,
      "_view_module": "@jupyter-widgets/controls",
      "_view_module_version": "1.5.0",
      "_view_name": "HTMLView",
      "description": "",
      "description_tooltip": null,
      "layout": "IPY_MODEL_2e78dcd6b8874b4eb4d59f2abd61c94b",
      "placeholder": "​",
      "style": "IPY_MODEL_79d973c1f2b640f9bee09b6b220b5986",
      "value": "Pandas Apply: 100%"
     }
    },
    "79d973c1f2b640f9bee09b6b220b5986": {
     "model_module": "@jupyter-widgets/controls",
     "model_module_version": "1.5.0",
     "model_name": "DescriptionStyleModel",
     "state": {
      "_model_module": "@jupyter-widgets/controls",
      "_model_module_version": "1.5.0",
      "_model_name": "DescriptionStyleModel",
      "_view_count": null,
      "_view_module": "@jupyter-widgets/base",
      "_view_module_version": "1.2.0",
      "_view_name": "StyleView",
      "description_width": ""
     }
    },
    "8ca840589a604eedb72282e3614f513a": {
     "model_module": "@jupyter-widgets/controls",
     "model_module_version": "1.5.0",
     "model_name": "ProgressStyleModel",
     "state": {
      "_model_module": "@jupyter-widgets/controls",
      "_model_module_version": "1.5.0",
      "_model_name": "ProgressStyleModel",
      "_view_count": null,
      "_view_module": "@jupyter-widgets/base",
      "_view_module_version": "1.2.0",
      "_view_name": "StyleView",
      "bar_color": null,
      "description_width": ""
     }
    },
    "de3340af32ba4c29b2c7cbe52a90a8d6": {
     "model_module": "@jupyter-widgets/base",
     "model_module_version": "1.2.0",
     "model_name": "LayoutModel",
     "state": {
      "_model_module": "@jupyter-widgets/base",
      "_model_module_version": "1.2.0",
      "_model_name": "LayoutModel",
      "_view_count": null,
      "_view_module": "@jupyter-widgets/base",
      "_view_module_version": "1.2.0",
      "_view_name": "LayoutView",
      "align_content": null,
      "align_items": null,
      "align_self": null,
      "border": null,
      "bottom": null,
      "display": null,
      "flex": null,
      "flex_flow": null,
      "grid_area": null,
      "grid_auto_columns": null,
      "grid_auto_flow": null,
      "grid_auto_rows": null,
      "grid_column": null,
      "grid_gap": null,
      "grid_row": null,
      "grid_template_areas": null,
      "grid_template_columns": null,
      "grid_template_rows": null,
      "height": null,
      "justify_content": null,
      "justify_items": null,
      "left": null,
      "margin": null,
      "max_height": null,
      "max_width": null,
      "min_height": null,
      "min_width": null,
      "object_fit": null,
      "object_position": null,
      "order": null,
      "overflow": null,
      "overflow_x": null,
      "overflow_y": null,
      "padding": null,
      "right": null,
      "top": null,
      "visibility": null,
      "width": null
     }
    },
    "e6528c3590234ece92c591c4c3523c7f": {
     "model_module": "@jupyter-widgets/controls",
     "model_module_version": "1.5.0",
     "model_name": "HBoxModel",
     "state": {
      "_dom_classes": [],
      "_model_module": "@jupyter-widgets/controls",
      "_model_module_version": "1.5.0",
      "_model_name": "HBoxModel",
      "_view_count": null,
      "_view_module": "@jupyter-widgets/controls",
      "_view_module_version": "1.5.0",
      "_view_name": "HBoxView",
      "box_style": "",
      "children": [
       "IPY_MODEL_2f122b33bfd144d8aa4bc2453cf83900",
       "IPY_MODEL_28a1496645854734a69acc56bf44a963",
       "IPY_MODEL_2488f0e2508d47aab9f7f6fbfbbfe1e6"
      ],
      "layout": "IPY_MODEL_eff1a013a4274375ab79000d4e578730"
     }
    },
    "e9eebbb7b47e49edbb25d58df62dc35e": {
     "model_module": "@jupyter-widgets/controls",
     "model_module_version": "1.5.0",
     "model_name": "DescriptionStyleModel",
     "state": {
      "_model_module": "@jupyter-widgets/controls",
      "_model_module_version": "1.5.0",
      "_model_name": "DescriptionStyleModel",
      "_view_count": null,
      "_view_module": "@jupyter-widgets/base",
      "_view_module_version": "1.2.0",
      "_view_name": "StyleView",
      "description_width": ""
     }
    },
    "eff1a013a4274375ab79000d4e578730": {
     "model_module": "@jupyter-widgets/base",
     "model_module_version": "1.2.0",
     "model_name": "LayoutModel",
     "state": {
      "_model_module": "@jupyter-widgets/base",
      "_model_module_version": "1.2.0",
      "_model_name": "LayoutModel",
      "_view_count": null,
      "_view_module": "@jupyter-widgets/base",
      "_view_module_version": "1.2.0",
      "_view_name": "LayoutView",
      "align_content": null,
      "align_items": null,
      "align_self": null,
      "border": null,
      "bottom": null,
      "display": null,
      "flex": null,
      "flex_flow": null,
      "grid_area": null,
      "grid_auto_columns": null,
      "grid_auto_flow": null,
      "grid_auto_rows": null,
      "grid_column": null,
      "grid_gap": null,
      "grid_row": null,
      "grid_template_areas": null,
      "grid_template_columns": null,
      "grid_template_rows": null,
      "height": null,
      "justify_content": null,
      "justify_items": null,
      "left": null,
      "margin": null,
      "max_height": null,
      "max_width": null,
      "min_height": null,
      "min_width": null,
      "object_fit": null,
      "object_position": null,
      "order": null,
      "overflow": null,
      "overflow_x": null,
      "overflow_y": null,
      "padding": null,
      "right": null,
      "top": null,
      "visibility": null,
      "width": null
     }
    },
    "f9f4f71c677949aaa133fcad53368f32": {
     "model_module": "@jupyter-widgets/base",
     "model_module_version": "1.2.0",
     "model_name": "LayoutModel",
     "state": {
      "_model_module": "@jupyter-widgets/base",
      "_model_module_version": "1.2.0",
      "_model_name": "LayoutModel",
      "_view_count": null,
      "_view_module": "@jupyter-widgets/base",
      "_view_module_version": "1.2.0",
      "_view_name": "LayoutView",
      "align_content": null,
      "align_items": null,
      "align_self": null,
      "border": null,
      "bottom": null,
      "display": null,
      "flex": null,
      "flex_flow": null,
      "grid_area": null,
      "grid_auto_columns": null,
      "grid_auto_flow": null,
      "grid_auto_rows": null,
      "grid_column": null,
      "grid_gap": null,
      "grid_row": null,
      "grid_template_areas": null,
      "grid_template_columns": null,
      "grid_template_rows": null,
      "height": null,
      "justify_content": null,
      "justify_items": null,
      "left": null,
      "margin": null,
      "max_height": null,
      "max_width": null,
      "min_height": null,
      "min_width": null,
      "object_fit": null,
      "object_position": null,
      "order": null,
      "overflow": null,
      "overflow_x": null,
      "overflow_y": null,
      "padding": null,
      "right": null,
      "top": null,
      "visibility": null,
      "width": null
     }
    }
   }
  }
 },
 "nbformat": 4,
 "nbformat_minor": 4
}
