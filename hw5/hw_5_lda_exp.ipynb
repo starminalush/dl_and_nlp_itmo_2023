{
  "cells": [
    {
      "cell_type": "code",
      "source": [
        "!pip install numpy==1.25.0 gensim nltk optuna pyLDAvis pymorphy2 tqdm num2words wget corus"
      ],
      "metadata": {
        "colab": {
          "base_uri": "https://localhost:8080/",
          "height": 1000
        },
        "id": "1r-DXfmfsN78",
        "outputId": "97b60a7d-6444-4dd2-e25c-336b9aa8cc25"
      },
      "execution_count": 3,
      "outputs": [
        {
          "output_type": "stream",
          "name": "stdout",
          "text": [
            "Collecting numpy==1.25.0\n",
            "  Downloading numpy-1.25.0-cp310-cp310-manylinux_2_17_x86_64.manylinux2014_x86_64.whl (17.6 MB)\n",
            "\u001b[2K     \u001b[90m━━━━━━━━━━━━━━━━━━━━━━━━━━━━━━━━━━━━━━━━\u001b[0m \u001b[32m17.6/17.6 MB\u001b[0m \u001b[31m58.0 MB/s\u001b[0m eta \u001b[36m0:00:00\u001b[0m\n",
            "\u001b[?25hRequirement already satisfied: gensim in /usr/local/lib/python3.10/dist-packages (4.3.2)\n",
            "Requirement already satisfied: nltk in /usr/local/lib/python3.10/dist-packages (3.8.1)\n",
            "Collecting optuna\n",
            "  Using cached optuna-3.4.0-py3-none-any.whl (409 kB)\n",
            "Collecting pyLDAvis\n",
            "  Using cached pyLDAvis-3.4.1-py3-none-any.whl (2.6 MB)\n",
            "Collecting pymorphy2\n",
            "  Using cached pymorphy2-0.9.1-py3-none-any.whl (55 kB)\n",
            "Requirement already satisfied: tqdm in /usr/local/lib/python3.10/dist-packages (4.66.1)\n",
            "Collecting num2words\n",
            "  Downloading num2words-0.5.13-py3-none-any.whl (143 kB)\n",
            "\u001b[2K     \u001b[90m━━━━━━━━━━━━━━━━━━━━━━━━━━━━━━━━━━━━━━━━\u001b[0m \u001b[32m143.3/143.3 kB\u001b[0m \u001b[31m15.2 MB/s\u001b[0m eta \u001b[36m0:00:00\u001b[0m\n",
            "\u001b[?25hCollecting wget\n",
            "  Downloading wget-3.2.zip (10 kB)\n",
            "  Preparing metadata (setup.py) ... \u001b[?25l\u001b[?25hdone\n",
            "Collecting corus\n",
            "  Downloading corus-0.10.0-py3-none-any.whl (83 kB)\n",
            "\u001b[2K     \u001b[90m━━━━━━━━━━━━━━━━━━━━━━━━━━━━━━━━━━━━━━━━\u001b[0m \u001b[32m83.7/83.7 kB\u001b[0m \u001b[31m8.5 MB/s\u001b[0m eta \u001b[36m0:00:00\u001b[0m\n",
            "\u001b[?25hRequirement already satisfied: scipy>=1.7.0 in /usr/local/lib/python3.10/dist-packages (from gensim) (1.11.3)\n",
            "Requirement already satisfied: smart-open>=1.8.1 in /usr/local/lib/python3.10/dist-packages (from gensim) (6.4.0)\n",
            "Requirement already satisfied: click in /usr/local/lib/python3.10/dist-packages (from nltk) (8.1.7)\n",
            "Requirement already satisfied: joblib in /usr/local/lib/python3.10/dist-packages (from nltk) (1.3.2)\n",
            "Requirement already satisfied: regex>=2021.8.3 in /usr/local/lib/python3.10/dist-packages (from nltk) (2023.6.3)\n",
            "Collecting alembic>=1.5.0 (from optuna)\n",
            "  Downloading alembic-1.12.1-py3-none-any.whl (226 kB)\n",
            "\u001b[2K     \u001b[90m━━━━━━━━━━━━━━━━━━━━━━━━━━━━━━━━━━━━━━━━\u001b[0m \u001b[32m226.8/226.8 kB\u001b[0m \u001b[31m17.9 MB/s\u001b[0m eta \u001b[36m0:00:00\u001b[0m\n",
            "\u001b[?25hCollecting colorlog (from optuna)\n",
            "  Downloading colorlog-6.7.0-py2.py3-none-any.whl (11 kB)\n",
            "Requirement already satisfied: packaging>=20.0 in /usr/local/lib/python3.10/dist-packages (from optuna) (23.2)\n",
            "Requirement already satisfied: sqlalchemy>=1.3.0 in /usr/local/lib/python3.10/dist-packages (from optuna) (2.0.22)\n",
            "Requirement already satisfied: PyYAML in /usr/local/lib/python3.10/dist-packages (from optuna) (6.0.1)\n",
            "Collecting pandas>=2.0.0 (from pyLDAvis)\n",
            "  Downloading pandas-2.1.2-cp310-cp310-manylinux_2_17_x86_64.manylinux2014_x86_64.whl (12.3 MB)\n",
            "\u001b[2K     \u001b[90m━━━━━━━━━━━━━━━━━━━━━━━━━━━━━━━━━━━━━━━━\u001b[0m \u001b[32m12.3/12.3 MB\u001b[0m \u001b[31m80.8 MB/s\u001b[0m eta \u001b[36m0:00:00\u001b[0m\n",
            "\u001b[?25hRequirement already satisfied: jinja2 in /usr/local/lib/python3.10/dist-packages (from pyLDAvis) (3.1.2)\n",
            "Requirement already satisfied: numexpr in /usr/local/lib/python3.10/dist-packages (from pyLDAvis) (2.8.7)\n",
            "Collecting funcy (from pyLDAvis)\n",
            "  Downloading funcy-2.0-py2.py3-none-any.whl (30 kB)\n",
            "Requirement already satisfied: scikit-learn>=1.0.0 in /usr/local/lib/python3.10/dist-packages (from pyLDAvis) (1.2.2)\n",
            "Requirement already satisfied: setuptools in /usr/local/lib/python3.10/dist-packages (from pyLDAvis) (67.7.2)\n",
            "Collecting dawg-python>=0.7.1 (from pymorphy2)\n",
            "  Downloading DAWG_Python-0.7.2-py2.py3-none-any.whl (11 kB)\n",
            "Collecting pymorphy2-dicts-ru<3.0,>=2.4 (from pymorphy2)\n",
            "  Downloading pymorphy2_dicts_ru-2.4.417127.4579844-py2.py3-none-any.whl (8.2 MB)\n",
            "\u001b[2K     \u001b[90m━━━━━━━━━━━━━━━━━━━━━━━━━━━━━━━━━━━━━━━━\u001b[0m \u001b[32m8.2/8.2 MB\u001b[0m \u001b[31m90.8 MB/s\u001b[0m eta \u001b[36m0:00:00\u001b[0m\n",
            "\u001b[?25hCollecting docopt>=0.6 (from pymorphy2)\n",
            "  Downloading docopt-0.6.2.tar.gz (25 kB)\n",
            "  Preparing metadata (setup.py) ... \u001b[?25l\u001b[?25hdone\n",
            "Collecting Mako (from alembic>=1.5.0->optuna)\n",
            "  Downloading Mako-1.2.4-py3-none-any.whl (78 kB)\n",
            "\u001b[2K     \u001b[90m━━━━━━━━━━━━━━━━━━━━━━━━━━━━━━━━━━━━━━━━\u001b[0m \u001b[32m78.7/78.7 kB\u001b[0m \u001b[31m8.7 MB/s\u001b[0m eta \u001b[36m0:00:00\u001b[0m\n",
            "\u001b[?25hRequirement already satisfied: typing-extensions>=4 in /usr/local/lib/python3.10/dist-packages (from alembic>=1.5.0->optuna) (4.5.0)\n",
            "Requirement already satisfied: python-dateutil>=2.8.2 in /usr/local/lib/python3.10/dist-packages (from pandas>=2.0.0->pyLDAvis) (2.8.2)\n",
            "Requirement already satisfied: pytz>=2020.1 in /usr/local/lib/python3.10/dist-packages (from pandas>=2.0.0->pyLDAvis) (2023.3.post1)\n",
            "Collecting tzdata>=2022.1 (from pandas>=2.0.0->pyLDAvis)\n",
            "  Downloading tzdata-2023.3-py2.py3-none-any.whl (341 kB)\n",
            "\u001b[2K     \u001b[90m━━━━━━━━━━━━━━━━━━━━━━━━━━━━━━━━━━━━━━━━\u001b[0m \u001b[32m341.8/341.8 kB\u001b[0m \u001b[31m33.3 MB/s\u001b[0m eta \u001b[36m0:00:00\u001b[0m\n",
            "\u001b[?25hRequirement already satisfied: threadpoolctl>=2.0.0 in /usr/local/lib/python3.10/dist-packages (from scikit-learn>=1.0.0->pyLDAvis) (3.2.0)\n",
            "Requirement already satisfied: greenlet!=0.4.17 in /usr/local/lib/python3.10/dist-packages (from sqlalchemy>=1.3.0->optuna) (3.0.0)\n",
            "Requirement already satisfied: MarkupSafe>=2.0 in /usr/local/lib/python3.10/dist-packages (from jinja2->pyLDAvis) (2.1.3)\n",
            "Requirement already satisfied: six>=1.5 in /usr/local/lib/python3.10/dist-packages (from python-dateutil>=2.8.2->pandas>=2.0.0->pyLDAvis) (1.16.0)\n",
            "Building wheels for collected packages: wget, docopt\n",
            "  Building wheel for wget (setup.py) ... \u001b[?25l\u001b[?25hdone\n",
            "  Created wheel for wget: filename=wget-3.2-py3-none-any.whl size=9655 sha256=0882df98282018abf7168f3e45e89f25b188506056e98d6e36eca0e352fd4c4d\n",
            "  Stored in directory: /root/.cache/pip/wheels/8b/f1/7f/5c94f0a7a505ca1c81cd1d9208ae2064675d97582078e6c769\n",
            "  Building wheel for docopt (setup.py) ... \u001b[?25l\u001b[?25hdone\n",
            "  Created wheel for docopt: filename=docopt-0.6.2-py2.py3-none-any.whl size=13705 sha256=3fcac23285f63a484162a8f2e585fadbf07a749e9dd1011bd490c54d7520bfd0\n",
            "  Stored in directory: /root/.cache/pip/wheels/fc/ab/d4/5da2067ac95b36618c629a5f93f809425700506f72c9732fac\n",
            "Successfully built wget docopt\n",
            "Installing collected packages: wget, pymorphy2-dicts-ru, funcy, docopt, dawg-python, corus, tzdata, pymorphy2, numpy, num2words, Mako, colorlog, pandas, alembic, optuna, pyLDAvis\n",
            "  Attempting uninstall: numpy\n",
            "    Found existing installation: numpy 1.23.5\n",
            "    Uninstalling numpy-1.23.5:\n",
            "      Successfully uninstalled numpy-1.23.5\n",
            "  Attempting uninstall: pandas\n",
            "    Found existing installation: pandas 1.5.3\n",
            "    Uninstalling pandas-1.5.3:\n",
            "      Successfully uninstalled pandas-1.5.3\n",
            "\u001b[31mERROR: pip's dependency resolver does not currently take into account all the packages that are installed. This behaviour is the source of the following dependency conflicts.\n",
            "lida 0.0.10 requires fastapi, which is not installed.\n",
            "lida 0.0.10 requires kaleido, which is not installed.\n",
            "lida 0.0.10 requires python-multipart, which is not installed.\n",
            "lida 0.0.10 requires uvicorn, which is not installed.\n",
            "google-colab 1.0.0 requires pandas==1.5.3, but you have pandas 2.1.2 which is incompatible.\n",
            "numba 0.56.4 requires numpy<1.24,>=1.18, but you have numpy 1.25.0 which is incompatible.\u001b[0m\u001b[31m\n",
            "\u001b[0mSuccessfully installed Mako-1.2.4 alembic-1.12.1 colorlog-6.7.0 corus-0.10.0 dawg-python-0.7.2 docopt-0.6.2 funcy-2.0 num2words-0.5.13 numpy-1.25.0 optuna-3.4.0 pandas-2.1.2 pyLDAvis-3.4.1 pymorphy2-0.9.1 pymorphy2-dicts-ru-2.4.417127.4579844 tzdata-2023.3 wget-3.2\n"
          ]
        },
        {
          "output_type": "display_data",
          "data": {
            "application/vnd.colab-display-data+json": {
              "pip_warning": {
                "packages": [
                  "numpy"
                ]
              }
            }
          },
          "metadata": {}
        }
      ]
    },
    {
      "cell_type": "code",
      "execution_count": 4,
      "metadata": {
        "colab": {
          "base_uri": "https://localhost:8080/"
        },
        "id": "CwkEBoZWUAzy",
        "outputId": "48a98e02-f128-4f1b-8694-62c6899a4a6e"
      },
      "outputs": [
        {
          "output_type": "stream",
          "name": "stderr",
          "text": [
            "/usr/local/lib/python3.10/dist-packages/google/rpc/__init__.py:20: DeprecationWarning: Deprecated call to `pkg_resources.declare_namespace('google.rpc')`.\n",
            "Implementing implicit namespace packages (as specified in PEP 420) is preferred to `pkg_resources.declare_namespace`. See https://setuptools.pypa.io/en/latest/references/keywords.html#keyword-namespace-packages\n",
            "  pkg_resources.declare_namespace(__name__)\n",
            "/usr/local/lib/python3.10/dist-packages/pkg_resources/__init__.py:2349: DeprecationWarning: Deprecated call to `pkg_resources.declare_namespace('google')`.\n",
            "Implementing implicit namespace packages (as specified in PEP 420) is preferred to `pkg_resources.declare_namespace`. See https://setuptools.pypa.io/en/latest/references/keywords.html#keyword-namespace-packages\n",
            "  declare_namespace(parent)\n",
            "[nltk_data] Downloading package punkt to /root/nltk_data...\n",
            "[nltk_data]   Unzipping tokenizers/punkt.zip.\n",
            "[nltk_data] Downloading package stopwords to /root/nltk_data...\n",
            "[nltk_data]   Unzipping corpora/stopwords.zip.\n"
          ]
        },
        {
          "output_type": "execute_result",
          "data": {
            "text/plain": [
              "True"
            ]
          },
          "metadata": {},
          "execution_count": 4
        }
      ],
      "source": [
        "import ast\n",
        "import gc\n",
        "import os\n",
        "import random\n",
        "import re\n",
        "import string\n",
        "import warnings\n",
        "from functools import partial\n",
        "from itertools import islice, product\n",
        "from typing import Tuple\n",
        "\n",
        "import nltk\n",
        "import numpy as np\n",
        "import optuna\n",
        "import pyLDAvis\n",
        "import pyLDAvis.gensim_models as gensimvis\n",
        "import wget\n",
        "from corus import load_lenta\n",
        "from gensim.corpora import Dictionary\n",
        "from gensim.models import CoherenceModel, Phrases\n",
        "from gensim.models.ldamodel import LdaModel\n",
        "from nltk import WordPunctTokenizer\n",
        "from nltk.corpus import stopwords\n",
        "from nltk.tokenize import sent_tokenize, word_tokenize\n",
        "from num2words import num2words\n",
        "from pymorphy2 import MorphAnalyzer\n",
        "from tqdm import tqdm\n",
        "\n",
        "warnings.filterwarnings(\"ignore\")\n",
        "pyLDAvis.enable_notebook()\n",
        "nltk.download(\"punkt\")\n",
        "nltk.download(\"stopwords\")"
      ]
    },
    {
      "cell_type": "code",
      "execution_count": 5,
      "metadata": {
        "id": "1q9QdOLiZmcj"
      },
      "outputs": [],
      "source": [
        "RANDOM_SEED = 42"
      ]
    },
    {
      "cell_type": "code",
      "execution_count": 6,
      "metadata": {
        "id": "krA_HH-KVBZs"
      },
      "outputs": [],
      "source": [
        "random.seed(RANDOM_SEED)\n",
        "os.environ[\"PYTHONHASHSEED\"] = str(RANDOM_SEED)\n",
        "np.random.seed(RANDOM_SEED)"
      ]
    },
    {
      "cell_type": "code",
      "execution_count": 7,
      "metadata": {
        "id": "9Vj0s3PjZhfh"
      },
      "outputs": [],
      "source": [
        "morph_analyzer = MorphAnalyzer(lang=\"ru\")\n",
        "tokenizer = WordPunctTokenizer()"
      ]
    },
    {
      "cell_type": "code",
      "execution_count": 8,
      "metadata": {
        "id": "xtWITZMksNH_"
      },
      "outputs": [],
      "source": [
        "russian_stopwords = stopwords.words(\"russian\")\n",
        "additional_sw = \"мои оно мной мною мог могут мор мое мочь оба нам нами ними однако нему никуда наш нею неё наша наше наши очень отсюда вон вами ваш ваша ваше ваши весь всем всеми вся ими ею будем будете будешь буду будь будут кому кого которой которого которая которые который которых кем каждое каждая каждые каждый кажется та те тому собой тобой собою тобою тою хотеть хочешь свое свои твой своей своего своих твоя твоё сама сами теми само самом самому самой самого самим самими самих саму чему тебе такое такие также такая сих тех ту эта это этому туда этим этими этих абы аж ан благо буде вроде дабы едва ежели затем зато ибо итак кабы коли коль либо лишь нежели пока покамест покуда поскольку притом причем пускай пусть ровно сиречь словно также точно хотя чисто якобы \"\n",
        "pronouns = \"я мы ты вы он она оно они себя мой твой ваш наш свой его ее их то это тот этот такой таков столько весь всякий сам самый каждый любой иной другой кто что какой каков чей сколько никто ничто некого нечего никакой ничей нисколько кто-то кое-кто кто-нибудь кто-либо что-то кое-что что-нибудь что-либо какой-то какой-либо какой-нибудь некто нечто некоторый некий\"\n",
        "conjunctions = \"что чтобы как когда ибо пока будто словно если потому что оттого что так как так что лишь только как будто с тех пор как в связи с тем что для того чтобы кто как когда который какой где куда откуда\"\n",
        "digits = \"ноль один два три четыре пять шесть семь восемь девять десять одиннадцать двенадцать тринадцать четырнадцать пятнадцать шестнадцать семнадцать восемнадцать девятнадцать двадцать тридцать сорок пятьдесят шестьдесят семьдесят восемьдесят девяносто сто\"\n",
        "modal_words = \"вероятно возможно видимо по-видимому кажется наверное безусловно верно  действительно конечно несомненно разумеется\"\n",
        "particles = \"да так точно ну да не ни неужели ли разве а что ли что за то-то как ну и ведь даже еще ведь уже все все-таки просто прямо вон это вот как словно будто точно как будто вроде как бы именно как раз подлинно ровно лишь только хоть всего исключительно вряд ли едва ли\"\n",
        "prepositions = \"близ  вблизи  вдоль  вокруг  впереди  внутрь  внутри  возле  около  поверх  сверху  сверх  позади  сзади  сквозь  среди  прежде  мимо  вслед  согласно  подобно  навстречу  против  напротив  вопреки  после  кроме  вместе  вдали  наряду  совместно  согласно  нежели вроде от бишь до без аж тех раньше совсем только итак например из прямо ли следствие а поскольку благо пускай благодаря случае затем притом также связи время при чтоб просто того невзирая даром вместо точно покуда тогда зато ради ан буде прежде насчет раз причине тому так даже исходя коль кабы более ровно либо помимо как-то будто если словно лишь бы и не будь пор тоже разве чуть как хотя наряду потому пусть в равно между сверх ибо на судя то чтобы относительно или счет за но сравнению причем оттого есть когда уж ввиду тем для дабы чем хоть с вплоть скоро едва после той да вопреки ежели кроме сиречь же коли под абы несмотря все пока покамест паче прямо-таки перед что по вдруг якобы подобно\"\n",
        "evaluative = \"наиболее наименее лучший больший высший низший худший более менее\"\n",
        "\n",
        "russian_stopwords.extend(additional_sw.split())\n",
        "russian_stopwords.extend(pronouns.split())\n",
        "russian_stopwords.extend(conjunctions.split())\n",
        "russian_stopwords.extend(digits.split())\n",
        "russian_stopwords.extend(modal_words.split())\n",
        "russian_stopwords.extend(particles.split())\n",
        "russian_stopwords.extend(prepositions.split())\n",
        "russian_stopwords.extend(evaluative.split())\n",
        "russian_stopwords = set(russian_stopwords)"
      ]
    },
    {
      "cell_type": "markdown",
      "metadata": {
        "id": "z924aXadsNIA"
      },
      "source": [
        "## Скачиваем датасет, делаем предобработку"
      ]
    },
    {
      "cell_type": "code",
      "execution_count": 9,
      "metadata": {
        "colab": {
          "base_uri": "https://localhost:8080/",
          "height": 35
        },
        "id": "TCQnB9q-VD_Y",
        "outputId": "468b292a-ecf3-4423-a0f7-a9660f2eb1a5"
      },
      "outputs": [
        {
          "output_type": "execute_result",
          "data": {
            "text/plain": [
              "'lenta-ru-news.csv.gz'"
            ],
            "application/vnd.google.colaboratory.intrinsic+json": {
              "type": "string"
            }
          },
          "metadata": {},
          "execution_count": 9
        }
      ],
      "source": [
        "dataset_url = \"https://github.com/yutkin/Lenta.Ru-News-Dataset/releases/download/v1.0/lenta-ru-news.csv.gz\"\n",
        "wget.download(dataset_url)"
      ]
    },
    {
      "cell_type": "code",
      "execution_count": 10,
      "metadata": {
        "id": "XodVsjPlVFXz"
      },
      "outputs": [],
      "source": [
        "path = \"lenta-ru-news.csv.gz\"\n",
        "records = load_lenta(path)"
      ]
    },
    {
      "cell_type": "markdown",
      "metadata": {
        "id": "oEApZSjRsNIC"
      },
      "source": [
        "Датасет большой, поэтому возьмем 3000 записей"
      ]
    },
    {
      "cell_type": "code",
      "execution_count": 11,
      "metadata": {
        "id": "1InYTNsFVM9W"
      },
      "outputs": [],
      "source": [
        "news = (record.title + \". \" + record.text for record in islice(records, 3000))"
      ]
    },
    {
      "cell_type": "markdown",
      "metadata": {
        "id": "HjcjUrxlsNIC"
      },
      "source": [
        "### Делаем препроцессинг текста"
      ]
    },
    {
      "cell_type": "code",
      "execution_count": 12,
      "metadata": {
        "id": "FA4oX-2LZEum"
      },
      "outputs": [],
      "source": [
        "def convert_digit_to_word(text):\n",
        "    pattern = r\"\\d+\"\n",
        "    numbers = re.findall(pattern, text)\n",
        "    for number in numbers:\n",
        "        text = text.replace(number, num2words(number, lang=\"ru\"))\n",
        "    return text\n",
        "\n",
        "\n",
        "def lemmatize(words) -> list[str]:\n",
        "    return [morph_analyzer.parse(word)[0].normal_form for word in words]\n",
        "\n",
        "\n",
        "def delete_stop_words(words):\n",
        "    return [word for word in words if word not in russian_stopwords]\n",
        "\n",
        "\n",
        "def delete_punctuation(text):\n",
        "    return \" \".join([word for word in tokenizer.tokenize(text) if word.isalnum()])\n",
        "\n",
        "\n",
        "def tokenize_by_sentences(text: str) -> list[str]:\n",
        "    return sent_tokenize(text)\n",
        "\n",
        "\n",
        "def tokenize_by_words(text):\n",
        "    return word_tokenize(text)\n",
        "\n",
        "\n",
        "def convert_text_to_lowercase(text: str):\n",
        "    return text.lower()\n",
        "\n",
        "\n",
        "def preprocess(text: str) -> list[str]:\n",
        "    sentences: list[str] = tokenize_by_sentences(text)\n",
        "    preprocessed_sentences: list[str] = list()\n",
        "    for sentence in sentences:\n",
        "        sentence = convert_text_to_lowercase(sentence)\n",
        "        sentence = convert_digit_to_word(sentence)\n",
        "        sentence = delete_punctuation(sentence)\n",
        "        words = tokenize_by_words(sentence)\n",
        "        words = delete_stop_words(words)\n",
        "        words = lemmatize(words)\n",
        "        preprocessed_sentences.extend(words)\n",
        "    return preprocessed_sentences"
      ]
    },
    {
      "cell_type": "code",
      "execution_count": 13,
      "metadata": {
        "id": "K_GNKzQVfTUw",
        "colab": {
          "base_uri": "https://localhost:8080/"
        },
        "outputId": "f73f0268-1eff-4ca7-8c71-6881c67ac9bd"
      },
      "outputs": [
        {
          "output_type": "stream",
          "name": "stderr",
          "text": [
            "3000it [01:58, 25.39it/s]\n"
          ]
        }
      ],
      "source": [
        "preprocessed_news = [preprocess(record) for record in tqdm(news)]"
      ]
    },
    {
      "cell_type": "markdown",
      "metadata": {
        "id": "wV6mL5fDsNID"
      },
      "source": [
        "## Обучение LDA"
      ]
    },
    {
      "cell_type": "markdown",
      "metadata": {
        "id": "LXztslRDsNID"
      },
      "source": [
        "Подготовим словарь и корпус для LDA из датасета"
      ]
    },
    {
      "cell_type": "code",
      "execution_count": 14,
      "metadata": {
        "id": "wjGCP_hUEM9u"
      },
      "outputs": [],
      "source": [
        "bigram = Phrases(preprocessed_news, min_count=5, threshold=100)\n",
        "bigram_documents = [bigram[doc] for doc in preprocessed_news]\n",
        "\n",
        "dictionary = Dictionary(bigram_documents)\n",
        "corpus = [dictionary.doc2bow(doc) for doc in bigram_documents]"
      ]
    },
    {
      "cell_type": "markdown",
      "metadata": {
        "id": "5wU5uHRmsNIE"
      },
      "source": [
        "Начинаем эксперименты по подбору параметров. Будем подбирать num_topics, chunk_size, passes в разных сочетаниях и проверять качество на coherence модели"
      ]
    },
    {
      "cell_type": "code",
      "execution_count": 15,
      "metadata": {
        "id": "RCnbNQensNIE"
      },
      "outputs": [],
      "source": [
        "def train(\n",
        "    num_topics: int,\n",
        "    alpha: float,\n",
        "    eta: float,\n",
        "    chunk_size: int,\n",
        "    passes: int,\n",
        "    dictionary: Dictionary,\n",
        "    corpus,\n",
        "):\n",
        "    lda_model = LdaModel(\n",
        "        corpus,\n",
        "        num_topics=num_topics,\n",
        "        id2word=dictionary,\n",
        "        random_state=RANDOM_SEED,\n",
        "        update_every=1,\n",
        "        alpha=alpha,\n",
        "        eta=eta,\n",
        "        chunksize=chunk_size,\n",
        "        passes=passes,\n",
        "        iterations=150,\n",
        "        per_word_topics=True,\n",
        "    )\n",
        "\n",
        "    perplexity = lda_model.log_perplexity(corpus)\n",
        "    print(\n",
        "        f\"LDA с параметрами num_topics {num_topics}, alpha {alpha},  eta {eta}, chunksize {chunk_size} и passes {passes} -  perplexity: {perplexity}\"\n",
        "    )\n",
        "    return perplexity, lda_model"
      ]
    },
    {
      "cell_type": "code",
      "execution_count": 16,
      "metadata": {
        "id": "Xsw9q93DsNIE"
      },
      "outputs": [],
      "source": [
        "def objective(trial, corpus, dictionary, texts):\n",
        "    num_topics = trial.suggest_int(\"num_topics\", 5, 25)\n",
        "    alpha = trial.suggest_float(\"alpha\", 0.01, 1.0)\n",
        "    eta = trial.suggest_float(\"eta\", 0.01, 1.0)\n",
        "    passes = trial.suggest_int(\"passes\", 1, 5)\n",
        "    chunk_size = trial.suggest_int(\"chunk_size\", 5, 30)\n",
        "    coherence, _ = train(\n",
        "        num_topics=num_topics,\n",
        "        alpha=alpha,\n",
        "        eta=eta,\n",
        "        chunk_size=chunk_size,\n",
        "        passes=passes,\n",
        "        dictionary=dictionary,\n",
        "        corpus=corpus,\n",
        "    )\n",
        "    return coherence"
      ]
    },
    {
      "cell_type": "code",
      "execution_count": 17,
      "metadata": {
        "colab": {
          "base_uri": "https://localhost:8080/",
          "height": 642,
          "referenced_widgets": [
            "ffc3de16b3f04e1698a06bdad3f6c27b",
            "a0a2f8846fa842d68dfde49e614fc1d4",
            "773898c54cdc48b0b2961cb03e594d3c",
            "7aaeafb252654ee5b2b43b55eed5e6cf",
            "d90e02813eb54c93a68c070e791c005e",
            "791644457a464793b05193e6cc88eaae",
            "8017e68008b247cb9df7702eb7a7affe",
            "99e64c5efd8544f691b928400ff1a254",
            "620abbdaeaaa473a88b81df1d59aebe7",
            "b9cd7f99594040d0834f3a06b3c928d9",
            "9c509d9aced3424bb80af6e03a4b06ed"
          ]
        },
        "id": "GcuGfs0JsNIE",
        "outputId": "9e19ad96-41d0-4d5d-aa9e-529b561317f8"
      },
      "outputs": [
        {
          "output_type": "stream",
          "name": "stderr",
          "text": [
            "[I 2023-11-02 15:44:06,244] A new study created in memory with name: no-name-fb24c890-13a7-4ceb-973a-1fa487524b84\n"
          ]
        },
        {
          "output_type": "display_data",
          "data": {
            "text/plain": [
              "  0%|          | 0/15 [00:00<?, ?it/s]"
            ],
            "application/vnd.jupyter.widget-view+json": {
              "version_major": 2,
              "version_minor": 0,
              "model_id": "ffc3de16b3f04e1698a06bdad3f6c27b"
            }
          },
          "metadata": {}
        },
        {
          "output_type": "stream",
          "name": "stdout",
          "text": [
            "LDA с параметрами num_topics 21, alpha 0.3534491585492133,  eta 0.21942119012769604, chunksize 29 и passes 3 -  perplexity: -9.347177701915026\n",
            "[I 2023-11-02 15:44:43,528] Trial 0 finished with value: -9.347177701915026 and parameters: {'num_topics': 21, 'alpha': 0.3534491585492133, 'eta': 0.21942119012769604, 'passes': 3, 'chunk_size': 29}. Best is trial 0 with value: -9.347177701915026.\n",
            "LDA с параметрами num_topics 22, alpha 0.35307556384082583,  eta 0.27048541020179284, chunksize 13 и passes 2 -  perplexity: -9.36927636750939\n",
            "[I 2023-11-02 15:45:32,795] Trial 1 finished with value: -9.36927636750939 and parameters: {'num_topics': 22, 'alpha': 0.35307556384082583, 'eta': 0.27048541020179284, 'passes': 2, 'chunk_size': 13}. Best is trial 0 with value: -9.347177701915026.\n",
            "LDA с параметрами num_topics 24, alpha 0.8910107675168576,  eta 0.11243063229406546, chunksize 10 и passes 3 -  perplexity: -10.150802455980315\n",
            "[I 2023-11-02 15:47:10,705] Trial 2 finished with value: -10.150802455980315 and parameters: {'num_topics': 24, 'alpha': 0.8910107675168576, 'eta': 0.11243063229406546, 'passes': 3, 'chunk_size': 10}. Best is trial 0 with value: -9.347177701915026.\n",
            "LDA с параметрами num_topics 24, alpha 0.04930866774017598,  eta 0.6553543164579181, chunksize 6 и passes 5 -  perplexity: -9.224101458860053\n",
            "[I 2023-11-02 15:51:19,446] Trial 3 finished with value: -9.224101458860053 and parameters: {'num_topics': 24, 'alpha': 0.04930866774017598, 'eta': 0.6553543164579181, 'passes': 5, 'chunk_size': 6}. Best is trial 3 with value: -9.224101458860053.\n",
            "LDA с параметрами num_topics 24, alpha 0.07295630161424149,  eta 0.0522713858331703, chunksize 18 и passes 5 -  perplexity: -20.84997530700901\n",
            "[I 2023-11-02 15:52:53,582] Trial 4 finished with value: -20.84997530700901 and parameters: {'num_topics': 24, 'alpha': 0.07295630161424149, 'eta': 0.0522713858331703, 'passes': 5, 'chunk_size': 18}. Best is trial 3 with value: -9.224101458860053.\n",
            "LDA с параметрами num_topics 25, alpha 0.7880280511358155,  eta 0.5226664628147351, chunksize 23 и passes 2 -  perplexity: -9.320873233298368\n",
            "[I 2023-11-02 15:53:26,305] Trial 5 finished with value: -9.320873233298368 and parameters: {'num_topics': 25, 'alpha': 0.7880280511358155, 'eta': 0.5226664628147351, 'passes': 2, 'chunk_size': 23}. Best is trial 3 with value: -9.224101458860053.\n",
            "LDA с параметрами num_topics 5, alpha 0.3579542317811885,  eta 0.5545560598078466, chunksize 25 и passes 5 -  perplexity: -8.998220318471995\n",
            "[I 2023-11-02 15:53:54,074] Trial 6 finished with value: -8.998220318471995 and parameters: {'num_topics': 5, 'alpha': 0.3579542317811885, 'eta': 0.5545560598078466, 'passes': 5, 'chunk_size': 25}. Best is trial 6 with value: -8.998220318471995.\n",
            "LDA с параметрами num_topics 21, alpha 0.7453217139941037,  eta 0.1228547463414116, chunksize 24 и passes 2 -  perplexity: -9.683608938578875\n",
            "[I 2023-11-02 15:54:20,617] Trial 7 finished with value: -9.683608938578875 and parameters: {'num_topics': 21, 'alpha': 0.7453217139941037, 'eta': 0.1228547463414116, 'passes': 2, 'chunk_size': 24}. Best is trial 6 with value: -8.998220318471995.\n",
            "LDA с параметрами num_topics 21, alpha 0.46498624663460014,  eta 0.47813368223293506, chunksize 15 и passes 4 -  perplexity: -9.229650646214804\n",
            "[I 2023-11-02 15:55:43,075] Trial 8 finished with value: -9.229650646214804 and parameters: {'num_topics': 21, 'alpha': 0.46498624663460014, 'eta': 0.47813368223293506, 'passes': 4, 'chunk_size': 15}. Best is trial 6 with value: -8.998220318471995.\n",
            "LDA с параметрами num_topics 25, alpha 0.5021770040604584,  eta 0.47240010036441465, chunksize 16 и passes 4 -  perplexity: -9.297596242671741\n",
            "[I 2023-11-02 15:57:11,988] Trial 9 finished with value: -9.297596242671741 and parameters: {'num_topics': 25, 'alpha': 0.5021770040604584, 'eta': 0.47240010036441465, 'passes': 4, 'chunk_size': 16}. Best is trial 6 with value: -8.998220318471995.\n",
            "LDA с параметрами num_topics 5, alpha 0.22328948943892202,  eta 0.9760439286782322, chunksize 26 и passes 1 -  perplexity: -9.05854260206287\n",
            "[I 2023-11-02 15:57:21,155] Trial 10 finished with value: -9.05854260206287 and parameters: {'num_topics': 5, 'alpha': 0.22328948943892202, 'eta': 0.9760439286782322, 'passes': 1, 'chunk_size': 26}. Best is trial 6 with value: -8.998220318471995.\n",
            "LDA с параметрами num_topics 5, alpha 0.24292772346628105,  eta 0.9462983767142015, chunksize 28 и passes 1 -  perplexity: -9.070976649981278\n",
            "[I 2023-11-02 15:57:28,437] Trial 11 finished with value: -9.070976649981278 and parameters: {'num_topics': 5, 'alpha': 0.24292772346628105, 'eta': 0.9462983767142015, 'passes': 1, 'chunk_size': 28}. Best is trial 6 with value: -8.998220318471995.\n",
            "LDA с параметрами num_topics 5, alpha 0.20784370236959426,  eta 0.990227435859484, chunksize 22 и passes 1 -  perplexity: -9.067727905709255\n",
            "[I 2023-11-02 15:57:38,233] Trial 12 finished with value: -9.067727905709255 and parameters: {'num_topics': 5, 'alpha': 0.20784370236959426, 'eta': 0.990227435859484, 'passes': 1, 'chunk_size': 22}. Best is trial 6 with value: -8.998220318471995.\n",
            "LDA с параметрами num_topics 10, alpha 0.6191979830326817,  eta 0.7552737710731363, chunksize 27 и passes 4 -  perplexity: -9.118423878963005\n",
            "[I 2023-11-02 15:58:07,827] Trial 13 finished with value: -9.118423878963005 and parameters: {'num_topics': 10, 'alpha': 0.6191979830326817, 'eta': 0.7552737710731363, 'passes': 4, 'chunk_size': 27}. Best is trial 6 with value: -8.998220318471995.\n",
            "LDA с параметрами num_topics 10, alpha 0.21284604747382704,  eta 0.8694500460967152, chunksize 20 и passes 1 -  perplexity: -9.097123713376044\n",
            "[I 2023-11-02 15:58:19,174] Trial 14 finished with value: -9.097123713376044 and parameters: {'num_topics': 10, 'alpha': 0.21284604747382704, 'eta': 0.8694500460967152, 'passes': 1, 'chunk_size': 20}. Best is trial 6 with value: -8.998220318471995.\n",
            "CPU times: user 13min 57s, sys: 9.85 s, total: 14min 7s\n",
            "Wall time: 14min 12s\n"
          ]
        }
      ],
      "source": [
        "%%time\n",
        "# https://groups.google.com/g/gensim/c/uQxQiR2oC98?pli=1\n",
        "study = optuna.create_study(direction=\"maximize\")\n",
        "study.optimize(\n",
        "    partial(objective, corpus=corpus, dictionary=dictionary, texts=preprocessed_news),\n",
        "    n_trials=15,\n",
        "    show_progress_bar=True,\n",
        ")\n",
        "\n",
        "best_trial = study.best_trial\n",
        "best_params = study.best_params"
      ]
    },
    {
      "cell_type": "markdown",
      "metadata": {
        "id": "c7SAVRqlsNIF"
      },
      "source": [
        "Обучим модель с лучшими параметрами"
      ]
    },
    {
      "cell_type": "code",
      "execution_count": 19,
      "metadata": {
        "colab": {
          "base_uri": "https://localhost:8080/"
        },
        "id": "f4-F_WR9sNIF",
        "outputId": "86f345c0-f43b-40e6-8736-342589d0c7b9"
      },
      "outputs": [
        {
          "output_type": "stream",
          "name": "stdout",
          "text": [
            "LDA с параметрами num_topics 5, alpha 0.3579542317811885,  eta 0.5545560598078466, chunksize 25 и passes 5 -  perplexity: -8.998220318471995\n"
          ]
        }
      ],
      "source": [
        "_, model = train(\n",
        "    **best_params, dictionary=dictionary, corpus=corpus\n",
        ")"
      ]
    },
    {
      "cell_type": "code",
      "execution_count": 20,
      "metadata": {
        "id": "kvIUgp1VWFGo"
      },
      "outputs": [],
      "source": [
        "def visualize_model(model: LdaModel, corpus: list[list[Tuple[int]]]):\n",
        "    return gensimvis.prepare(model, corpus, dictionary=model.id2word, mds=\"mmds\")"
      ]
    },
    {
      "cell_type": "markdown",
      "metadata": {
        "id": "GoyD0rzIbohb"
      },
      "source": [
        "### Визуализируем самую лучшую модель"
      ]
    },
    {
      "cell_type": "code",
      "execution_count": 21,
      "metadata": {
        "colab": {
          "base_uri": "https://localhost:8080/",
          "height": 861
        },
        "id": "mWOxOW-_sNII",
        "outputId": "244befeb-3f97-42ed-9660-d542a009e364"
      },
      "outputs": [
        {
          "output_type": "execute_result",
          "data": {
            "text/plain": [
              "PreparedData(topic_coordinates=              x         y  topics  cluster       Freq\n",
              "topic                                                \n",
              "1     -0.095899  0.186591       1        1  40.990723\n",
              "0     -0.069856 -0.181475       2        1  26.265830\n",
              "3     -0.199634 -0.004806       3        1  19.932940\n",
              "4      0.144352 -0.119507       4        1   7.290555\n",
              "2      0.221037  0.119197       5        1   5.519952, topic_info=            Term         Freq        Total Category  logprob  loglift\n",
              "783      украина   688.000000   688.000000  Default  30.0000  30.0000\n",
              "29        россия  2638.000000  2638.000000  Default  29.0000  29.0000\n",
              "1465  украинский   556.000000   556.000000  Default  28.0000  28.0000\n",
              "741      корабль   429.000000   429.000000  Default  27.0000  27.0000\n",
              "22       процент   693.000000   693.000000  Default  26.0000  26.0000\n",
              "...          ...          ...          ...      ...      ...      ...\n",
              "699         сила   102.555410   179.316275   Topic5  -5.2830   2.3381\n",
              "1078   задержать   147.455836   406.653004   Topic5  -4.9199   1.8824\n",
              "1356     граница    95.742970   245.027417   Topic5  -5.3517   1.9571\n",
              "146       ноябрь   175.283051  2155.113753   Topic5  -4.7470   0.3876\n",
              "15       назвать    61.313775   567.476379   Topic5  -5.7974   0.6716\n",
              "\n",
              "[312 rows x 6 columns], token_table=      Topic      Freq       Term\n",
              "term                            \n",
              "127       1  0.009159  instagram\n",
              "127       2  0.979987  instagram\n",
              "127       3  0.009159  instagram\n",
              "127       4  0.009159  instagram\n",
              "2453      1  0.022461        ufc\n",
              "...     ...       ...        ...\n",
              "7337      3  0.018530    ювентус\n",
              "7337      4  0.963582    ювентус\n",
              "9639      1  0.009859     ян_кап\n",
              "9639      2  0.009859     ян_кап\n",
              "9639      5  0.985873     ян_кап\n",
              "\n",
              "[890 rows x 3 columns], R=30, lambda_step=0.01, plot_opts={'xlab': 'PC1', 'ylab': 'PC2'}, topic_order=[2, 1, 4, 5, 3])"
            ],
            "text/html": [
              "\n",
              "<link rel=\"stylesheet\" type=\"text/css\" href=\"https://cdn.jsdelivr.net/gh/bmabey/pyLDAvis@3.4.0/pyLDAvis/js/ldavis.v1.0.0.css\">\n",
              "\n",
              "\n",
              "<div id=\"ldavis_el5091406095173078246394267984\" style=\"background-color:white;\"></div>\n",
              "<script type=\"text/javascript\">\n",
              "\n",
              "var ldavis_el5091406095173078246394267984_data = {\"mdsDat\": {\"x\": [-0.09589859988322674, -0.06985582798463037, -0.19963419846611147, 0.14435181430614433, 0.22103681202782421], \"y\": [0.18659124830059445, -0.18147542856655244, -0.004806075565758531, -0.11950664000937013, 0.11919689584108664], \"topics\": [1, 2, 3, 4, 5], \"cluster\": [1, 1, 1, 1, 1], \"Freq\": [40.99072348042023, 26.26583011425019, 19.932939564037916, 7.290555180132227, 5.519951661159447]}, \"tinfo\": {\"Term\": [\"\\u0443\\u043a\\u0440\\u0430\\u0438\\u043d\\u0430\", \"\\u0440\\u043e\\u0441\\u0441\\u0438\\u044f\", \"\\u0443\\u043a\\u0440\\u0430\\u0438\\u043d\\u0441\\u043a\\u0438\\u0439\", \"\\u043a\\u043e\\u0440\\u0430\\u0431\\u043b\\u044c\", \"\\u043f\\u0440\\u043e\\u0446\\u0435\\u043d\\u0442\", \"\\u043d\\u043e\\u044f\\u0431\\u0440\\u044c\", \"\\u0441\\u0442\\u0440\\u0430\\u043d\\u0430\", \"\\u043a\\u043e\\u043c\\u043f\\u0430\\u043d\\u0438\\u044f\", \"\\u0433\\u043e\\u0434\", \"\\u0437\\u0430\\u0434\\u0435\\u0440\\u0436\\u0430\\u0442\\u044c\", \"\\u043f\\u0440\\u0435\\u0437\\u0438\\u0434\\u0435\\u043d\\u0442\", \"\\u0444\\u0441\\u0431\", \"\\u0442\\u044b\\u0441\\u044f\\u0447\\u0430\", \"\\u0440\\u043e\\u0441\\u0441\\u0438\\u0439\\u0441\\u043a\\u0438\\u0439\", \"\\u043a\\u0435\\u0440\\u0447\\u0435\\u043d\\u0441\\u043a\\u0438\\u0439_\\u043f\\u0440\\u043e\\u043b\\u0438\\u0432\", \"\\u0437\\u0430\\u044f\\u0432\\u0438\\u0442\\u044c\", \"\\u0441\\u0430\\u043c\\u043e\\u043b\\u0451\\u0442\", \"\\u0436\\u0435\\u043d\\u0449\\u0438\\u043d\\u0430\", \"\\u043a\\u0438\\u0435\\u0432\", \"\\u0432\\u043e\\u0435\\u043d\\u043d\\u044b\\u0439\", \"\\u0432\\u043e\\u0435\\u043d\\u043d\\u044b\\u0439_\\u043f\\u043e\\u043b\\u043e\\u0436\\u0435\\u043d\\u0438\\u0435\", \"\\u0440\\u0435\\u0431\\u0451\\u043d\\u043e\\u043a\", \"\\u0434\\u0432\\u0430\", \"\\u043b\\u0435\\u0442\\u043d\\u0438\\u0439\", \"\\u043f\\u043e\\u0440\\u043e\\u0448\\u0435\\u043d\\u043a\\u043e\", \"\\u0440\\u0443\\u0431\\u043b\\u044c\", \"\\u043c\\u0443\\u0436\\u0447\\u0438\\u043d\\u0430\", \"\\u0433\\u0440\\u0430\\u043d\\u0438\\u0446\\u0430\", \"\\u0434\\u043e\\u043b\\u043b\\u0430\\u0440\", \"\\u043c\\u0435\\u0434\\u0432\\u0435\\u0434\\u0435\\u0432\", \"\\u043f\\u0440\\u0435\\u0437\\u0438\\u0434\\u0435\\u043d\\u0442\", \"\\u0441\\u0443\\u0434\", \"\\u0432\\u043b\\u0430\\u0441\\u0442\\u044c\", \"\\u0440\\u0435\\u0448\\u0435\\u043d\\u0438\\u0435\", \"\\u043b\\u0438\\u0434\\u0435\\u0440\", \"\\u0434\\u043e\\u043a\\u0443\\u043c\\u0435\\u043d\\u0442\", \"\\u0442\\u0440\\u0430\\u043c\\u043f\", \"\\u0432\\u043e\\u043f\\u0440\\u043e\\u0441\", \"\\u043f\\u0440\\u0430\\u0432\\u043e\", \"\\u0443\\u0433\\u0440\\u043e\\u0437\\u0430\", \"\\u043f\\u043e\\u0434\\u0447\\u0435\\u0440\\u043a\\u043d\\u0443\\u0442\\u044c\", \"\\u0441\\u0438\\u0440\\u0438\\u044f\", \"\\u043f\\u0443\\u0442\\u0438\\u043d\", \"\\u0447\\u043b\\u0435\\u043d\", \"\\u0432\\u043b\\u0430\\u0434\\u0438\\u043c\\u0438\\u0440_\\u043f\\u0443\\u0442\\u0438\\u043d\", \"\\u0433\\u0440\\u0430\\u0436\\u0434\\u0430\\u043d\\u0438\\u043d\", \"\\u0434\\u0435\\u043f\\u0443\\u0442\\u0430\\u0442\", \"\\u0432\\u0435\\u0434\\u043e\\u043c\\u0441\\u0442\\u0432\\u043e\", \"\\u043c\\u0432\\u0434\", \"\\u043f\\u0440\\u0435\\u0441\\u0442\\u0443\\u043f\\u043b\\u0435\\u043d\\u0438\\u0435\", \"\\u0435\\u0432\\u0440\\u043e\\u0441\\u043e\\u044e\\u0437\", \"\\u0437\\u0430\\u044f\\u0432\\u043b\\u0435\\u043d\\u0438\\u0435\", \"\\u043f\\u043e\\u043b\\u0438\\u0442\\u0438\\u043a\\u0430\", \"\\u0437\\u0430\\u043a\\u043e\\u043d\", \"\\u0430\\u0434\\u0432\\u043e\\u043a\\u0430\\u0442\", \"\\u043e\\u0431\\u0432\\u0438\\u043d\\u044f\\u0442\\u044c\", \"\\u0441\\u0442\\u0440\\u0430\\u043d\\u0430\", \"\\u0433\\u043b\\u0430\\u0432\\u0430_\\u0433\\u043e\\u0441\\u0443\\u0434\\u0430\\u0440\\u0441\\u0442\\u0432\\u043e\", \"\\u0441\\u0448\\u0430_\\u0434\\u043e\\u043d\\u0430\\u043b\\u044c\\u0434\", \"\\u043d\\u0435\\u0437\\u0430\\u043a\\u043e\\u043d\\u043d\\u044b\\u0439\", \"\\u0440\\u043e\\u0441\\u0441\\u0438\\u044f\", \"\\u0441\\u0435\\u0440\\u0433\\u0435\\u0439\", \"\\u043d\\u0430\\u0440\\u0443\\u0448\\u0435\\u043d\\u0438\\u0435\", \"\\u043d\\u043e\\u0432\\u043e\\u0441\\u0442\\u044c\", \"\\u0434\\u0435\\u043b\\u043e\", \"\\u043f\\u0440\\u0438\\u043d\\u044f\\u0442\\u044c\", \"\\u0437\\u0430\\u044f\\u0432\\u0438\\u0442\\u044c\", \"\\u043e\\u0442\\u043d\\u043e\\u0448\\u0435\\u043d\\u0438\\u0435\", \"\\u0440\\u043e\\u0441\\u0441\\u0438\\u0439\\u0441\\u043a\\u0438\\u0439\", \"\\u043c\\u043e\\u0441\\u043a\\u0432\\u0430\", \"\\u0441\\u0448\\u0430\", \"\\u043a\\u0440\\u0435\\u043c\\u043b\\u044c\", \"\\u0441\\u043e\\u043e\\u0431\\u0449\\u0438\\u0442\\u044c\", \"\\u0432\\u043e\\u0435\\u043d\\u043d\\u044b\\u0439\", \"\\u0433\\u043b\\u0430\\u0432\\u0430\", \"\\u0441\\u0442\\u043e\\u0440\\u043e\\u043d\\u0430\", \"\\u0441\\u043b\\u043e\\u0432\\u043e\", \"\\u0441\\u043a\\u0430\\u0437\\u0430\\u0442\\u044c\", \"\\u043d\\u043e\\u044f\\u0431\\u0440\\u044c\", \"\\u0434\\u043e\\u043b\\u0436\\u043d\\u044b\\u0439\", \"\\u0441\\u0438\\u0442\\u0443\\u0430\\u0446\\u0438\\u044f\", \"\\u043f\\u0440\\u0435\\u0434\\u0441\\u0442\\u0430\\u0432\\u0438\\u0442\\u0435\\u043b\\u044c\", \"\\u0438\\u043d\\u0444\\u043e\\u0440\\u043c\\u0430\\u0446\\u0438\\u044f\", \"\\u043e\\u0442\\u043c\\u0435\\u0442\\u0438\\u0442\\u044c\", \"\\u0434\\u0432\\u0430\", \"\\u0433\\u043e\\u0434\", \"\\u0442\\u044b\\u0441\\u044f\\u0447\\u0430\", \"\\u0440\\u0430\\u043d\\u0435\\u0435\", \"\\u0441\\u043e\\u043e\\u0431\\u0449\\u0430\\u0442\\u044c\", \"\\u0447\\u0435\\u043b\\u043e\\u0432\\u0435\\u043a\", \"\\u0440\\u0430\\u0441\\u0441\\u043a\\u0430\\u0437\\u0430\\u0442\\u044c\", \"\\u043d\\u043e\\u0432\\u044b\\u0439\", \"\\u043e\\u0434\\u0438\\u043d\", \"\\u0440\\u0435\\u0431\\u0451\\u043d\\u043e\\u043a\", \"\\u0436\\u0435\\u043d\\u0449\\u0438\\u043d\\u0430\", \"\\u0434\\u0435\\u0432\\u0443\\u0448\\u043a\\u0430\", \"\\u0444\\u0438\\u043b\\u044c\\u043c\", \"\\u043c\\u0430\\u0442\\u044c\", \"\\u0432\\u0440\\u0430\\u0447\", \"\\u043a\\u043e\\u043d\\u0446\\u0435\\u0440\\u0442\", \"\\u0443\\u043c\\u0435\\u0440\\u0435\\u0442\\u044c\", \"\\u0444\\u043e\\u0442\\u043e\\u0433\\u0440\\u0430\\u0444\\u0438\\u044f\", \"\\u0436\\u0435\\u043d\\u0430\", \"\\u0445\\u0430\\u0441\\u043a\", \"\\u043e\\u0434\\u0435\\u0436\\u0434\\u0430\", \"\\u0440\\u044d\\u043f\\u0435\\u0440\", \"instagram\", \"\\u043c\\u0443\\u0437\\u044b\\u043a\\u0430\\u043d\\u0442\", \"\\u0430\\u0440\\u0442\\u0438\\u0441\\u0442\", \"\\u0442\\u0435\\u043b\\u043e\", \"\\u0434\\u0435\\u0432\\u043e\\u0447\\u043a\\u0430\", \"\\u0440\\u0435\\u0436\\u0438\\u0441\\u0441\\u0451\\u0440\", \"\\u043f\\u043e\\u0434\\u0440\\u043e\\u0441\\u0442\\u043e\\u043a\", \"\\u0436\\u0438\\u0432\\u043e\\u0442\\u043d\\u043e\\u0435\", \"\\u0436\\u0438\\u0442\\u0435\\u043b\\u044c\\u043d\\u0438\\u0446\\u0430\", \"\\u043c\\u0430\\u043b\\u044c\\u0447\\u0438\\u043a\", \"\\u043a\\u043e\\u0441\\u0442\\u044e\\u043c\", \"\\u0438\\u0441\\u043a\\u0443\\u0441\\u0441\\u0442\\u0432\\u043e\", \"\\u0441\\u043e\\u0431\\u0430\\u043a\\u0430\", \"\\u0441\\u044b\\u043d\", \"\\u043e\\u0442\\u0435\\u0446\", \"\\u043b\\u0435\\u0447\\u0435\\u043d\\u0438\\u0435\", \"\\u0441\\u043d\\u0438\\u043c\\u043e\\u043a\", \"\\u0440\\u043e\\u043b\\u0438\\u043a\", \"\\u043f\\u043e\\u043b\\u0438\\u0446\\u0435\\u0439\\u0441\\u043a\\u0438\\u0439\", \"\\u0438\\u0437\\u043e\\u0431\\u0440\\u0430\\u0436\\u0435\\u043d\\u0438\\u0435\", \"\\u043f\\u043e\\u0434\\u0435\\u043b\\u0438\\u0442\\u044c\\u0441\\u044f\", \"\\u043c\\u0443\\u0436\\u0447\\u0438\\u043d\\u0430\", \"\\u0434\\u043e\\u0447\\u044c\", \"\\u043b\\u0435\\u0442\\u043d\\u0438\\u0439\", \"\\u043f\\u043e\\u043b\\u0438\\u0446\\u0438\\u044f\", \"\\u0440\\u0443\\u043a\\u0430\", \"\\u043a\\u043e\\u043d\\u043a\\u0443\\u0440\\u0441\", \"\\u0432\\u0438\\u0434\\u0435\\u043e\", \"\\u043e\\u0431\\u043d\\u0430\\u0440\\u0443\\u0436\\u0438\\u0442\\u044c\", \"\\u043f\\u043e\\u043b\\u044c\\u0437\\u043e\\u0432\\u0430\\u0442\\u0435\\u043b\\u044c\", \"\\u0431\\u043e\\u043b\\u044c\\u043d\\u0438\\u0446\\u0430\", \"\\u0434\\u043e\\u043c\", \"\\u0443\\u0432\\u0438\\u0434\\u0435\\u0442\\u044c\", \"\\u043e\\u0434\\u0438\\u043d\", \"\\u0447\\u0435\\u043b\\u043e\\u0432\\u0435\\u043a\", \"\\u0434\\u0440\\u0443\\u0433\", \"\\u0433\\u043e\\u0440\\u043e\\u0434\", \"\\u0441\\u043e\\u043e\\u0431\\u0449\\u0430\\u0442\\u044c\", \"\\u0438\\u0437\\u0432\\u0435\\u0441\\u0442\\u043d\\u044b\\u0439\", \"\\u0441\\u0435\\u043c\\u044c\\u044f\", \"\\u0440\\u0430\\u0441\\u0441\\u043a\\u0430\\u0437\\u0430\\u0442\\u044c\", \"\\u0436\\u0438\\u0437\\u043d\\u044c\", \"\\u043d\\u0430\\u043f\\u0438\\u0441\\u0430\\u0442\\u044c\", \"\\u0433\\u043e\\u0434\", \"\\u0442\\u044b\\u0441\\u044f\\u0447\\u0430\", \"\\u043e\\u043a\\u0430\\u0437\\u0430\\u0442\\u044c\\u0441\\u044f\", \"\\u043d\\u0435\\u0441\\u043a\\u043e\\u043b\\u044c\\u043a\\u043e\", \"\\u043a\\u043e\\u0442\\u043e\\u0440\\u044b\\u0439\", \"\\u0438\\u0437\\u0434\\u0430\\u043d\\u0438\\u0435\", \"\\u0434\\u0432\\u0430\", \"\\u043d\\u043e\\u044f\\u0431\\u0440\\u044c\", \"\\u0434\\u0435\\u043d\\u044c\", \"\\u043c\\u0435\\u0441\\u0442\\u043e\", \"\\u0441\\u043b\\u043e\\u0432\\u043e\", \"\\u0441\\u0442\\u0430\\u0442\\u044c\", \"\\u0441\\u043e\\u043e\\u0431\\u0449\\u0430\\u0442\\u044c\\u0441\\u044f\", \"\\u043f\\u0440\\u043e\\u0446\\u0435\\u043d\\u0442\", \"\\u043a\\u043e\\u043c\\u043f\\u0430\\u043d\\u0438\\u044f\", \"\\u0446\\u0435\\u043d\\u0430\", \"\\u0440\\u044b\\u043d\\u043e\\u043a\", \"\\u0440\\u043e\\u0441\\u0442\", \"\\u0443\\u0447\\u0451\\u043d\\u044b\\u0439\", \"\\u0440\\u0443\\u0431\\u043b\\u044c\", \"\\u043c\\u0438\\u043b\\u043b\\u0438\\u0430\\u0440\\u0434_\\u0440\\u0443\\u0431\\u043b\\u044c\", \"\\u043f\\u043e\\u043a\\u0430\\u0437\\u0430\\u0442\\u0435\\u043b\\u044c\", \"\\u0438\\u0441\\u0441\\u043b\\u0435\\u0434\\u043e\\u0432\\u0430\\u043d\\u0438\\u0435\", \"\\u0441\\u0442\\u043e\\u0438\\u043c\\u043e\\u0441\\u0442\\u044c\", \"\\u0440\\u043e\\u0441\\u043a\\u043e\\u0441\\u043c\\u043e\\u0441\", \"\\u0432\\u044b\\u0440\\u0430\\u0441\\u0442\\u0438\", \"\\u0442\\u043e\\u043d\\u043d\\u0430\", \"\\u0436\\u0438\\u043b\\u044c\\u0451\", \"\\u043d\\u0435\\u0444\\u0442\\u044c\", \"\\u0446\\u0435\\u043d\\u0430_\\u043d\\u0435\\u0444\\u0442\\u044c\", \"\\u043b\\u0443\\u043d\\u0430\", \"\\u0432\\u0438\\u0447\", \"\\u043d\\u0435\\u0434\\u0432\\u0438\\u0436\\u0438\\u043c\\u043e\\u0441\\u0442\\u044c\", \"\\u0441\\u043d\\u0438\\u0436\\u0435\\u043d\\u0438\\u0435\", \"\\u0430\\u043d\\u0430\\u043b\\u0438\\u0442\\u0438\\u043a\", \"\\u043a\\u043b\\u0438\\u0435\\u043d\\u0442\", \"\\u0441\\u043f\\u0443\\u0442\\u043d\\u0438\\u043a\", \"\\u043e\\u0442\\u0440\\u0430\\u0441\\u043b\\u044c\", \"\\u0434\\u043e\\u043b\\u044f\", \"\\u0432\\u0432\\u043f\", \"\\u043f\\u0440\\u043e\\u0434\\u0443\\u043a\\u0442\", \"\\u0441\\u0440\\u0435\\u0434\\u043d\\u0438\\u0439\", \"\\u0431\\u0430\\u0440\\u0440\\u0435\\u043b\\u044c\", \"\\u0441\\u0443\\u043c\\u043c\\u0430\", \"\\u043f\\u043e\\u0432\\u044b\\u0448\\u0435\\u043d\\u0438\\u0435\", \"\\u0440\\u0435\\u0439\\u0442\\u0438\\u043d\\u0433\", \"\\u0431\\u0430\\u043d\\u043a\", \"\\u0432\\u043a\\u043b\\u0430\\u0434\", \"\\u0441\\u043e\\u0441\\u0442\\u0430\\u0432\\u0438\\u0442\\u044c\", \"\\u043f\\u0440\\u043e\\u0438\\u0437\\u0432\\u043e\\u0434\\u0441\\u0442\\u0432\\u043e\", \"\\u0434\\u043e\\u043b\\u043b\\u0430\\u0440\", \"\\u0431\\u044e\\u0434\\u0436\\u0435\\u0442\", \"\\u0441\\u043e\\u0441\\u0442\\u0430\\u0432\\u043b\\u044f\\u0442\\u044c\", \"\\u043a\\u0440\\u0443\\u043f\\u043d\\u044b\\u0439\", \"\\u043c\\u0438\\u043b\\u043b\\u0438\\u043e\\u043d\", \"\\u043c\\u0438\\u043b\\u043b\\u0438\\u043e\\u043d_\\u0440\\u0443\\u0431\\u043b\\u044c\", \"\\u0442\\u044b\\u0441\\u044f\\u0447\\u0430\", \"\\u0433\\u043e\\u0434\", \"\\u044d\\u043a\\u0441\\u043f\\u0435\\u0440\\u0442\", \"\\u043f\\u0440\\u043e\\u0435\\u043a\\u0442\", \"\\u0434\\u0432\\u0430\", \"\\u0440\\u0430\\u0437\\u0432\\u0438\\u0442\\u0438\\u0435\", \"\\u043d\\u043e\\u0432\\u044b\\u0439\", \"\\u0440\\u0435\\u0433\\u0438\\u043e\\u043d\", \"\\u0441\\u0442\\u0440\\u043e\\u0438\\u0442\\u0435\\u043b\\u044c\\u0441\\u0442\\u0432\\u043e\", \"\\u0443\\u0440\\u043e\\u0432\\u0435\\u043d\\u044c\", \"\\u043f\\u0435\\u0440\\u0432\\u044b\\u0439\", \"\\u0441\\u0430\\u043c\\u044b\\u0439\", \"\\u0434\\u043e\\u043c\", \"\\u0434\\u0432\\u0435\\u0441\\u0442\\u0438\", \"\\u0440\\u0430\\u0431\\u043e\\u0442\\u0430\", \"\\u043e\\u043a\\u0430\\u0437\\u0430\\u0442\\u044c\\u0441\\u044f\", \"\\u043e\\u0434\\u0438\\u043d\", \"\\u043c\\u0430\\u0442\\u0447\", \"\\u0441\\u0430\\u043c\\u043e\\u043b\\u0451\\u0442\", \"\\u0444\\u0443\\u0442\\u0431\\u043e\\u043b\\u0438\\u0441\\u0442\", \"\\u043f\\u043e\\u0435\\u0434\\u0438\\u043d\\u043e\\u043a\", \"\\u0441\\u043e\\u043f\\u0435\\u0440\\u043d\\u0438\\u043a\", \"\\u0441\\u043f\\u043e\\u0440\\u0442\\u0441\\u043c\\u0435\\u043d\", \"\\u0431\\u043e\\u0439\", \"\\u043f\\u0438\\u043b\\u043e\\u0442\", \"\\u0441\\u0431\\u043e\\u0440\\u043d\\u0430\\u044f\", \"\\u0430\\u0432\\u0438\\u0430\\u043a\\u043e\\u043c\\u043f\\u0430\\u043d\\u0438\\u044f\", \"\\u0447\\u0435\\u043c\\u043f\\u0438\\u043e\\u043d\\u0430\\u0442\", \"\\u0442\\u0440\\u0435\\u043d\\u0435\\u0440\", \"\\u0444\\u0438\\u0433\\u0443\\u0440\\u0438\\u0441\\u0442\\u043a\\u0430\", \"\\u044e\\u0432\\u0435\\u043d\\u0442\\u0443\\u0441\", \"\\u043f\\u0430\\u0441\\u0441\\u0430\\u0436\\u0438\\u0440\", \"\\u0440\\u0435\\u0439\\u0441\", \"\\u0444\\u043e\\u0440\\u0432\\u0430\\u0440\\u0434\", \"\\u0430\\u043d\\u0436\\u0438\", \"\\u0431\\u043e\\u043a\\u0441\\u0451\\u0440\", \"ufc\", \"\\u0442\\u0443\\u0440\\u043d\\u0438\\u0440\", \"\\u0447\\u0435\\u043c\\u043f\\u0438\\u043e\\u043d\\u0430\\u0442_\\u043c\\u0438\\u0440\", \"\\u043b\\u0438\\u0433\\u0430_\\u0447\\u0435\\u043c\\u043f\\u0438\\u043e\\u043d\", \"\\u0444\\u0438\\u043d\\u0430\\u043b_\\u0433\\u0440\\u0430\\u043d\", \"\\u0440\\u0435\\u0430\\u043b\", \"\\u0442\\u0443\\u0440\", \"\\u0439_\\u043c\\u0438\\u043d\\u0443\\u0442\\u0430\", \"\\u0431\\u043e\\u043b\\u0435\\u043b\\u044c\\u0449\\u0438\\u043a\", \"\\u0444\\u0443\\u0442\\u0431\\u043e\\u043b\", \"\\u0431\\u043e\\u043b\\u044c\\u0448\\u0443\\u043d\\u043e\\u0432\", \"\\u043f\\u043e\\u0431\\u0435\\u0434\\u0430\", \"\\u0444\\u0438\\u043d\\u0430\\u043b\", \"\\u043d\\u0430\\u043f\\u0430\\u0434\\u0430\\u0442\\u044c\", \"\\u0441\\u043e\\u0440\\u0435\\u0432\\u043d\\u043e\\u0432\\u0430\\u043d\\u0438\\u0435\", \"\\u043a\\u043e\\u043c\\u0430\\u043d\\u0434\\u0430\", \"\\u043c\\u0435\\u0434\\u0432\\u0435\\u0434\\u0435\\u0432\", \"\\u0434\\u043e\\u043f\\u0438\\u043d\\u0433\", \"\\u0430\\u044d\\u0440\\u043e\\u043f\\u043e\\u0440\\u0442\", \"\\u043f\\u043e\\u043b\\u0451\\u0442\", \"\\u043a\\u043b\\u0443\\u0431\", \"\\u0441\\u0447\\u0451\\u0442\", \"\\u0434\\u0432\\u0430\", \"\\u043c\\u0435\\u0441\\u0442\\u043e\", \"\\u043b\\u0435\\u0442\\u043d\\u0438\\u0439\", \"\\u0441\\u0442\\u0430\\u0442\\u044c\", \"\\u0432\\u044b\\u0441\\u0442\\u0443\\u043f\\u0430\\u0442\\u044c\", \"\\u0442\\u044b\\u0441\\u044f\\u0447\\u0430\", \"\\u043c\\u0430\\u0448\\u0438\\u043d\\u0430\", \"\\u043f\\u0435\\u0440\\u0432\\u044b\\u0439\", \"\\u0443\\u043a\\u0440\\u0430\\u0438\\u043d\\u0441\\u043a\\u0438\\u0439\", \"\\u043a\\u043e\\u0440\\u0430\\u0431\\u043b\\u044c\", \"\\u0443\\u043a\\u0440\\u0430\\u0438\\u043d\\u0430\", \"\\u043a\\u0435\\u0440\\u0447\\u0435\\u043d\\u0441\\u043a\\u0438\\u0439_\\u043f\\u0440\\u043e\\u043b\\u0438\\u0432\", \"\\u0432\\u043e\\u0435\\u043d\\u043d\\u044b\\u0439_\\u043f\\u043e\\u043b\\u043e\\u0436\\u0435\\u043d\\u0438\\u0435\", \"\\u043a\\u0438\\u0435\\u0432\", \"\\u043f\\u043e\\u0440\\u043e\\u0448\\u0435\\u043d\\u043a\\u043e\", \"\\u043f\\u0440\\u043e\\u043b\\u0438\\u0432\", \"\\u044f\\u043d_\\u043a\\u0430\\u043f\", \"\\u0432\\u043e\\u0435\\u043d\\u043d\\u044b\\u0439_\\u043c\\u043e\\u0440\\u0441\\u043a\\u043e\\u0439\", \"\\u043f\\u043e\\u0433\\u0440\\u0430\\u043d\\u0438\\u0447\\u043d\\u0438\\u043a\", \"\\u043c\\u043e\\u0440\\u044f\\u043a\", \"\\u043a\\u043e\\u0440\\u0430\\u0431\\u043b\\u044c_\\u0432\\u043c\\u0441\", \"\\u0440\\u0430\\u0439\\u043e\\u043d_\\u043a\\u0435\\u0440\\u0447\\u0435\\u043d\\u0441\\u043a\\u0438\\u0439\", \"\\u0430\\u0437\\u043e\\u0432\\u0441\\u043a\\u0438\\u0439_\\u043c\\u043e\\u0440\\u0435\", \"\\u0443\\u043a\\u0440\\u0430\\u0438\\u043d\\u0430_\\u043f\\u0451\\u0442\\u0440\", \"\\u0431\\u0435\\u0440\\u0434\\u044f\\u043d\\u0441\\u043a_\\u043d\\u0438\\u043a\\u043e\\u043f\\u043e\\u043b\\u044c\", \"\\u043a\\u0430\\u0442\\u0435\\u0440\", \"\\u0438\\u043d\\u0446\\u0438\\u0434\\u0435\\u043d\\u0442_\\u043a\\u0435\\u0440\\u0447\\u0435\\u043d\\u0441\\u043a\\u0438\\u0439\", \"\\u0441\\u043e\\u0432\\u0435\\u0440\\u0448\\u0430\\u0442\\u044c_\\u043e\\u043f\\u0430\\u0441\\u043d\\u044b\\u0439\", \"\\u0430\\u0433\\u0440\\u0435\\u0441\\u0441\\u0438\\u044f\", \"\\u0443\\u043a\\u0440\\u0430\\u0438\\u043d\\u0441\\u043a\\u0438\\u0439_\\u043c\\u043e\\u0440\\u044f\\u043a\", \"\\u0430\\u043a\\u0432\\u0430\\u0442\\u043e\\u0440\\u0438\\u044f\", \"\\u0432\\u043c\\u0441_\\u0443\\u043a\\u0440\\u0430\\u0438\\u043d\\u0430\", \"\\u0430\\u043a\\u0442_\\u0432\\u043e\\u0435\\u043d\\u043d\\u044b\\u0439\", \"\\u0432\\u0435\\u0440\\u0445\\u043e\\u0432\\u043d\\u044b\\u0439_\\u0440\\u0430\\u0434\\u0430\", \"\\u043a\\u0430\\u0442\\u0435\\u0440_\\u0431\\u0435\\u0440\\u0434\\u044f\\u043d\\u0441\\u043a\", \"\\u043f\\u043e\\u0433\\u0440\\u0430\\u043d\\u0438\\u0447\\u043d\\u044b\\u0439_\\u0443\\u043f\\u0440\\u0430\\u0432\\u043b\\u0435\\u043d\\u0438\\u0435\", \"\\u0433\\u043e\\u0441\\u0443\\u0434\\u0430\\u0440\\u0441\\u0442\\u0432\\u0435\\u043d\\u043d\\u044b\\u0439_\\u0433\\u0440\\u0430\\u043d\\u0438\\u0446\\u0430\", \"\\u043d\\u0438\\u043a\\u043e\\u043f\\u043e\\u043b\\u044c_\\u0431\\u0443\\u043a\\u0441\\u0438\\u0440\", \"\\u0442\\u0435\\u0440\\u0440\\u0438\\u0442\\u043e\\u0440\\u0438\\u0430\\u043b\\u044c\\u043d\\u044b\\u0439_\\u0432\\u043e\\u0434\\u0430\", \"\\u0444\\u0441\\u0431\", \"\\u043f\\u0440\\u043e\\u0432\\u043e\\u043a\\u0430\\u0446\\u0438\\u044f\", \"\\u043a\\u0440\\u044b\\u043c\", \"\\u0432\\u0432\\u0435\\u0434\\u0435\\u043d\\u0438\\u0435\", \"\\u0432\\u043e\\u0434\\u0430\", \"\\u0441\\u0438\\u043b\\u0430\", \"\\u0437\\u0430\\u0434\\u0435\\u0440\\u0436\\u0430\\u0442\\u044c\", \"\\u0433\\u0440\\u0430\\u043d\\u0438\\u0446\\u0430\", \"\\u043d\\u043e\\u044f\\u0431\\u0440\\u044c\", \"\\u043d\\u0430\\u0437\\u0432\\u0430\\u0442\\u044c\"], \"Freq\": [688.0, 2638.0, 556.0, 429.0, 693.0, 2155.0, 1234.0, 577.0, 3099.0, 406.0, 885.0, 267.0, 3304.0, 1702.0, 244.0, 1292.0, 266.0, 504.0, 219.0, 561.0, 214.0, 465.0, 2531.0, 514.0, 188.0, 347.0, 534.0, 245.0, 378.0, 188.0, 882.8948965421619, 530.1026648481737, 477.47717298139503, 458.175368853459, 308.69989072934914, 279.7995185513805, 250.90878547107363, 346.8234649368121, 361.7330884878068, 274.19178140318434, 351.2533287977282, 220.7639743531317, 171.89273640427365, 214.21534253064038, 164.41508415822997, 273.6655600118127, 192.9272905718449, 210.0606818928209, 163.48547002214048, 178.56051236326167, 134.7104846933752, 171.15745835129596, 149.1750595803184, 158.95661332672347, 172.14728192350455, 148.77896600738055, 1216.0353131054383, 120.30452145734088, 113.5383551074558, 124.72677182807485, 2570.2491866482055, 186.43176109716052, 212.73750471503834, 170.9833783429806, 514.267443451782, 340.8885397942529, 1189.1014390854025, 241.049158526035, 1527.4167239709016, 685.484989004263, 639.3524072921518, 194.82558163654087, 620.5243857688514, 500.83731661906666, 323.5297123304992, 384.92751647908335, 1037.702506962302, 480.95590935781706, 1544.0032361966403, 436.82780594388225, 289.45579895244964, 353.7926722433315, 380.4624489571417, 535.2959382590477, 1258.671696307682, 1405.3481690618582, 1407.4444632576894, 498.485830805067, 606.9032930447793, 551.8780500271583, 451.93115440331815, 418.6304468320893, 436.79937759063347, 463.9137210640378, 502.1915495048983, 226.6361478067905, 147.7104744734455, 153.20435277839042, 210.1274571687873, 135.01154967148625, 117.82230353532347, 157.71678416593588, 170.49411238073264, 106.347543908402, 102.23756920031141, 90.4834519586321, 107.05113817165827, 81.76410178295832, 85.33193261224146, 166.1350527042995, 76.68243722554223, 70.54182307639826, 77.66343097636258, 148.48919368515203, 79.32023596288451, 68.11490904317314, 70.2826565503325, 91.55670706817256, 72.71962976268433, 101.21105178956107, 68.75997768193294, 107.90681737672809, 65.79909914692108, 98.85715911671524, 213.3732711837346, 80.91522567122448, 110.65550205972754, 480.5901169042115, 138.0489182493349, 439.46783457663014, 312.1111300025087, 140.86426877130765, 94.41341883112634, 253.3340819743728, 245.34167812740296, 141.27537477830973, 127.45085132959667, 371.30296531677084, 121.15217155872453, 563.1863835819673, 491.6630016951871, 150.0046162936365, 299.0237687118018, 478.0111626863658, 148.66927425118703, 164.9297079289182, 339.323391453449, 204.40303456270001, 176.273373737543, 618.715066435155, 636.690316016185, 200.3581927597225, 216.8980120254571, 247.84112119188438, 217.9224594160312, 360.78856078004765, 297.00718862399947, 204.88171274183367, 199.95381152096863, 230.23614786854228, 203.97235847305873, 194.56345660343243, 690.8986362495372, 574.2707583742654, 241.00072702007375, 179.0257061770566, 178.24409998831695, 150.34030220902594, 343.21178083735083, 119.12199353218911, 123.24720240739126, 162.40607495910155, 101.3103547098112, 84.77594392196924, 94.90812319445855, 86.58356638712746, 94.67781744460525, 70.99108505733072, 66.01065740783189, 69.45447646697222, 74.28795491825241, 81.15958660859732, 101.31617136929978, 59.037888019912025, 63.003886008864086, 64.55853048937406, 58.38373885149897, 70.21473933655192, 55.71962813672501, 62.78172358229481, 67.2133260574926, 49.11459050911585, 136.970425910135, 95.36544000236725, 84.41959073642454, 168.45152871522416, 120.66399420835091, 151.99630941116408, 113.82180245734459, 328.45618094438277, 112.76755203085368, 135.1548724085354, 198.1857146006791, 264.4424421792994, 149.68182238902284, 1186.3292540579907, 1073.2122948670838, 141.90308052856406, 230.03932137430172, 779.7534850405899, 161.89672240032266, 292.94792880244796, 196.49175051107525, 131.39905113101662, 150.1741070856527, 225.88760211818953, 155.06991719967158, 163.7720813512334, 135.64783642306173, 146.916081471199, 138.8875714031528, 141.0027125885727, 136.1223888856126, 262.8695853499464, 116.27470300046558, 91.91232032682912, 89.72366272690252, 94.79206626552197, 86.33584032926392, 90.36465464606616, 68.68429700196303, 82.87805686851502, 55.54076058789903, 56.6735359829188, 52.80870125459641, 51.98865423419712, 80.2062436819856, 54.00379125364019, 45.53335942629332, 47.178248809427075, 45.85945202246063, 42.69357570899086, 41.033710198434676, 49.331947618340195, 38.53389886026321, 35.34926356511954, 38.05261606603611, 38.580342868864435, 30.335503325104483, 31.667332013909284, 33.96606197633662, 37.39493051665771, 113.27268204380894, 48.32544439516074, 58.0011128429303, 60.38965919460057, 135.37627834165846, 153.841104275106, 43.90756134454193, 75.36216526395259, 67.78888484095138, 93.49450377618871, 60.52882350765419, 131.87129305914138, 81.44142323987816, 72.46889670833785, 70.32517991384525, 56.09377164069543, 73.76084392633562, 55.93400350571721, 59.73159784443036, 554.2533734478745, 426.9423106722042, 684.3091573546862, 242.68303447733922, 212.95914676167354, 217.9167713218183, 186.33631873087774, 145.52960970945352, 99.56261351362438, 98.48241406666197, 81.99559499819998, 71.7658454058784, 86.42360287039648, 62.999535098791576, 62.01252132524768, 61.43739349559806, 59.851642723101975, 59.46408080781984, 57.75530368875289, 53.27472073615134, 62.846912636200585, 50.73244117724667, 49.694258526807985, 48.43110212681603, 47.778825927995236, 59.76753388170615, 46.75757415594086, 45.78303279614008, 45.38410838025336, 42.856318831432596, 46.31347251289868, 229.73023527820806, 137.2611142570831, 118.46060600301347, 82.7951086996812, 102.26317327031347, 102.55540963727017, 147.45583574323626, 95.74296972595027, 175.2830512139434, 61.31377456828374], \"Total\": [688.0, 2638.0, 556.0, 429.0, 693.0, 2155.0, 1234.0, 577.0, 3099.0, 406.0, 885.0, 267.0, 3304.0, 1702.0, 244.0, 1292.0, 266.0, 504.0, 219.0, 561.0, 214.0, 465.0, 2531.0, 514.0, 188.0, 347.0, 534.0, 245.0, 378.0, 188.0, 885.008839606848, 532.6475915488973, 479.92637085392596, 460.77590971362395, 310.7344216363967, 281.87945945023176, 252.81915859128296, 349.6012684746352, 364.9386042032127, 276.7263247988483, 354.62440868367423, 222.90539590126036, 173.62185904817736, 216.43727346879692, 166.20477344373654, 276.70755681607693, 195.074963749955, 212.57243092901228, 165.57932998127336, 181.01121767678174, 136.6099945760536, 173.61025443179122, 151.33046778266112, 161.2555398677639, 174.68750883815795, 150.98170938712988, 1234.56447878146, 122.20308537959879, 115.38244181503805, 126.75866405257322, 2638.643513862758, 189.81136764778802, 216.9545334273412, 174.03469680790352, 537.27437276633, 353.06956787793996, 1292.8801403274515, 248.3617917721062, 1702.648151579426, 757.803703268446, 708.2185260642347, 199.37747384456947, 700.299493545181, 561.3832969270467, 347.3652634642018, 423.01533365514774, 1308.2556215273203, 548.2624252872787, 2155.113753012839, 512.4577173114593, 313.248341152894, 404.0732517919721, 450.6560433795566, 715.9085757346666, 2531.421180655843, 3099.5334478778145, 3304.53261864287, 754.1516442873312, 1168.5956238210356, 1090.4342370961158, 798.3272067704644, 755.1305227705694, 1148.4025977692881, 465.9035051560706, 504.8521167951462, 228.4403649884839, 149.3543513678486, 154.96828481651258, 212.60043258267234, 136.8392888670096, 119.61934193831463, 160.26703661293993, 173.41057810323193, 108.3345655921279, 104.17922864913459, 92.259863549695, 109.18515813740366, 83.43682720328648, 87.08672763535054, 169.6758293221085, 78.33939150689268, 72.15426428377062, 79.44817197661881, 151.99473147932133, 81.19460614589553, 69.72493657360288, 71.99133523083808, 93.82578379987707, 74.53619950072532, 103.75490958759535, 70.49429634706615, 110.63142090347282, 67.51589773834876, 101.69963562877048, 223.50807697365732, 83.20844435695511, 115.42419059222458, 534.1643517548189, 146.96403734297314, 514.9987083810369, 363.3157457079525, 154.0673727853886, 99.04623162748344, 308.77117774606677, 299.7219973911218, 158.12977610363143, 141.74486548034164, 540.2013992942658, 133.576024420453, 1148.4025977692881, 1090.4342370961158, 184.82793739352016, 543.3632026828845, 1168.5956238210356, 189.3394559357481, 226.4401700335308, 798.3272067704644, 331.8465235095356, 263.1301557616102, 3099.5334478778145, 3304.53261864287, 361.7639248998271, 441.3625566589201, 613.1558014103118, 452.15521520414626, 2531.421180655843, 2155.113753012839, 542.8723446500835, 549.2514539145424, 1308.2556215273203, 712.8366443489921, 553.5491651776288, 693.1280655476434, 577.0653364103796, 243.09437010411685, 180.97216569755028, 180.5014607308198, 152.38631138332394, 347.92476568803374, 120.8573120616979, 125.10908571380651, 165.08628676654507, 103.27520630246845, 86.58528828815682, 96.94449178103206, 88.44433136119041, 96.9691923256969, 72.84726241006044, 67.77658716783519, 71.37238505390675, 76.37957340964958, 83.45242921016741, 104.22360418444774, 60.776056638786635, 64.89753040817283, 66.57594338034328, 60.23028866135964, 72.5636110397022, 57.58623368716092, 64.88925143030094, 69.51090447475805, 50.794273691201354, 142.02067897805333, 98.675962143285, 87.33288298919393, 176.42756996885484, 128.35559381998408, 164.03288774006015, 121.22897138838947, 378.63535201052406, 120.66365922496685, 147.6615173642444, 225.27548002375366, 318.8753392167218, 191.9156979593875, 3304.53261864287, 3099.5334478778145, 183.09585866865862, 380.17921190783966, 2531.421180655843, 236.27620409996558, 755.1305227705694, 412.7920895982902, 178.76091792712091, 242.3702355508479, 701.3255826098217, 277.41930258152763, 540.2013992942658, 266.03766406487046, 550.6764638680309, 361.7639248998271, 1148.4025977692881, 137.9064045985414, 266.34348798299453, 118.10752574542047, 93.75070929324468, 91.57112845633885, 96.80324245290946, 88.1926043530055, 92.31782903603758, 70.57810829596104, 85.34168213937251, 57.36588122851734, 58.594281306990176, 54.6640620518558, 53.965303722581176, 83.33542264767682, 56.116837144225066, 47.33189580661995, 49.080390144263525, 47.766956379390315, 44.521559339212175, 42.95660095113962, 51.694154305545524, 40.41876756706767, 37.23439534333256, 40.10908343409776, 40.813057862754356, 32.099216976815065, 33.51782928566755, 36.02798309171815, 39.68145925248126, 120.37633445673187, 51.306340343884656, 62.70826712814561, 65.42955158340803, 158.04282029766173, 188.03170812233807, 47.337538970199795, 90.38943234956075, 81.36672207941527, 145.82797192575873, 96.18173960867499, 2531.421180655843, 549.2514539145424, 514.9987083810369, 712.8366443489921, 148.4823212888755, 3304.53261864287, 169.0023213317228, 701.3255826098217, 556.3506798630378, 429.1749325577979, 688.0053530825993, 244.65861156802245, 214.83346470866766, 219.88745281509833, 188.37761568572782, 147.4379167531915, 101.43289731780828, 100.38411177369184, 84.01439028938167, 73.62335215777343, 88.73509153766084, 64.86523291178368, 63.920146096089134, 63.38605791689897, 61.754324051330556, 61.36475717752385, 59.65795114127761, 55.209592676904514, 65.1315087328505, 52.582986598328134, 51.639695672580295, 50.33027814249853, 49.66196765228606, 62.13571562160233, 48.61874075375626, 47.63602741436823, 47.315854360232834, 44.716525786224544, 48.556225418958064, 267.0006802111695, 154.72308379174623, 166.29310998232572, 107.2336911584472, 163.06060422463975, 179.31627461366685, 406.6530044046352, 245.02741679462142, 2155.113753012839, 567.4763789177869], \"Category\": [\"Default\", \"Default\", \"Default\", \"Default\", \"Default\", \"Default\", \"Default\", \"Default\", \"Default\", \"Default\", \"Default\", \"Default\", \"Default\", \"Default\", \"Default\", \"Default\", \"Default\", \"Default\", \"Default\", \"Default\", \"Default\", \"Default\", \"Default\", \"Default\", \"Default\", \"Default\", \"Default\", \"Default\", \"Default\", \"Default\", \"Topic1\", \"Topic1\", \"Topic1\", \"Topic1\", \"Topic1\", \"Topic1\", \"Topic1\", \"Topic1\", \"Topic1\", \"Topic1\", \"Topic1\", \"Topic1\", \"Topic1\", \"Topic1\", \"Topic1\", \"Topic1\", \"Topic1\", \"Topic1\", \"Topic1\", \"Topic1\", \"Topic1\", \"Topic1\", \"Topic1\", \"Topic1\", \"Topic1\", \"Topic1\", \"Topic1\", \"Topic1\", \"Topic1\", \"Topic1\", \"Topic1\", \"Topic1\", \"Topic1\", \"Topic1\", \"Topic1\", \"Topic1\", \"Topic1\", \"Topic1\", \"Topic1\", \"Topic1\", \"Topic1\", \"Topic1\", \"Topic1\", \"Topic1\", \"Topic1\", \"Topic1\", \"Topic1\", \"Topic1\", \"Topic1\", \"Topic1\", \"Topic1\", \"Topic1\", \"Topic1\", \"Topic1\", \"Topic1\", \"Topic1\", \"Topic1\", \"Topic1\", \"Topic1\", \"Topic1\", \"Topic1\", \"Topic1\", \"Topic1\", \"Topic2\", \"Topic2\", \"Topic2\", \"Topic2\", \"Topic2\", \"Topic2\", \"Topic2\", \"Topic2\", \"Topic2\", \"Topic2\", \"Topic2\", \"Topic2\", \"Topic2\", \"Topic2\", \"Topic2\", \"Topic2\", \"Topic2\", \"Topic2\", \"Topic2\", \"Topic2\", \"Topic2\", \"Topic2\", \"Topic2\", \"Topic2\", \"Topic2\", \"Topic2\", \"Topic2\", \"Topic2\", \"Topic2\", \"Topic2\", \"Topic2\", \"Topic2\", \"Topic2\", \"Topic2\", \"Topic2\", \"Topic2\", \"Topic2\", \"Topic2\", \"Topic2\", \"Topic2\", \"Topic2\", \"Topic2\", \"Topic2\", \"Topic2\", \"Topic2\", \"Topic2\", \"Topic2\", \"Topic2\", \"Topic2\", \"Topic2\", \"Topic2\", \"Topic2\", \"Topic2\", \"Topic2\", \"Topic2\", \"Topic2\", \"Topic2\", \"Topic2\", \"Topic2\", \"Topic2\", \"Topic2\", \"Topic2\", \"Topic2\", \"Topic2\", \"Topic2\", \"Topic2\", \"Topic2\", \"Topic2\", \"Topic2\", \"Topic3\", \"Topic3\", \"Topic3\", \"Topic3\", \"Topic3\", \"Topic3\", \"Topic3\", \"Topic3\", \"Topic3\", \"Topic3\", \"Topic3\", \"Topic3\", \"Topic3\", \"Topic3\", \"Topic3\", \"Topic3\", \"Topic3\", \"Topic3\", \"Topic3\", \"Topic3\", \"Topic3\", \"Topic3\", \"Topic3\", \"Topic3\", \"Topic3\", \"Topic3\", \"Topic3\", \"Topic3\", \"Topic3\", \"Topic3\", \"Topic3\", \"Topic3\", \"Topic3\", \"Topic3\", \"Topic3\", \"Topic3\", \"Topic3\", \"Topic3\", \"Topic3\", \"Topic3\", \"Topic3\", \"Topic3\", \"Topic3\", \"Topic3\", \"Topic3\", \"Topic3\", \"Topic3\", \"Topic3\", \"Topic3\", \"Topic3\", \"Topic3\", \"Topic3\", \"Topic3\", \"Topic3\", \"Topic3\", \"Topic3\", \"Topic3\", \"Topic3\", \"Topic3\", \"Topic3\", \"Topic4\", \"Topic4\", \"Topic4\", \"Topic4\", \"Topic4\", \"Topic4\", \"Topic4\", \"Topic4\", \"Topic4\", \"Topic4\", \"Topic4\", \"Topic4\", \"Topic4\", \"Topic4\", \"Topic4\", \"Topic4\", \"Topic4\", \"Topic4\", \"Topic4\", \"Topic4\", \"Topic4\", \"Topic4\", \"Topic4\", \"Topic4\", \"Topic4\", \"Topic4\", \"Topic4\", \"Topic4\", \"Topic4\", \"Topic4\", \"Topic4\", \"Topic4\", \"Topic4\", \"Topic4\", \"Topic4\", \"Topic4\", \"Topic4\", \"Topic4\", \"Topic4\", \"Topic4\", \"Topic4\", \"Topic4\", \"Topic4\", \"Topic4\", \"Topic4\", \"Topic4\", \"Topic4\", \"Topic4\", \"Topic4\", \"Topic5\", \"Topic5\", \"Topic5\", \"Topic5\", \"Topic5\", \"Topic5\", \"Topic5\", \"Topic5\", \"Topic5\", \"Topic5\", \"Topic5\", \"Topic5\", \"Topic5\", \"Topic5\", \"Topic5\", \"Topic5\", \"Topic5\", \"Topic5\", \"Topic5\", \"Topic5\", \"Topic5\", \"Topic5\", \"Topic5\", \"Topic5\", \"Topic5\", \"Topic5\", \"Topic5\", \"Topic5\", \"Topic5\", \"Topic5\", \"Topic5\", \"Topic5\", \"Topic5\", \"Topic5\", \"Topic5\", \"Topic5\", \"Topic5\", \"Topic5\", \"Topic5\", \"Topic5\", \"Topic5\"], \"logprob\": [30.0, 29.0, 28.0, 27.0, 26.0, 25.0, 24.0, 23.0, 22.0, 21.0, 20.0, 19.0, 18.0, 17.0, 16.0, 15.0, 14.0, 13.0, 12.0, 11.0, 10.0, 9.0, 8.0, 7.0, 6.0, 5.0, 4.0, 3.0, 2.0, 1.0, -5.1352, -5.6453, -5.7499, -5.7911, -6.186, -6.2843, -6.3933, -6.0696, -6.0275, -6.3046, -6.0569, -6.5213, -6.7715, -6.5514, -6.816, -6.3065, -6.6561, -6.571, -6.8217, -6.7335, -7.0153, -6.7758, -6.9133, -6.8497, -6.77, -6.9159, -4.815, -7.1284, -7.1862, -7.0923, -4.0666, -6.6903, -6.5583, -6.7768, -5.6756, -6.0868, -4.8374, -6.4334, -4.587, -5.3883, -5.4579, -6.6463, -5.4878, -5.7021, -6.1391, -5.9653, -4.9736, -5.7426, -4.5762, -5.8388, -6.2504, -6.0497, -5.977, -5.6356, -4.7806, -4.6703, -4.6689, -5.7068, -5.51, -5.6051, -5.8049, -5.8814, -5.8389, -5.3336, -5.2543, -6.05, -6.4781, -6.4415, -6.1256, -6.5679, -6.7041, -6.4125, -6.3346, -6.8066, -6.846, -6.9681, -6.8, -7.0695, -7.0268, -6.3605, -7.1336, -7.2171, -7.1209, -6.4728, -7.0998, -7.2521, -7.2208, -6.9563, -7.1867, -6.8561, -7.2427, -6.792, -7.2867, -6.8796, -6.1103, -7.0799, -6.7669, -5.2983, -6.5457, -5.3877, -5.7299, -6.5255, -6.9256, -5.9386, -5.9707, -6.5226, -6.6256, -5.5563, -6.6763, -5.1397, -5.2755, -6.4626, -5.7728, -5.3037, -6.4716, -6.3678, -5.6464, -6.1532, -6.3013, -5.0457, -5.017, -6.1732, -6.0939, -5.9605, -6.0892, -5.585, -5.7795, -6.1509, -6.1752, -6.0342, -6.1553, -6.2025, -4.6594, -4.8443, -5.7126, -6.0099, -6.0143, -6.1845, -5.3591, -6.4173, -6.3832, -6.1073, -6.5792, -6.7574, -6.6445, -6.7363, -6.6469, -6.9349, -7.0076, -6.9567, -6.8895, -6.801, -6.5792, -7.1192, -7.0542, -7.0298, -7.1304, -6.9459, -7.1771, -7.0577, -6.9895, -7.3033, -6.2776, -6.6397, -6.7616, -6.0708, -6.4044, -6.1736, -6.4628, -5.403, -6.4721, -6.291, -5.9082, -5.6198, -6.1889, -4.1188, -4.219, -6.2423, -5.7592, -4.5384, -6.1105, -5.5174, -5.9168, -6.3192, -6.1856, -5.7774, -6.1535, -6.0989, -6.2873, -6.2075, -6.2637, -6.2486, -5.2781, -4.62, -5.4357, -5.6708, -5.6949, -5.6399, -5.7334, -5.6878, -5.9621, -5.7742, -6.1745, -6.1543, -6.2249, -6.2406, -5.807, -6.2026, -6.3732, -6.3377, -6.366, -6.4376, -6.4772, -6.293, -6.5401, -6.6263, -6.5526, -6.5389, -6.7793, -6.7363, -6.6663, -6.5701, -5.4618, -6.3137, -6.1312, -6.0908, -5.2836, -5.1557, -6.4095, -5.8693, -5.9752, -5.6537, -6.0885, -5.3098, -5.7917, -5.9085, -5.9385, -6.1646, -5.8908, -6.1674, -6.1018, -3.5958, -3.8568, -3.385, -4.4216, -4.5523, -4.5293, -4.6859, -4.933, -5.3126, -5.3235, -5.5067, -5.64, -5.4541, -5.7703, -5.7861, -5.7954, -5.8215, -5.828, -5.8572, -5.9379, -5.7727, -5.9868, -6.0075, -6.0333, -6.0468, -5.8229, -6.0684, -6.0895, -6.0982, -6.1556, -6.078, -4.4765, -4.9915, -5.1388, -5.497, -5.2859, -5.283, -4.9199, -5.3517, -4.747, -5.7974], \"loglift\": [30.0, 29.0, 28.0, 27.0, 26.0, 25.0, 24.0, 23.0, 22.0, 21.0, 20.0, 19.0, 18.0, 17.0, 16.0, 15.0, 14.0, 13.0, 12.0, 11.0, 10.0, 9.0, 8.0, 7.0, 6.0, 5.0, 4.0, 3.0, 2.0, 1.0, 0.8894, 0.887, 0.8867, 0.8862, 0.8853, 0.8844, 0.8842, 0.8838, 0.883, 0.8826, 0.8823, 0.8822, 0.8818, 0.8815, 0.881, 0.8808, 0.8808, 0.8799, 0.8791, 0.8782, 0.8778, 0.8776, 0.8775, 0.8775, 0.8772, 0.8771, 0.8767, 0.8762, 0.8757, 0.8757, 0.8656, 0.8739, 0.8722, 0.8741, 0.8481, 0.8567, 0.8081, 0.8619, 0.7832, 0.7915, 0.7895, 0.8687, 0.7709, 0.7777, 0.8207, 0.7975, 0.6601, 0.7608, 0.5584, 0.7321, 0.8128, 0.7589, 0.7225, 0.6011, 0.1931, 0.1009, 0.0383, 0.4778, 0.2366, 0.2108, 0.3228, 0.3019, -0.0748, 1.3326, 1.3316, 1.329, 1.3258, 1.3255, 1.3252, 1.3235, 1.3218, 1.3209, 1.3199, 1.3184, 1.3181, 1.3175, 1.3172, 1.3166, 1.3165, 1.3158, 1.3155, 1.3143, 1.3142, 1.3136, 1.3135, 1.3135, 1.3129, 1.3124, 1.3122, 1.3121, 1.312, 1.312, 1.3111, 1.3086, 1.2905, 1.309, 1.2947, 1.2312, 1.2743, 1.1783, 1.185, 1.2473, 1.289, 1.139, 1.1367, 1.2242, 1.2306, 0.962, 1.2393, 0.6244, 0.5404, 1.1281, 0.7396, 0.443, 1.0951, 1.0199, 0.4813, 0.8523, 0.9363, -0.2745, -0.3099, 0.746, 0.6265, 0.4311, 0.607, -0.6113, -0.6449, 0.3625, 0.3264, -0.4004, 0.0856, 0.2913, 1.6096, 1.6079, 1.6041, 1.602, 1.6002, 1.5993, 1.5992, 1.5983, 1.5978, 1.5964, 1.5936, 1.5917, 1.5916, 1.5915, 1.5889, 1.587, 1.5864, 1.5856, 1.585, 1.5849, 1.5845, 1.5838, 1.5832, 1.582, 1.5817, 1.5799, 1.5798, 1.5798, 1.5792, 1.5792, 1.5766, 1.5787, 1.5789, 1.5665, 1.551, 1.5366, 1.5497, 1.4706, 1.5451, 1.5243, 1.4847, 1.4256, 1.3643, 0.5884, 0.5522, 1.3579, 1.1104, 0.4352, 1.2348, 0.6659, 0.8705, 1.305, 1.1341, 0.4799, 1.0311, 0.4193, 0.9392, 0.2915, 0.6555, -0.4846, 2.6056, 2.6055, 2.603, 2.5988, 2.5982, 2.5976, 2.5973, 2.5972, 2.5914, 2.5893, 2.5863, 2.5853, 2.5841, 2.5813, 2.5803, 2.5802, 2.5799, 2.5791, 2.5778, 2.5767, 2.5728, 2.5718, 2.5708, 2.5666, 2.566, 2.5623, 2.5621, 2.5618, 2.5597, 2.5592, 2.5578, 2.5587, 2.5406, 2.5384, 2.4638, 2.4179, 2.5434, 2.4368, 2.436, 2.1741, 2.1555, -0.3361, 0.7099, 0.6576, 0.3025, 1.6451, -1.1836, 1.5129, 0.1555, 2.893, 2.8916, 2.8914, 2.8887, 2.888, 2.8878, 2.8859, 2.8838, 2.8782, 2.8777, 2.8725, 2.8712, 2.8704, 2.8676, 2.8665, 2.8656, 2.8655, 2.8653, 2.8644, 2.8611, 2.8611, 2.861, 2.8584, 2.8583, 2.8581, 2.8579, 2.8578, 2.8571, 2.8551, 2.8543, 2.8495, 2.7465, 2.777, 2.5576, 2.6382, 2.4302, 2.3381, 1.8824, 1.9571, 0.3876, 0.6716]}, \"token.table\": {\"Topic\": [1, 2, 3, 4, 1, 2, 4, 1, 2, 3, 4, 1, 2, 5, 1, 2, 3, 1, 2, 5, 1, 2, 5, 1, 2, 5, 1, 2, 3, 1, 2, 4, 1, 2, 3, 1, 2, 3, 4, 1, 2, 3, 1, 2, 3, 1, 2, 5, 1, 2, 4, 1, 2, 3, 4, 1, 2, 4, 1, 2, 3, 5, 1, 2, 4, 1, 2, 3, 1, 2, 3, 5, 1, 2, 3, 1, 2, 3, 5, 1, 2, 3, 5, 1, 2, 3, 4, 5, 1, 2, 3, 1, 2, 3, 1, 2, 3, 1, 2, 3, 5, 1, 2, 5, 1, 2, 3, 4, 5, 1, 2, 3, 5, 1, 2, 5, 1, 2, 5, 1, 2, 3, 1, 2, 3, 1, 2, 3, 1, 2, 3, 4, 1, 2, 3, 1, 2, 5, 1, 2, 3, 4, 1, 2, 3, 1, 2, 5, 1, 2, 3, 1, 2, 3, 5, 1, 2, 3, 4, 1, 2, 3, 4, 1, 2, 1, 2, 1, 2, 3, 1, 2, 3, 5, 1, 2, 3, 1, 2, 3, 1, 2, 3, 4, 1, 2, 3, 4, 1, 2, 3, 1, 2, 3, 4, 1, 2, 3, 4, 1, 2, 3, 1, 2, 3, 4, 1, 2, 3, 1, 2, 3, 1, 2, 3, 1, 2, 3, 1, 2, 3, 5, 1, 2, 3, 1, 2, 3, 1, 2, 5, 1, 2, 3, 1, 2, 3, 4, 5, 1, 2, 3, 1, 2, 3, 4, 1, 2, 3, 4, 5, 1, 2, 3, 1, 2, 3, 4, 1, 2, 5, 1, 2, 3, 1, 2, 3, 1, 2, 4, 1, 2, 5, 1, 2, 5, 1, 2, 5, 1, 2, 5, 1, 2, 3, 1, 2, 3, 4, 1, 2, 4, 5, 1, 2, 3, 1, 2, 3, 4, 1, 2, 1, 2, 3, 5, 1, 2, 3, 5, 1, 2, 1, 2, 3, 4, 1, 2, 3, 5, 1, 2, 3, 4, 1, 2, 3, 5, 1, 2, 4, 5, 1, 2, 3, 1, 2, 4, 1, 2, 3, 1, 2, 3, 1, 2, 1, 2, 4, 1, 2, 3, 1, 2, 3, 4, 1, 2, 3, 1, 2, 3, 4, 1, 2, 3, 4, 1, 2, 3, 1, 2, 3, 1, 2, 3, 1, 2, 5, 1, 2, 3, 5, 1, 2, 3, 5, 1, 2, 1, 2, 3, 5, 1, 2, 3, 4, 1, 2, 3, 4, 5, 1, 2, 3, 5, 1, 2, 3, 1, 2, 3, 1, 2, 3, 4, 5, 1, 2, 3, 1, 2, 5, 1, 2, 3, 5, 1, 2, 3, 4, 1, 2, 3, 4, 5, 1, 2, 1, 2, 3, 1, 2, 3, 1, 2, 3, 4, 1, 2, 3, 4, 1, 2, 1, 2, 3, 4, 1, 2, 3, 1, 2, 3, 1, 2, 3, 4, 1, 2, 3, 4, 1, 2, 4, 1, 2, 3, 4, 5, 1, 2, 3, 5, 1, 2, 5, 1, 2, 5, 1, 2, 3, 4, 1, 2, 1, 2, 3, 4, 5, 1, 2, 4, 1, 2, 3, 1, 2, 3, 1, 2, 3, 4, 1, 2, 3, 1, 2, 3, 1, 2, 3, 4, 1, 2, 5, 1, 2, 3, 5, 1, 2, 3, 1, 2, 3, 5, 1, 2, 3, 1, 2, 3, 4, 5, 1, 2, 5, 1, 2, 3, 1, 2, 3, 1, 2, 3, 5, 1, 2, 5, 1, 2, 3, 1, 2, 3, 1, 2, 3, 4, 1, 2, 3, 1, 2, 5, 1, 2, 3, 4, 5, 1, 2, 3, 4, 1, 2, 4, 1, 2, 3, 1, 2, 3, 1, 2, 1, 2, 3, 4, 1, 2, 3, 1, 2, 3, 4, 5, 1, 2, 3, 4, 1, 2, 3, 1, 2, 3, 4, 5, 1, 2, 3, 5, 1, 2, 3, 1, 2, 3, 1, 2, 3, 4, 1, 2, 3, 1, 2, 1, 2, 3, 4, 5, 1, 2, 3, 4, 1, 2, 4, 1, 2, 3, 4, 1, 2, 3, 4, 5, 1, 2, 3, 4, 5, 1, 2, 3, 4, 1, 2, 3, 5, 1, 2, 3, 4, 1, 2, 3, 4, 1, 2, 3, 1, 2, 3, 1, 2, 3, 1, 2, 5, 1, 2, 3, 4, 1, 2, 3, 4, 5, 1, 2, 3, 5, 1, 2, 4, 1, 2, 3, 4, 1, 2, 3, 1, 2, 3, 4, 1, 2, 4, 1, 2, 3, 1, 2, 3, 1, 2, 3, 4, 1, 2, 3, 1, 2, 3, 5, 1, 2, 3, 5, 1, 2, 3, 5, 1, 2, 3, 5, 1, 2, 3, 4, 1, 2, 3, 4, 1, 2, 3, 1, 2, 3, 1, 2, 3, 4, 1, 2, 3, 1, 2, 5, 1, 2, 3, 1, 2, 3, 1, 2, 4, 1, 2, 4, 1, 2, 3, 4, 1, 2, 3, 4, 1, 2, 3, 4, 5, 1, 2, 3, 5, 1, 2, 3, 5, 1, 2, 5, 1, 2, 3, 5, 1, 2, 5, 1, 2, 1, 2, 3, 4, 1, 2, 3, 1, 2, 4, 1, 2, 1, 2, 4, 1, 2, 4, 1, 2, 4, 1, 2, 3, 5, 1, 2, 5, 1, 2, 3, 4, 1, 2, 4, 1, 2, 1, 2, 3, 1, 2, 3, 1, 2, 3, 4, 1, 2, 4, 1, 2, 3, 4, 1, 2, 3, 1, 2, 3, 1, 2, 3, 4, 1, 2, 5], \"Freq\": [0.009158753964907517, 0.9799866742451043, 0.009158753964907517, 0.009158753964907517, 0.022461028203907815, 0.022461028203907815, 0.965824212768036, 0.011717603578130651, 0.011717603578130651, 0.011717603578130651, 0.972561096984844, 0.01535355190529508, 0.01535355190529508, 0.96727377003359, 0.9846153347996517, 0.005724507760463091, 0.005724507760463091, 0.01564451993737204, 0.01564451993737204, 0.9699602361170665, 0.019364947584905718, 0.019364947584905718, 0.9682473792452858, 0.020136133288185726, 0.020136133288185726, 0.9665343978329148, 0.016453848033335723, 0.016453848033335723, 0.9707770339668077, 0.020374736163683068, 0.020374736163683068, 0.9576125996931041, 0.011482806015943084, 0.9760385113551621, 0.011482806015943084, 0.02212648036404799, 0.13275888218428794, 0.011063240182023995, 0.8297430136517996, 0.039676338574723476, 0.005668048367817639, 0.9522321257933634, 0.019687258569330054, 0.019687258569330054, 0.9646756698971727, 0.016193198053124087, 0.016193198053124087, 0.9715918831874453, 0.011338819250618049, 0.011338819250618049, 0.9751384555531523, 0.020934974212245668, 0.020934974212245668, 0.020934974212245668, 0.9630088137633008, 0.029834867630512296, 0.029834867630512296, 0.9547157641763935, 0.014109858535068959, 0.8959760169768789, 0.0070549292675344795, 0.08465915121041376, 0.025200686134985585, 0.025200686134985585, 0.9324253869944666, 0.049724996229507046, 0.008287499371584508, 0.9364874289890495, 0.21448482982848627, 0.009325427383847229, 0.009325427383847229, 0.77401047285932, 0.017365261382304188, 0.017365261382304188, 0.9724546374090345, 0.9878985674775892, 0.004704278892750425, 0.004704278892750425, 0.004704278892750425, 0.016093803539495025, 0.016093803539495025, 0.016093803539495025, 0.9656282123697016, 0.035625086772335966, 0.8193769957637271, 0.003238644252030542, 0.11982983732513006, 0.022670509764213795, 0.013092505696996506, 0.013092505696996506, 0.9688454215777415, 0.04674513841924855, 0.007790856403208092, 0.9426936247881792, 0.9867345961367174, 0.006016674366687302, 0.006016674366687302, 0.9939024587277437, 0.002083652953307639, 0.002083652953307639, 0.002083652953307639, 0.019868755685568267, 0.019868755685568267, 0.9537002729072769, 0.006132689160297446, 0.11038840488535402, 0.25144025557219524, 0.006132689160297446, 0.6255342943503395, 0.892438379877744, 0.0017813141314925029, 0.0017813141314925029, 0.10509753375805767, 0.0099617357999284, 0.0099617357999284, 0.9762501083929832, 0.004654768293925179, 0.004654768293925179, 0.991465646606063, 0.9925593276992817, 0.0028604015207472095, 0.0028604015207472095, 0.004703659291055946, 0.9877684511217486, 0.004703659291055946, 0.010315181209662681, 0.010315181209662681, 0.9799422149179546, 0.5859283397835602, 0.026939234013037248, 0.006734808503259312, 0.3771492761825215, 0.932735751320714, 0.002878814047286154, 0.06621272308758154, 0.9819719332555692, 0.00818309944379641, 0.00818309944379641, 0.4532940275130678, 0.19970747546661138, 0.34618113275553153, 0.0006452584021538331, 0.20244285858311564, 0.550276497421378, 0.24661220954670451, 0.021134565010421998, 0.021134565010421998, 0.9510554254689899, 0.990215096229278, 0.003613923708865978, 0.007227847417731956, 0.5999328643423334, 0.00408117594790703, 0.00408117594790703, 0.3917928909990749, 0.4973490818599445, 0.14260763983434468, 0.3081273104453985, 0.052144621767682815, 0.2368085745356647, 0.14659578423636385, 0.5112058116960381, 0.1052482553491843, 0.012764970224615736, 0.9829027072954117, 0.004377510078179099, 0.9936947877466554, 0.9566806571352093, 0.04094742112251869, 0.0018612464146599405, 0.5507740501917167, 0.37762100431204654, 0.06999803982369643, 0.0018420536795709587, 0.9893632493372411, 0.005126234452524565, 0.005126234452524565, 0.9933324001191949, 0.0035476157147114103, 0.0035476157147114103, 0.8527532813685818, 0.037076229624720944, 0.10732592786103431, 0.0019513805065642603, 0.02905169826745142, 0.10036041219665036, 0.8662688210658241, 0.00264106347885922, 0.01378101207577533, 0.01378101207577533, 0.964670845304273, 0.007404645758462884, 0.6867808940974325, 0.30359047609697826, 0.001851161439615721, 0.04224976717228692, 0.02112488358614346, 0.02112488358614346, 0.9294948777903123, 0.054435085920579517, 0.9390052321299968, 0.0068043857400724396, 0.16772356190935248, 0.8115656221420281, 0.005410437480946854, 0.01623131244284056, 0.9882146648124104, 0.007320108628240077, 0.007320108628240077, 0.011533321795452368, 0.9803323526134513, 0.005766660897726184, 0.001980778066947811, 0.994350589607801, 0.001980778066947811, 0.006579175411326995, 0.9737179608763952, 0.01315835082265399, 0.34955918408669645, 0.6147420133938455, 0.02410752993701355, 0.006026882484253387, 0.010312553667985945, 0.010312553667985945, 0.9796925984586647, 0.01231608905403319, 0.972971035268622, 0.01231608905403319, 0.631988445225589, 0.0024590990086598794, 0.3614875542730023, 0.9860126364054622, 0.00620133733588341, 0.00620133733588341, 0.9196521494241984, 0.07734669044778793, 0.0015469338089557584, 0.0007734669044778792, 0.0007734669044778792, 0.9849648602823934, 0.005760028422704054, 0.005760028422704054, 0.16372709981019368, 0.7869463829586729, 0.005281519348715925, 0.0422521547897274, 0.4113631641205814, 0.48213532138863835, 0.10173497607283195, 0.0022116299146267815, 0.0022116299146267815, 0.012018011005110366, 0.9734588914139396, 0.012018011005110366, 0.8432151428621854, 0.11760632255709427, 0.03550379548893412, 0.0022189872180583825, 0.016762224998841696, 0.016762224998841696, 0.9722090499328184, 0.010658051118793959, 0.9805407029290443, 0.010658051118793959, 0.006057438322627844, 0.006057438322627844, 0.9813050082657107, 0.031153407907809395, 0.031153407907809395, 0.9346022372342818, 0.016295998648003636, 0.016295998648003636, 0.9614639202322145, 0.020568200337906538, 0.020568200337906538, 0.9667054158816073, 0.004087328026554953, 0.004087328026554953, 0.9932207104528535, 0.004547781090724136, 0.004547781090724136, 0.9914162777778618, 0.015408906836831894, 0.015408906836831894, 0.9707611307204093, 0.006857394961983712, 0.3428697480991856, 0.006857394961983712, 0.6377377314644851, 0.1328753812444506, 0.006327399106878601, 0.8541988794286111, 0.006327399106878601, 0.0017329060279733224, 0.0017329060279733224, 0.9946880600566871, 0.03028888581327467, 0.9490517554826063, 0.010096295271091557, 0.010096295271091557, 0.007307842713008199, 0.9865587662561068, 0.0023300522098068433, 0.0023300522098068433, 0.0023300522098068433, 0.9949322935875222, 0.011269498714334242, 0.011269498714334242, 0.011269498714334242, 0.9691768894327447, 0.013890560534730045, 0.9723392374311031, 0.5365683554543091, 0.4044649001600872, 0.04729629880904245, 0.011416347988389556, 0.9780442907608407, 0.00501561174749149, 0.00501561174749149, 0.01504683524247447, 0.08878019036022539, 0.026634057108067613, 0.8789238845662313, 0.004439009518011269, 0.27661999949901145, 0.00601347824997851, 0.00601347824997851, 0.7095904334974642, 0.001941752442726751, 0.8524293223570437, 0.13980617587632607, 0.001941752442726751, 0.009039023379013739, 0.9762145249334838, 0.009039023379013739, 0.024740981979242193, 0.024740981979242193, 0.9648982971904455, 0.994418315076705, 0.0032181822494391746, 0.0032181822494391746, 0.014011021198811155, 0.014011021198811155, 0.9667604627179697, 0.01434207113181641, 0.9752608369635158, 0.007251294839504334, 0.007251294839504334, 0.9861760981725894, 0.006452933264274248, 0.98729878943396, 0.006452933264274248, 0.04141954941707689, 0.5680395348627687, 0.05917078488153841, 0.3313563953366151, 0.9844223914810799, 0.006039401174730552, 0.006039401174730552, 0.17550231463370733, 0.005318251958597192, 0.005318251958597192, 0.8190108016239676, 0.2603543404042573, 0.36413194462133885, 0.2275824653883368, 0.14747343757164225, 0.008274220094267015, 0.008274220094267015, 0.9846321912177748, 0.009408065256376151, 0.15993710935839459, 0.8279097425611014, 0.02605310588536682, 0.19279298355171448, 0.7815931765610047, 0.013582646954963681, 0.013582646954963681, 0.9779505807573851, 0.9039280186221842, 0.014515632415830695, 0.07917617681362196, 0.0013196029468936995, 0.09173206680495775, 0.9004719210854016, 0.001872082996019546, 0.007488331984078184, 0.01198511536834434, 0.9827794602042359, 0.5797598141924845, 0.19207847947410578, 0.11982877618568068, 0.1074934609900959, 0.031893721379877386, 0.031893721379877386, 0.015946860689938693, 0.9249179200164442, 0.3230340504073886, 0.6688705043729458, 0.0038004005930281012, 0.0038004005930281012, 0.0038004005930281012, 0.9817725245706119, 0.004609260678735267, 0.004609260678735267, 0.009218521357470534, 0.01198287466841247, 0.01198287466841247, 0.9706128481414101, 0.986125886812409, 0.007889007094499271, 0.007889007094499271, 0.4191565351633711, 0.4916592871916299, 0.08609701803355731, 0.002265711000883087, 0.002265711000883087, 0.013727351816887176, 0.013727351816887176, 0.9746419789989894, 0.022363096918143446, 0.022363096918143446, 0.9616131674801681, 0.9825626908681712, 0.005745980648351879, 0.005745980648351879, 0.005745980648351879, 0.5548709625227325, 0.056943798063192115, 0.3880123914538439, 0.0013242743735626073, 0.7164355003727739, 0.13781175104320845, 0.04732928823706149, 0.017168467301679168, 0.0812022102106447, 0.9868745068844822, 0.006623318838150888, 0.13012057953526515, 0.8174241534907682, 0.0467099516280439, 0.009598842427293273, 0.9790819275839139, 0.009598842427293273, 0.3805285714686205, 0.4902461916174676, 0.12277924159513842, 0.006095423341602617, 0.041463504146118275, 0.5528467219482437, 0.38422847175402935, 0.019349635268188527, 0.014185544814529072, 0.978802592202506, 0.7473021250667128, 0.14107946660137943, 0.10895245935552074, 0.0013968264019938556, 0.9703585977554016, 0.024158305338308754, 0.004026384223051459, 0.016602942177853842, 0.016602942177853842, 0.9629706463155229, 0.011999699146277474, 0.023999398292554947, 0.011999699146277474, 0.9599759317021979, 0.33793149127407995, 0.2538050862733596, 0.3222469072908948, 0.08555227627191897, 0.01083214380625909, 0.01083214380625909, 0.974892942563318, 0.041536403501281245, 0.008307280700256249, 0.008307280700256249, 0.9387227191289562, 0.008307280700256249, 0.02026836076952407, 0.010134180384762034, 0.9627471365523933, 0.010134180384762034, 0.011902722813979489, 0.011902722813979489, 0.9760232707463181, 0.02099251457938272, 0.02099251457938272, 0.9656556706516052, 0.008663695148037399, 0.9616701614321512, 0.008663695148037399, 0.017327390296074798, 0.012586822013907317, 0.9817721170847707, 0.9897795848370178, 0.0028198848570855205, 0.0028198848570855205, 0.0028198848570855205, 0.0028198848570855205, 0.010666585965468062, 0.010666585965468062, 0.9813259088230618, 0.007993024601646852, 0.007993024601646852, 0.9831420260025627, 0.9846001415524063, 0.006608054641291317, 0.006608054641291317, 0.040267001183410214, 0.9529856946740417, 0.004474111242601135, 0.004474111242601135, 0.1376213406401383, 0.8587571655944631, 0.002752426812802766, 0.0063239196604227355, 0.8916726721196057, 0.09485879490634103, 0.012290036693674147, 0.012290036693674147, 0.13519040363041562, 0.835722495169842, 0.005308486341967029, 0.005308486341967029, 0.9873784596058673, 0.9919476751174935, 0.0027401869478383798, 0.0027401869478383798, 0.0054803738956767595, 0.8760787763854482, 0.11631554375739, 0.00742439641004617, 0.9977301474098943, 0.0011299322167722472, 0.0011299322167722472, 0.0011299322167722472, 0.988888988745587, 0.00552451949019881, 0.00552451949019881, 0.9658153265644448, 0.028323030104529173, 0.002832303010452917, 0.002832303010452917, 0.002832303010452917, 0.1034105552183515, 0.006463159701146969, 0.8854528790571348, 0.015410872801855687, 0.015410872801855687, 0.9708849865169082, 0.3866597525475293, 0.005260676905408562, 0.6049778441219846, 0.04949311976571503, 0.008248853294285837, 0.9403692755485855, 0.008248853294285837, 0.006782515800694488, 0.006782515800694488, 0.9902473069013953, 0.0014427348273798376, 0.0014427348273798376, 0.9969297657194678, 0.9906586701866421, 0.0057596434313176865, 0.0057596434313176865, 0.573839669450135, 0.1579875039308916, 0.26694440319357543, 0.001815948321044731, 0.3089604400835667, 0.0042323347956652975, 0.6856382368977783, 0.01541657919212275, 0.01541657919212275, 0.9712444891037332, 0.6603446452345894, 0.19492100973792095, 0.1418812791969901, 0.001325993263523272, 0.001325993263523272, 0.5661838857133669, 0.4246379142850251, 0.0012526192161800152, 0.007515715297080091, 0.024932008272965777, 0.024932008272965777, 0.9474163143726996, 0.0021463671960678106, 0.9959143789754641, 0.0021463671960678106, 0.5208433141469059, 0.0024225270425437483, 0.4748153003385747, 0.013859194739581403, 0.9840028265102796, 0.01781996368451619, 0.01781996368451619, 0.01781996368451619, 0.9622780389638743, 0.011450440724872602, 0.011450440724872602, 0.9618370208892987, 0.9939755754259175, 0.002170252348091523, 0.002170252348091523, 0.002170252348091523, 0.002170252348091523, 0.009832876920525598, 0.9734548151320341, 0.009832876920525598, 0.009832876920525598, 0.011549306120827232, 0.011549306120827232, 0.9816910202703147, 0.8968382566788742, 0.0005873204038499503, 0.055208117961895335, 0.022905495750148063, 0.024667456961697917, 0.9739853021061304, 0.00037898260782339707, 0.025012852116344207, 0.0007579652156467941, 0.005540121370492901, 0.005540121370492901, 0.9861416039477365, 0.0028741845899427827, 0.008622553769828348, 0.9858453143503745, 0.051925335360548844, 0.9151840357296733, 0.0064906669200686055, 0.025962667680274422, 0.0055257116261251465, 0.0055257116261251465, 0.9891023810764012, 0.01083894947949233, 0.9755054531543097, 0.003754550214735672, 0.003754550214735672, 0.003754550214735672, 0.9874467064754817, 0.003754550214735672, 0.11174420709564635, 0.3172093620779638, 0.5587210354782317, 0.01081395552538513, 0.01416869939056197, 0.01416869939056197, 0.977640257948776, 0.2517221215279937, 0.7286692991599818, 0.017664710282666227, 0.004416177570666557, 0.9799202350469317, 0.005268388360467374, 0.005268388360467374, 0.005268388360467374, 0.005268388360467374, 0.41825539907956444, 0.005576738654394193, 0.005576738654394193, 0.005576738654394193, 0.5744040814026018, 0.9914519974110255, 0.004486208133081563, 0.004486208133081563, 0.004486208133081563, 0.9225906797665735, 0.05427003998626903, 0.0063847105866198855, 0.012769421173239771, 0.8773170981906439, 0.12038030869143969, 0.0018239440710824196, 0.0018239440710824196, 0.7934229235630489, 0.17580662082803586, 0.00840814273525389, 0.022166921756578434, 0.019189511010006315, 0.009594755505003157, 0.9690703060053188, 0.014811326420858714, 0.9775475437766751, 0.014811326420858714, 0.013416299820737023, 0.9793898869138026, 0.013416299820737023, 0.01811279438071862, 0.01811279438071862, 0.9599781021780869, 0.5194268980875106, 0.40903798564387167, 0.02909475211692811, 0.04193067216851404, 0.5564094743077892, 0.35227223211045094, 0.08129359202548868, 0.01083914560339849, 0.001806524267233082, 0.8867634572406486, 0.10424111494133229, 0.008567762871890325, 0.0014279604786483875, 0.010920472608097217, 0.010920472608097217, 0.9828425347287495, 0.0458508415142609, 0.015283613838086968, 0.015283613838086968, 0.9170168302852181, 0.012192676892754353, 0.06096338446377176, 0.9266434438493307, 0.06095020666623132, 0.02031673555541044, 0.9142530999934698, 0.0067722451851368135, 0.010330232486648949, 0.010330232486648949, 0.9813720862316502, 0.015020440555938899, 0.015020440555938899, 0.9763286361360284, 0.014386232024403258, 0.014386232024403258, 0.9638775456350183, 0.4643420096651882, 0.2861805739326235, 0.15150736267021248, 0.09819921654550808, 0.009682866157354733, 0.009682866157354733, 0.9779694818928281, 0.9101324925348008, 0.0023639805000903917, 0.009455922000361567, 0.07801135650298292, 0.9849627305008942, 0.000810002245477709, 0.012960035927643344, 0.000810002245477709, 0.2573269399900584, 0.005594063912827357, 0.7328223725803837, 0.005594063912827357, 0.9950293747856848, 0.0018774139146899712, 0.0018774139146899712, 0.0018774139146899712, 0.021123684392915728, 0.00704122813097191, 0.9646482539431517, 0.00704122813097191, 0.08317587135093209, 0.010396983918866511, 0.2703215818905293, 0.6342160190508571, 0.9022638867569576, 0.0056479742519997345, 0.09036758803199575, 0.9880186119023712, 0.008666829928968167, 0.008666829928968167, 0.009638098129281751, 0.9734479110574569, 0.009638098129281751, 0.009638098129281751, 0.005893591350018535, 0.9783361641030768, 0.01178718270003707, 0.020594681554665588, 0.020594681554665588, 0.947355351514617, 0.011306547119636008, 0.011306547119636008, 0.9836695994083327, 0.9928045065832061, 0.003955396440570542, 0.003955396440570542, 0.01706651191369254, 0.01706651191369254, 0.9727911790804749, 0.02450196217501731, 0.02450196217501731, 0.955576524825675, 0.023279309299575075, 0.023279309299575075, 0.023279309299575075, 0.954451681282578, 0.4257788202973881, 0.192765535557524, 0.35890098143049204, 0.022393484507467462, 0.01497274685840824, 0.9058511849336985, 0.00748637342920412, 0.06737736086283708, 0.00748637342920412, 0.9901479383978736, 0.0036136786072915096, 0.0036136786072915096, 0.0036136786072915096, 0.0029069541262128633, 0.0014534770631064316, 0.0014534770631064316, 0.9941783111647993, 0.015776339984906934, 0.015776339984906934, 0.9623567390793231, 0.0017974274790967804, 0.0017974274790967804, 0.0017974274790967804, 0.9957748234196163, 0.019017558048553197, 0.019017558048553197, 0.969895460476213, 0.008359852042286611, 0.98646254098982, 0.3672068057272994, 0.004125919165475275, 0.6188878748212912, 0.00825183833095055, 0.006562269215143118, 0.006562269215143118, 0.9843403822714677, 0.018293554530422074, 0.018293554530422074, 0.9695583901123699, 0.006695486210087543, 0.9909319590929564, 0.019490768456635648, 0.038981536913271296, 0.935556885918511, 0.026856888389865226, 0.026856888389865226, 0.9399910936452829, 0.02112740220855759, 0.02112740220855759, 0.9718605015936491, 0.006239586262614281, 0.9858546294930564, 0.006239586262614281, 0.006239586262614281, 0.13483111717740862, 0.0037453088104835728, 0.8614210264112218, 0.027756202656536517, 0.027756202656536517, 0.027756202656536517, 0.9437108903222415, 0.008466860970023955, 0.008466860970023955, 0.9821558725227787, 0.009230664234764464, 0.9784504088850332, 0.004113628791862609, 0.004113628791862609, 0.9913845388388887, 0.014754357541250929, 0.014754357541250929, 0.9737875977225613, 0.5062203489409919, 0.4511963979691449, 0.04218502907841599, 0.0009170658495307824, 0.017431964411328292, 0.017431964411328292, 0.9761900070343844, 0.01934454704664207, 0.01934454704664207, 0.01934454704664207, 0.9478828052854613, 0.9887391232123043, 0.004620276276693011, 0.004620276276693011, 0.21300317922851966, 0.005461619980218453, 0.7755500371910203, 0.018530424754777414, 0.018530424754777414, 0.018530424754777414, 0.9635820872484255, 0.009858734458376088, 0.009858734458376088, 0.9858734458376088], \"Term\": [\"instagram\", \"instagram\", \"instagram\", \"instagram\", \"ufc\", \"ufc\", \"ufc\", \"\\u0430\\u0432\\u0438\\u0430\\u043a\\u043e\\u043c\\u043f\\u0430\\u043d\\u0438\\u044f\", \"\\u0430\\u0432\\u0438\\u0430\\u043a\\u043e\\u043c\\u043f\\u0430\\u043d\\u0438\\u044f\", \"\\u0430\\u0432\\u0438\\u0430\\u043a\\u043e\\u043c\\u043f\\u0430\\u043d\\u0438\\u044f\", \"\\u0430\\u0432\\u0438\\u0430\\u043a\\u043e\\u043c\\u043f\\u0430\\u043d\\u0438\\u044f\", \"\\u0430\\u0433\\u0440\\u0435\\u0441\\u0441\\u0438\\u044f\", \"\\u0430\\u0433\\u0440\\u0435\\u0441\\u0441\\u0438\\u044f\", \"\\u0430\\u0433\\u0440\\u0435\\u0441\\u0441\\u0438\\u044f\", \"\\u0430\\u0434\\u0432\\u043e\\u043a\\u0430\\u0442\", \"\\u0430\\u0434\\u0432\\u043e\\u043a\\u0430\\u0442\", \"\\u0430\\u0434\\u0432\\u043e\\u043a\\u0430\\u0442\", \"\\u0430\\u0437\\u043e\\u0432\\u0441\\u043a\\u0438\\u0439_\\u043c\\u043e\\u0440\\u0435\", \"\\u0430\\u0437\\u043e\\u0432\\u0441\\u043a\\u0438\\u0439_\\u043c\\u043e\\u0440\\u0435\", \"\\u0430\\u0437\\u043e\\u0432\\u0441\\u043a\\u0438\\u0439_\\u043c\\u043e\\u0440\\u0435\", \"\\u0430\\u043a\\u0432\\u0430\\u0442\\u043e\\u0440\\u0438\\u044f\", \"\\u0430\\u043a\\u0432\\u0430\\u0442\\u043e\\u0440\\u0438\\u044f\", \"\\u0430\\u043a\\u0432\\u0430\\u0442\\u043e\\u0440\\u0438\\u044f\", \"\\u0430\\u043a\\u0442_\\u0432\\u043e\\u0435\\u043d\\u043d\\u044b\\u0439\", \"\\u0430\\u043a\\u0442_\\u0432\\u043e\\u0435\\u043d\\u043d\\u044b\\u0439\", \"\\u0430\\u043a\\u0442_\\u0432\\u043e\\u0435\\u043d\\u043d\\u044b\\u0439\", \"\\u0430\\u043d\\u0430\\u043b\\u0438\\u0442\\u0438\\u043a\", \"\\u0430\\u043d\\u0430\\u043b\\u0438\\u0442\\u0438\\u043a\", \"\\u0430\\u043d\\u0430\\u043b\\u0438\\u0442\\u0438\\u043a\", \"\\u0430\\u043d\\u0436\\u0438\", \"\\u0430\\u043d\\u0436\\u0438\", \"\\u0430\\u043d\\u0436\\u0438\", \"\\u0430\\u0440\\u0442\\u0438\\u0441\\u0442\", \"\\u0430\\u0440\\u0442\\u0438\\u0441\\u0442\", \"\\u0430\\u0440\\u0442\\u0438\\u0441\\u0442\", \"\\u0430\\u044d\\u0440\\u043e\\u043f\\u043e\\u0440\\u0442\", \"\\u0430\\u044d\\u0440\\u043e\\u043f\\u043e\\u0440\\u0442\", \"\\u0430\\u044d\\u0440\\u043e\\u043f\\u043e\\u0440\\u0442\", \"\\u0430\\u044d\\u0440\\u043e\\u043f\\u043e\\u0440\\u0442\", \"\\u0431\\u0430\\u043d\\u043a\", \"\\u0431\\u0430\\u043d\\u043a\", \"\\u0431\\u0430\\u043d\\u043a\", \"\\u0431\\u0430\\u0440\\u0440\\u0435\\u043b\\u044c\", \"\\u0431\\u0430\\u0440\\u0440\\u0435\\u043b\\u044c\", \"\\u0431\\u0430\\u0440\\u0440\\u0435\\u043b\\u044c\", \"\\u0431\\u0435\\u0440\\u0434\\u044f\\u043d\\u0441\\u043a_\\u043d\\u0438\\u043a\\u043e\\u043f\\u043e\\u043b\\u044c\", \"\\u0431\\u0435\\u0440\\u0434\\u044f\\u043d\\u0441\\u043a_\\u043d\\u0438\\u043a\\u043e\\u043f\\u043e\\u043b\\u044c\", \"\\u0431\\u0435\\u0440\\u0434\\u044f\\u043d\\u0441\\u043a_\\u043d\\u0438\\u043a\\u043e\\u043f\\u043e\\u043b\\u044c\", \"\\u0431\\u043e\\u0439\", \"\\u0431\\u043e\\u0439\", \"\\u0431\\u043e\\u0439\", \"\\u0431\\u043e\\u043a\\u0441\\u0451\\u0440\", \"\\u0431\\u043e\\u043a\\u0441\\u0451\\u0440\", \"\\u0431\\u043e\\u043a\\u0441\\u0451\\u0440\", \"\\u0431\\u043e\\u043a\\u0441\\u0451\\u0440\", \"\\u0431\\u043e\\u043b\\u0435\\u043b\\u044c\\u0449\\u0438\\u043a\", \"\\u0431\\u043e\\u043b\\u0435\\u043b\\u044c\\u0449\\u0438\\u043a\", \"\\u0431\\u043e\\u043b\\u0435\\u043b\\u044c\\u0449\\u0438\\u043a\", \"\\u0431\\u043e\\u043b\\u044c\\u043d\\u0438\\u0446\\u0430\", \"\\u0431\\u043e\\u043b\\u044c\\u043d\\u0438\\u0446\\u0430\", \"\\u0431\\u043e\\u043b\\u044c\\u043d\\u0438\\u0446\\u0430\", \"\\u0431\\u043e\\u043b\\u044c\\u043d\\u0438\\u0446\\u0430\", \"\\u0431\\u043e\\u043b\\u044c\\u0448\\u0443\\u043d\\u043e\\u0432\", \"\\u0431\\u043e\\u043b\\u044c\\u0448\\u0443\\u043d\\u043e\\u0432\", \"\\u0431\\u043e\\u043b\\u044c\\u0448\\u0443\\u043d\\u043e\\u0432\", \"\\u0431\\u044e\\u0434\\u0436\\u0435\\u0442\", \"\\u0431\\u044e\\u0434\\u0436\\u0435\\u0442\", \"\\u0431\\u044e\\u0434\\u0436\\u0435\\u0442\", \"\\u0432\\u0432\\u0435\\u0434\\u0435\\u043d\\u0438\\u0435\", \"\\u0432\\u0432\\u0435\\u0434\\u0435\\u043d\\u0438\\u0435\", \"\\u0432\\u0432\\u0435\\u0434\\u0435\\u043d\\u0438\\u0435\", \"\\u0432\\u0432\\u0435\\u0434\\u0435\\u043d\\u0438\\u0435\", \"\\u0432\\u0432\\u043f\", \"\\u0432\\u0432\\u043f\", \"\\u0432\\u0432\\u043f\", \"\\u0432\\u0435\\u0434\\u043e\\u043c\\u0441\\u0442\\u0432\\u043e\", \"\\u0432\\u0435\\u0434\\u043e\\u043c\\u0441\\u0442\\u0432\\u043e\", \"\\u0432\\u0435\\u0434\\u043e\\u043c\\u0441\\u0442\\u0432\\u043e\", \"\\u0432\\u0435\\u0434\\u043e\\u043c\\u0441\\u0442\\u0432\\u043e\", \"\\u0432\\u0435\\u0440\\u0445\\u043e\\u0432\\u043d\\u044b\\u0439_\\u0440\\u0430\\u0434\\u0430\", \"\\u0432\\u0435\\u0440\\u0445\\u043e\\u0432\\u043d\\u044b\\u0439_\\u0440\\u0430\\u0434\\u0430\", \"\\u0432\\u0435\\u0440\\u0445\\u043e\\u0432\\u043d\\u044b\\u0439_\\u0440\\u0430\\u0434\\u0430\", \"\\u0432\\u0435\\u0440\\u0445\\u043e\\u0432\\u043d\\u044b\\u0439_\\u0440\\u0430\\u0434\\u0430\", \"\\u0432\\u0438\\u0434\\u0435\\u043e\", \"\\u0432\\u0438\\u0434\\u0435\\u043e\", \"\\u0432\\u0438\\u0434\\u0435\\u043e\", \"\\u0432\\u0438\\u0434\\u0435\\u043e\", \"\\u0432\\u0438\\u0434\\u0435\\u043e\", \"\\u0432\\u0438\\u0447\", \"\\u0432\\u0438\\u0447\", \"\\u0432\\u0438\\u0447\", \"\\u0432\\u043a\\u043b\\u0430\\u0434\", \"\\u0432\\u043a\\u043b\\u0430\\u0434\", \"\\u0432\\u043a\\u043b\\u0430\\u0434\", \"\\u0432\\u043b\\u0430\\u0434\\u0438\\u043c\\u0438\\u0440_\\u043f\\u0443\\u0442\\u0438\\u043d\", \"\\u0432\\u043b\\u0430\\u0434\\u0438\\u043c\\u0438\\u0440_\\u043f\\u0443\\u0442\\u0438\\u043d\", \"\\u0432\\u043b\\u0430\\u0434\\u0438\\u043c\\u0438\\u0440_\\u043f\\u0443\\u0442\\u0438\\u043d\", \"\\u0432\\u043b\\u0430\\u0441\\u0442\\u044c\", \"\\u0432\\u043b\\u0430\\u0441\\u0442\\u044c\", \"\\u0432\\u043b\\u0430\\u0441\\u0442\\u044c\", \"\\u0432\\u043b\\u0430\\u0441\\u0442\\u044c\", \"\\u0432\\u043c\\u0441_\\u0443\\u043a\\u0440\\u0430\\u0438\\u043d\\u0430\", \"\\u0432\\u043c\\u0441_\\u0443\\u043a\\u0440\\u0430\\u0438\\u043d\\u0430\", \"\\u0432\\u043c\\u0441_\\u0443\\u043a\\u0440\\u0430\\u0438\\u043d\\u0430\", \"\\u0432\\u043e\\u0434\\u0430\", \"\\u0432\\u043e\\u0434\\u0430\", \"\\u0432\\u043e\\u0434\\u0430\", \"\\u0432\\u043e\\u0434\\u0430\", \"\\u0432\\u043e\\u0434\\u0430\", \"\\u0432\\u043e\\u0435\\u043d\\u043d\\u044b\\u0439\", \"\\u0432\\u043e\\u0435\\u043d\\u043d\\u044b\\u0439\", \"\\u0432\\u043e\\u0435\\u043d\\u043d\\u044b\\u0439\", \"\\u0432\\u043e\\u0435\\u043d\\u043d\\u044b\\u0439\", \"\\u0432\\u043e\\u0435\\u043d\\u043d\\u044b\\u0439_\\u043c\\u043e\\u0440\\u0441\\u043a\\u043e\\u0439\", \"\\u0432\\u043e\\u0435\\u043d\\u043d\\u044b\\u0439_\\u043c\\u043e\\u0440\\u0441\\u043a\\u043e\\u0439\", \"\\u0432\\u043e\\u0435\\u043d\\u043d\\u044b\\u0439_\\u043c\\u043e\\u0440\\u0441\\u043a\\u043e\\u0439\", \"\\u0432\\u043e\\u0435\\u043d\\u043d\\u044b\\u0439_\\u043f\\u043e\\u043b\\u043e\\u0436\\u0435\\u043d\\u0438\\u0435\", \"\\u0432\\u043e\\u0435\\u043d\\u043d\\u044b\\u0439_\\u043f\\u043e\\u043b\\u043e\\u0436\\u0435\\u043d\\u0438\\u0435\", \"\\u0432\\u043e\\u0435\\u043d\\u043d\\u044b\\u0439_\\u043f\\u043e\\u043b\\u043e\\u0436\\u0435\\u043d\\u0438\\u0435\", \"\\u0432\\u043e\\u043f\\u0440\\u043e\\u0441\", \"\\u0432\\u043e\\u043f\\u0440\\u043e\\u0441\", \"\\u0432\\u043e\\u043f\\u0440\\u043e\\u0441\", \"\\u0432\\u0440\\u0430\\u0447\", \"\\u0432\\u0440\\u0430\\u0447\", \"\\u0432\\u0440\\u0430\\u0447\", \"\\u0432\\u044b\\u0440\\u0430\\u0441\\u0442\\u0438\", \"\\u0432\\u044b\\u0440\\u0430\\u0441\\u0442\\u0438\", \"\\u0432\\u044b\\u0440\\u0430\\u0441\\u0442\\u0438\", \"\\u0432\\u044b\\u0441\\u0442\\u0443\\u043f\\u0430\\u0442\\u044c\", \"\\u0432\\u044b\\u0441\\u0442\\u0443\\u043f\\u0430\\u0442\\u044c\", \"\\u0432\\u044b\\u0441\\u0442\\u0443\\u043f\\u0430\\u0442\\u044c\", \"\\u0432\\u044b\\u0441\\u0442\\u0443\\u043f\\u0430\\u0442\\u044c\", \"\\u0433\\u043b\\u0430\\u0432\\u0430\", \"\\u0433\\u043b\\u0430\\u0432\\u0430\", \"\\u0433\\u043b\\u0430\\u0432\\u0430\", \"\\u0433\\u043b\\u0430\\u0432\\u0430_\\u0433\\u043e\\u0441\\u0443\\u0434\\u0430\\u0440\\u0441\\u0442\\u0432\\u043e\", \"\\u0433\\u043b\\u0430\\u0432\\u0430_\\u0433\\u043e\\u0441\\u0443\\u0434\\u0430\\u0440\\u0441\\u0442\\u0432\\u043e\", \"\\u0433\\u043b\\u0430\\u0432\\u0430_\\u0433\\u043e\\u0441\\u0443\\u0434\\u0430\\u0440\\u0441\\u0442\\u0432\\u043e\", \"\\u0433\\u043e\\u0434\", \"\\u0433\\u043e\\u0434\", \"\\u0433\\u043e\\u0434\", \"\\u0433\\u043e\\u0434\", \"\\u0433\\u043e\\u0440\\u043e\\u0434\", \"\\u0433\\u043e\\u0440\\u043e\\u0434\", \"\\u0433\\u043e\\u0440\\u043e\\u0434\", \"\\u0433\\u043e\\u0441\\u0443\\u0434\\u0430\\u0440\\u0441\\u0442\\u0432\\u0435\\u043d\\u043d\\u044b\\u0439_\\u0433\\u0440\\u0430\\u043d\\u0438\\u0446\\u0430\", \"\\u0433\\u043e\\u0441\\u0443\\u0434\\u0430\\u0440\\u0441\\u0442\\u0432\\u0435\\u043d\\u043d\\u044b\\u0439_\\u0433\\u0440\\u0430\\u043d\\u0438\\u0446\\u0430\", \"\\u0433\\u043e\\u0441\\u0443\\u0434\\u0430\\u0440\\u0441\\u0442\\u0432\\u0435\\u043d\\u043d\\u044b\\u0439_\\u0433\\u0440\\u0430\\u043d\\u0438\\u0446\\u0430\", \"\\u0433\\u0440\\u0430\\u0436\\u0434\\u0430\\u043d\\u0438\\u043d\", \"\\u0433\\u0440\\u0430\\u0436\\u0434\\u0430\\u043d\\u0438\\u043d\", \"\\u0433\\u0440\\u0430\\u0436\\u0434\\u0430\\u043d\\u0438\\u043d\", \"\\u0433\\u0440\\u0430\\u043d\\u0438\\u0446\\u0430\", \"\\u0433\\u0440\\u0430\\u043d\\u0438\\u0446\\u0430\", \"\\u0433\\u0440\\u0430\\u043d\\u0438\\u0446\\u0430\", \"\\u0433\\u0440\\u0430\\u043d\\u0438\\u0446\\u0430\", \"\\u0434\\u0432\\u0430\", \"\\u0434\\u0432\\u0430\", \"\\u0434\\u0432\\u0430\", \"\\u0434\\u0432\\u0430\", \"\\u0434\\u0432\\u0435\\u0441\\u0442\\u0438\", \"\\u0434\\u0432\\u0435\\u0441\\u0442\\u0438\", \"\\u0434\\u0432\\u0435\\u0441\\u0442\\u0438\", \"\\u0434\\u0432\\u0435\\u0441\\u0442\\u0438\", \"\\u0434\\u0435\\u0432\\u043e\\u0447\\u043a\\u0430\", \"\\u0434\\u0435\\u0432\\u043e\\u0447\\u043a\\u0430\", \"\\u0434\\u0435\\u0432\\u0443\\u0448\\u043a\\u0430\", \"\\u0434\\u0435\\u0432\\u0443\\u0448\\u043a\\u0430\", \"\\u0434\\u0435\\u043b\\u043e\", \"\\u0434\\u0435\\u043b\\u043e\", \"\\u0434\\u0435\\u043b\\u043e\", \"\\u0434\\u0435\\u043d\\u044c\", \"\\u0434\\u0435\\u043d\\u044c\", \"\\u0434\\u0435\\u043d\\u044c\", \"\\u0434\\u0435\\u043d\\u044c\", \"\\u0434\\u0435\\u043f\\u0443\\u0442\\u0430\\u0442\", \"\\u0434\\u0435\\u043f\\u0443\\u0442\\u0430\\u0442\", \"\\u0434\\u0435\\u043f\\u0443\\u0442\\u0430\\u0442\", \"\\u0434\\u043e\\u043a\\u0443\\u043c\\u0435\\u043d\\u0442\", \"\\u0434\\u043e\\u043a\\u0443\\u043c\\u0435\\u043d\\u0442\", \"\\u0434\\u043e\\u043a\\u0443\\u043c\\u0435\\u043d\\u0442\", \"\\u0434\\u043e\\u043b\\u0436\\u043d\\u044b\\u0439\", \"\\u0434\\u043e\\u043b\\u0436\\u043d\\u044b\\u0439\", \"\\u0434\\u043e\\u043b\\u0436\\u043d\\u044b\\u0439\", \"\\u0434\\u043e\\u043b\\u0436\\u043d\\u044b\\u0439\", \"\\u0434\\u043e\\u043b\\u043b\\u0430\\u0440\", \"\\u0434\\u043e\\u043b\\u043b\\u0430\\u0440\", \"\\u0434\\u043e\\u043b\\u043b\\u0430\\u0440\", \"\\u0434\\u043e\\u043b\\u043b\\u0430\\u0440\", \"\\u0434\\u043e\\u043b\\u044f\", \"\\u0434\\u043e\\u043b\\u044f\", \"\\u0434\\u043e\\u043b\\u044f\", \"\\u0434\\u043e\\u043c\", \"\\u0434\\u043e\\u043c\", \"\\u0434\\u043e\\u043c\", \"\\u0434\\u043e\\u043c\", \"\\u0434\\u043e\\u043f\\u0438\\u043d\\u0433\", \"\\u0434\\u043e\\u043f\\u0438\\u043d\\u0433\", \"\\u0434\\u043e\\u043f\\u0438\\u043d\\u0433\", \"\\u0434\\u043e\\u043f\\u0438\\u043d\\u0433\", \"\\u0434\\u043e\\u0447\\u044c\", \"\\u0434\\u043e\\u0447\\u044c\", \"\\u0434\\u043e\\u0447\\u044c\", \"\\u0434\\u0440\\u0443\\u0433\", \"\\u0434\\u0440\\u0443\\u0433\", \"\\u0434\\u0440\\u0443\\u0433\", \"\\u0434\\u0440\\u0443\\u0433\", \"\\u0435\\u0432\\u0440\\u043e\\u0441\\u043e\\u044e\\u0437\", \"\\u0435\\u0432\\u0440\\u043e\\u0441\\u043e\\u044e\\u0437\", \"\\u0435\\u0432\\u0440\\u043e\\u0441\\u043e\\u044e\\u0437\", \"\\u0436\\u0435\\u043d\\u0430\", \"\\u0436\\u0435\\u043d\\u0430\", \"\\u0436\\u0435\\u043d\\u0430\", \"\\u0436\\u0435\\u043d\\u0449\\u0438\\u043d\\u0430\", \"\\u0436\\u0435\\u043d\\u0449\\u0438\\u043d\\u0430\", \"\\u0436\\u0435\\u043d\\u0449\\u0438\\u043d\\u0430\", \"\\u0436\\u0438\\u0432\\u043e\\u0442\\u043d\\u043e\\u0435\", \"\\u0436\\u0438\\u0432\\u043e\\u0442\\u043d\\u043e\\u0435\", \"\\u0436\\u0438\\u0432\\u043e\\u0442\\u043d\\u043e\\u0435\", \"\\u0436\\u0438\\u0437\\u043d\\u044c\", \"\\u0436\\u0438\\u0437\\u043d\\u044c\", \"\\u0436\\u0438\\u0437\\u043d\\u044c\", \"\\u0436\\u0438\\u0437\\u043d\\u044c\", \"\\u0436\\u0438\\u043b\\u044c\\u0451\", \"\\u0436\\u0438\\u043b\\u044c\\u0451\", \"\\u0436\\u0438\\u043b\\u044c\\u0451\", \"\\u0436\\u0438\\u0442\\u0435\\u043b\\u044c\\u043d\\u0438\\u0446\\u0430\", \"\\u0436\\u0438\\u0442\\u0435\\u043b\\u044c\\u043d\\u0438\\u0446\\u0430\", \"\\u0436\\u0438\\u0442\\u0435\\u043b\\u044c\\u043d\\u0438\\u0446\\u0430\", \"\\u0437\\u0430\\u0434\\u0435\\u0440\\u0436\\u0430\\u0442\\u044c\", \"\\u0437\\u0430\\u0434\\u0435\\u0440\\u0436\\u0430\\u0442\\u044c\", \"\\u0437\\u0430\\u0434\\u0435\\u0440\\u0436\\u0430\\u0442\\u044c\", \"\\u0437\\u0430\\u043a\\u043e\\u043d\", \"\\u0437\\u0430\\u043a\\u043e\\u043d\", \"\\u0437\\u0430\\u043a\\u043e\\u043d\", \"\\u0437\\u0430\\u044f\\u0432\\u0438\\u0442\\u044c\", \"\\u0437\\u0430\\u044f\\u0432\\u0438\\u0442\\u044c\", \"\\u0437\\u0430\\u044f\\u0432\\u0438\\u0442\\u044c\", \"\\u0437\\u0430\\u044f\\u0432\\u0438\\u0442\\u044c\", \"\\u0437\\u0430\\u044f\\u0432\\u0438\\u0442\\u044c\", \"\\u0437\\u0430\\u044f\\u0432\\u043b\\u0435\\u043d\\u0438\\u0435\", \"\\u0437\\u0430\\u044f\\u0432\\u043b\\u0435\\u043d\\u0438\\u0435\", \"\\u0437\\u0430\\u044f\\u0432\\u043b\\u0435\\u043d\\u0438\\u0435\", \"\\u0438\\u0437\\u0432\\u0435\\u0441\\u0442\\u043d\\u044b\\u0439\", \"\\u0438\\u0437\\u0432\\u0435\\u0441\\u0442\\u043d\\u044b\\u0439\", \"\\u0438\\u0437\\u0432\\u0435\\u0441\\u0442\\u043d\\u044b\\u0439\", \"\\u0438\\u0437\\u0432\\u0435\\u0441\\u0442\\u043d\\u044b\\u0439\", \"\\u0438\\u0437\\u0434\\u0430\\u043d\\u0438\\u0435\", \"\\u0438\\u0437\\u0434\\u0430\\u043d\\u0438\\u0435\", \"\\u0438\\u0437\\u0434\\u0430\\u043d\\u0438\\u0435\", \"\\u0438\\u0437\\u0434\\u0430\\u043d\\u0438\\u0435\", \"\\u0438\\u0437\\u0434\\u0430\\u043d\\u0438\\u0435\", \"\\u0438\\u0437\\u043e\\u0431\\u0440\\u0430\\u0436\\u0435\\u043d\\u0438\\u0435\", \"\\u0438\\u0437\\u043e\\u0431\\u0440\\u0430\\u0436\\u0435\\u043d\\u0438\\u0435\", \"\\u0438\\u0437\\u043e\\u0431\\u0440\\u0430\\u0436\\u0435\\u043d\\u0438\\u0435\", \"\\u0438\\u043d\\u0444\\u043e\\u0440\\u043c\\u0430\\u0446\\u0438\\u044f\", \"\\u0438\\u043d\\u0444\\u043e\\u0440\\u043c\\u0430\\u0446\\u0438\\u044f\", \"\\u0438\\u043d\\u0444\\u043e\\u0440\\u043c\\u0430\\u0446\\u0438\\u044f\", \"\\u0438\\u043d\\u0444\\u043e\\u0440\\u043c\\u0430\\u0446\\u0438\\u044f\", \"\\u0438\\u043d\\u0446\\u0438\\u0434\\u0435\\u043d\\u0442_\\u043a\\u0435\\u0440\\u0447\\u0435\\u043d\\u0441\\u043a\\u0438\\u0439\", \"\\u0438\\u043d\\u0446\\u0438\\u0434\\u0435\\u043d\\u0442_\\u043a\\u0435\\u0440\\u0447\\u0435\\u043d\\u0441\\u043a\\u0438\\u0439\", \"\\u0438\\u043d\\u0446\\u0438\\u0434\\u0435\\u043d\\u0442_\\u043a\\u0435\\u0440\\u0447\\u0435\\u043d\\u0441\\u043a\\u0438\\u0439\", \"\\u0438\\u0441\\u043a\\u0443\\u0441\\u0441\\u0442\\u0432\\u043e\", \"\\u0438\\u0441\\u043a\\u0443\\u0441\\u0441\\u0442\\u0432\\u043e\", \"\\u0438\\u0441\\u043a\\u0443\\u0441\\u0441\\u0442\\u0432\\u043e\", \"\\u0438\\u0441\\u0441\\u043b\\u0435\\u0434\\u043e\\u0432\\u0430\\u043d\\u0438\\u0435\", \"\\u0438\\u0441\\u0441\\u043b\\u0435\\u0434\\u043e\\u0432\\u0430\\u043d\\u0438\\u0435\", \"\\u0438\\u0441\\u0441\\u043b\\u0435\\u0434\\u043e\\u0432\\u0430\\u043d\\u0438\\u0435\", \"\\u0439_\\u043c\\u0438\\u043d\\u0443\\u0442\\u0430\", \"\\u0439_\\u043c\\u0438\\u043d\\u0443\\u0442\\u0430\", \"\\u0439_\\u043c\\u0438\\u043d\\u0443\\u0442\\u0430\", \"\\u043a\\u0430\\u0442\\u0435\\u0440\", \"\\u043a\\u0430\\u0442\\u0435\\u0440\", \"\\u043a\\u0430\\u0442\\u0435\\u0440\", \"\\u043a\\u0430\\u0442\\u0435\\u0440_\\u0431\\u0435\\u0440\\u0434\\u044f\\u043d\\u0441\\u043a\", \"\\u043a\\u0430\\u0442\\u0435\\u0440_\\u0431\\u0435\\u0440\\u0434\\u044f\\u043d\\u0441\\u043a\", \"\\u043a\\u0430\\u0442\\u0435\\u0440_\\u0431\\u0435\\u0440\\u0434\\u044f\\u043d\\u0441\\u043a\", \"\\u043a\\u0435\\u0440\\u0447\\u0435\\u043d\\u0441\\u043a\\u0438\\u0439_\\u043f\\u0440\\u043e\\u043b\\u0438\\u0432\", \"\\u043a\\u0435\\u0440\\u0447\\u0435\\u043d\\u0441\\u043a\\u0438\\u0439_\\u043f\\u0440\\u043e\\u043b\\u0438\\u0432\", \"\\u043a\\u0435\\u0440\\u0447\\u0435\\u043d\\u0441\\u043a\\u0438\\u0439_\\u043f\\u0440\\u043e\\u043b\\u0438\\u0432\", \"\\u043a\\u0438\\u0435\\u0432\", \"\\u043a\\u0438\\u0435\\u0432\", \"\\u043a\\u0438\\u0435\\u0432\", \"\\u043a\\u043b\\u0438\\u0435\\u043d\\u0442\", \"\\u043a\\u043b\\u0438\\u0435\\u043d\\u0442\", \"\\u043a\\u043b\\u0438\\u0435\\u043d\\u0442\", \"\\u043a\\u043b\\u0443\\u0431\", \"\\u043a\\u043b\\u0443\\u0431\", \"\\u043a\\u043b\\u0443\\u0431\", \"\\u043a\\u043b\\u0443\\u0431\", \"\\u043a\\u043e\\u043c\\u0430\\u043d\\u0434\\u0430\", \"\\u043a\\u043e\\u043c\\u0430\\u043d\\u0434\\u0430\", \"\\u043a\\u043e\\u043c\\u0430\\u043d\\u0434\\u0430\", \"\\u043a\\u043e\\u043c\\u0430\\u043d\\u0434\\u0430\", \"\\u043a\\u043e\\u043c\\u043f\\u0430\\u043d\\u0438\\u044f\", \"\\u043a\\u043e\\u043c\\u043f\\u0430\\u043d\\u0438\\u044f\", \"\\u043a\\u043e\\u043c\\u043f\\u0430\\u043d\\u0438\\u044f\", \"\\u043a\\u043e\\u043d\\u043a\\u0443\\u0440\\u0441\", \"\\u043a\\u043e\\u043d\\u043a\\u0443\\u0440\\u0441\", \"\\u043a\\u043e\\u043d\\u043a\\u0443\\u0440\\u0441\", \"\\u043a\\u043e\\u043d\\u043a\\u0443\\u0440\\u0441\", \"\\u043a\\u043e\\u043d\\u0446\\u0435\\u0440\\u0442\", \"\\u043a\\u043e\\u043d\\u0446\\u0435\\u0440\\u0442\", \"\\u043a\\u043e\\u0440\\u0430\\u0431\\u043b\\u044c\", \"\\u043a\\u043e\\u0440\\u0430\\u0431\\u043b\\u044c\", \"\\u043a\\u043e\\u0440\\u0430\\u0431\\u043b\\u044c\", \"\\u043a\\u043e\\u0440\\u0430\\u0431\\u043b\\u044c\", \"\\u043a\\u043e\\u0440\\u0430\\u0431\\u043b\\u044c_\\u0432\\u043c\\u0441\", \"\\u043a\\u043e\\u0440\\u0430\\u0431\\u043b\\u044c_\\u0432\\u043c\\u0441\", \"\\u043a\\u043e\\u0440\\u0430\\u0431\\u043b\\u044c_\\u0432\\u043c\\u0441\", \"\\u043a\\u043e\\u0440\\u0430\\u0431\\u043b\\u044c_\\u0432\\u043c\\u0441\", \"\\u043a\\u043e\\u0441\\u0442\\u044e\\u043c\", \"\\u043a\\u043e\\u0441\\u0442\\u044e\\u043c\", \"\\u043a\\u043e\\u0442\\u043e\\u0440\\u044b\\u0439\", \"\\u043a\\u043e\\u0442\\u043e\\u0440\\u044b\\u0439\", \"\\u043a\\u043e\\u0442\\u043e\\u0440\\u044b\\u0439\", \"\\u043a\\u043e\\u0442\\u043e\\u0440\\u044b\\u0439\", \"\\u043a\\u0440\\u0435\\u043c\\u043b\\u044c\", \"\\u043a\\u0440\\u0435\\u043c\\u043b\\u044c\", \"\\u043a\\u0440\\u0435\\u043c\\u043b\\u044c\", \"\\u043a\\u0440\\u0435\\u043c\\u043b\\u044c\", \"\\u043a\\u0440\\u0443\\u043f\\u043d\\u044b\\u0439\", \"\\u043a\\u0440\\u0443\\u043f\\u043d\\u044b\\u0439\", \"\\u043a\\u0440\\u0443\\u043f\\u043d\\u044b\\u0439\", \"\\u043a\\u0440\\u0443\\u043f\\u043d\\u044b\\u0439\", \"\\u043a\\u0440\\u044b\\u043c\", \"\\u043a\\u0440\\u044b\\u043c\", \"\\u043a\\u0440\\u044b\\u043c\", \"\\u043a\\u0440\\u044b\\u043c\", \"\\u043b\\u0435\\u0442\\u043d\\u0438\\u0439\", \"\\u043b\\u0435\\u0442\\u043d\\u0438\\u0439\", \"\\u043b\\u0435\\u0442\\u043d\\u0438\\u0439\", \"\\u043b\\u0435\\u0442\\u043d\\u0438\\u0439\", \"\\u043b\\u0435\\u0447\\u0435\\u043d\\u0438\\u0435\", \"\\u043b\\u0435\\u0447\\u0435\\u043d\\u0438\\u0435\", \"\\u043b\\u0435\\u0447\\u0435\\u043d\\u0438\\u0435\", \"\\u043b\\u0438\\u0433\\u0430_\\u0447\\u0435\\u043c\\u043f\\u0438\\u043e\\u043d\", \"\\u043b\\u0438\\u0433\\u0430_\\u0447\\u0435\\u043c\\u043f\\u0438\\u043e\\u043d\", \"\\u043b\\u0438\\u0433\\u0430_\\u0447\\u0435\\u043c\\u043f\\u0438\\u043e\\u043d\", \"\\u043b\\u0438\\u0434\\u0435\\u0440\", \"\\u043b\\u0438\\u0434\\u0435\\u0440\", \"\\u043b\\u0438\\u0434\\u0435\\u0440\", \"\\u043b\\u0443\\u043d\\u0430\", \"\\u043b\\u0443\\u043d\\u0430\", \"\\u043b\\u0443\\u043d\\u0430\", \"\\u043c\\u0430\\u043b\\u044c\\u0447\\u0438\\u043a\", \"\\u043c\\u0430\\u043b\\u044c\\u0447\\u0438\\u043a\", \"\\u043c\\u0430\\u0442\\u0447\", \"\\u043c\\u0430\\u0442\\u0447\", \"\\u043c\\u0430\\u0442\\u0447\", \"\\u043c\\u0430\\u0442\\u044c\", \"\\u043c\\u0430\\u0442\\u044c\", \"\\u043c\\u0430\\u0442\\u044c\", \"\\u043c\\u0430\\u0448\\u0438\\u043d\\u0430\", \"\\u043c\\u0430\\u0448\\u0438\\u043d\\u0430\", \"\\u043c\\u0430\\u0448\\u0438\\u043d\\u0430\", \"\\u043c\\u0430\\u0448\\u0438\\u043d\\u0430\", \"\\u043c\\u0432\\u0434\", \"\\u043c\\u0432\\u0434\", \"\\u043c\\u0432\\u0434\", \"\\u043c\\u0435\\u0434\\u0432\\u0435\\u0434\\u0435\\u0432\", \"\\u043c\\u0435\\u0434\\u0432\\u0435\\u0434\\u0435\\u0432\", \"\\u043c\\u0435\\u0434\\u0432\\u0435\\u0434\\u0435\\u0432\", \"\\u043c\\u0435\\u0434\\u0432\\u0435\\u0434\\u0435\\u0432\", \"\\u043c\\u0435\\u0441\\u0442\\u043e\", \"\\u043c\\u0435\\u0441\\u0442\\u043e\", \"\\u043c\\u0435\\u0441\\u0442\\u043e\", \"\\u043c\\u0435\\u0441\\u0442\\u043e\", \"\\u043c\\u0438\\u043b\\u043b\\u0438\\u0430\\u0440\\u0434_\\u0440\\u0443\\u0431\\u043b\\u044c\", \"\\u043c\\u0438\\u043b\\u043b\\u0438\\u0430\\u0440\\u0434_\\u0440\\u0443\\u0431\\u043b\\u044c\", \"\\u043c\\u0438\\u043b\\u043b\\u0438\\u0430\\u0440\\u0434_\\u0440\\u0443\\u0431\\u043b\\u044c\", \"\\u043c\\u0438\\u043b\\u043b\\u0438\\u043e\\u043d\", \"\\u043c\\u0438\\u043b\\u043b\\u0438\\u043e\\u043d\", \"\\u043c\\u0438\\u043b\\u043b\\u0438\\u043e\\u043d\", \"\\u043c\\u0438\\u043b\\u043b\\u0438\\u043e\\u043d_\\u0440\\u0443\\u0431\\u043b\\u044c\", \"\\u043c\\u0438\\u043b\\u043b\\u0438\\u043e\\u043d_\\u0440\\u0443\\u0431\\u043b\\u044c\", \"\\u043c\\u0438\\u043b\\u043b\\u0438\\u043e\\u043d_\\u0440\\u0443\\u0431\\u043b\\u044c\", \"\\u043c\\u043e\\u0440\\u044f\\u043a\", \"\\u043c\\u043e\\u0440\\u044f\\u043a\", \"\\u043c\\u043e\\u0440\\u044f\\u043a\", \"\\u043c\\u043e\\u0441\\u043a\\u0432\\u0430\", \"\\u043c\\u043e\\u0441\\u043a\\u0432\\u0430\", \"\\u043c\\u043e\\u0441\\u043a\\u0432\\u0430\", \"\\u043c\\u043e\\u0441\\u043a\\u0432\\u0430\", \"\\u043c\\u0443\\u0436\\u0447\\u0438\\u043d\\u0430\", \"\\u043c\\u0443\\u0436\\u0447\\u0438\\u043d\\u0430\", \"\\u043c\\u0443\\u0436\\u0447\\u0438\\u043d\\u0430\", \"\\u043c\\u0443\\u0436\\u0447\\u0438\\u043d\\u0430\", \"\\u043c\\u0443\\u0437\\u044b\\u043a\\u0430\\u043d\\u0442\", \"\\u043c\\u0443\\u0437\\u044b\\u043a\\u0430\\u043d\\u0442\", \"\\u043d\\u0430\\u0437\\u0432\\u0430\\u0442\\u044c\", \"\\u043d\\u0430\\u0437\\u0432\\u0430\\u0442\\u044c\", \"\\u043d\\u0430\\u0437\\u0432\\u0430\\u0442\\u044c\", \"\\u043d\\u0430\\u0437\\u0432\\u0430\\u0442\\u044c\", \"\\u043d\\u0430\\u043f\\u0430\\u0434\\u0430\\u0442\\u044c\", \"\\u043d\\u0430\\u043f\\u0430\\u0434\\u0430\\u0442\\u044c\", \"\\u043d\\u0430\\u043f\\u0430\\u0434\\u0430\\u0442\\u044c\", \"\\u043d\\u0430\\u043f\\u0430\\u0434\\u0430\\u0442\\u044c\", \"\\u043d\\u0430\\u043f\\u0438\\u0441\\u0430\\u0442\\u044c\", \"\\u043d\\u0430\\u043f\\u0438\\u0441\\u0430\\u0442\\u044c\", \"\\u043d\\u0430\\u043f\\u0438\\u0441\\u0430\\u0442\\u044c\", \"\\u043d\\u0430\\u043f\\u0438\\u0441\\u0430\\u0442\\u044c\", \"\\u043d\\u0430\\u043f\\u0438\\u0441\\u0430\\u0442\\u044c\", \"\\u043d\\u0430\\u0440\\u0443\\u0448\\u0435\\u043d\\u0438\\u0435\", \"\\u043d\\u0430\\u0440\\u0443\\u0448\\u0435\\u043d\\u0438\\u0435\", \"\\u043d\\u0430\\u0440\\u0443\\u0448\\u0435\\u043d\\u0438\\u0435\", \"\\u043d\\u0430\\u0440\\u0443\\u0448\\u0435\\u043d\\u0438\\u0435\", \"\\u043d\\u0435\\u0434\\u0432\\u0438\\u0436\\u0438\\u043c\\u043e\\u0441\\u0442\\u044c\", \"\\u043d\\u0435\\u0434\\u0432\\u0438\\u0436\\u0438\\u043c\\u043e\\u0441\\u0442\\u044c\", \"\\u043d\\u0435\\u0434\\u0432\\u0438\\u0436\\u0438\\u043c\\u043e\\u0441\\u0442\\u044c\", \"\\u043d\\u0435\\u0437\\u0430\\u043a\\u043e\\u043d\\u043d\\u044b\\u0439\", \"\\u043d\\u0435\\u0437\\u0430\\u043a\\u043e\\u043d\\u043d\\u044b\\u0439\", \"\\u043d\\u0435\\u0437\\u0430\\u043a\\u043e\\u043d\\u043d\\u044b\\u0439\", \"\\u043d\\u0435\\u0441\\u043a\\u043e\\u043b\\u044c\\u043a\\u043e\", \"\\u043d\\u0435\\u0441\\u043a\\u043e\\u043b\\u044c\\u043a\\u043e\", \"\\u043d\\u0435\\u0441\\u043a\\u043e\\u043b\\u044c\\u043a\\u043e\", \"\\u043d\\u0435\\u0441\\u043a\\u043e\\u043b\\u044c\\u043a\\u043e\", \"\\u043d\\u0435\\u0441\\u043a\\u043e\\u043b\\u044c\\u043a\\u043e\", \"\\u043d\\u0435\\u0444\\u0442\\u044c\", \"\\u043d\\u0435\\u0444\\u0442\\u044c\", \"\\u043d\\u0435\\u0444\\u0442\\u044c\", \"\\u043d\\u0438\\u043a\\u043e\\u043f\\u043e\\u043b\\u044c_\\u0431\\u0443\\u043a\\u0441\\u0438\\u0440\", \"\\u043d\\u0438\\u043a\\u043e\\u043f\\u043e\\u043b\\u044c_\\u0431\\u0443\\u043a\\u0441\\u0438\\u0440\", \"\\u043d\\u0438\\u043a\\u043e\\u043f\\u043e\\u043b\\u044c_\\u0431\\u0443\\u043a\\u0441\\u0438\\u0440\", \"\\u043d\\u043e\\u0432\\u043e\\u0441\\u0442\\u044c\", \"\\u043d\\u043e\\u0432\\u043e\\u0441\\u0442\\u044c\", \"\\u043d\\u043e\\u0432\\u043e\\u0441\\u0442\\u044c\", \"\\u043d\\u043e\\u0432\\u043e\\u0441\\u0442\\u044c\", \"\\u043d\\u043e\\u0432\\u044b\\u0439\", \"\\u043d\\u043e\\u0432\\u044b\\u0439\", \"\\u043d\\u043e\\u0432\\u044b\\u0439\", \"\\u043d\\u043e\\u0432\\u044b\\u0439\", \"\\u043d\\u043e\\u044f\\u0431\\u0440\\u044c\", \"\\u043d\\u043e\\u044f\\u0431\\u0440\\u044c\", \"\\u043d\\u043e\\u044f\\u0431\\u0440\\u044c\", \"\\u043d\\u043e\\u044f\\u0431\\u0440\\u044c\", \"\\u043d\\u043e\\u044f\\u0431\\u0440\\u044c\", \"\\u043e\\u0431\\u0432\\u0438\\u043d\\u044f\\u0442\\u044c\", \"\\u043e\\u0431\\u0432\\u0438\\u043d\\u044f\\u0442\\u044c\", \"\\u043e\\u0431\\u043d\\u0430\\u0440\\u0443\\u0436\\u0438\\u0442\\u044c\", \"\\u043e\\u0431\\u043d\\u0430\\u0440\\u0443\\u0436\\u0438\\u0442\\u044c\", \"\\u043e\\u0431\\u043d\\u0430\\u0440\\u0443\\u0436\\u0438\\u0442\\u044c\", \"\\u043e\\u0434\\u0435\\u0436\\u0434\\u0430\", \"\\u043e\\u0434\\u0435\\u0436\\u0434\\u0430\", \"\\u043e\\u0434\\u0435\\u0436\\u0434\\u0430\", \"\\u043e\\u0434\\u0438\\u043d\", \"\\u043e\\u0434\\u0438\\u043d\", \"\\u043e\\u0434\\u0438\\u043d\", \"\\u043e\\u0434\\u0438\\u043d\", \"\\u043e\\u043a\\u0430\\u0437\\u0430\\u0442\\u044c\\u0441\\u044f\", \"\\u043e\\u043a\\u0430\\u0437\\u0430\\u0442\\u044c\\u0441\\u044f\", \"\\u043e\\u043a\\u0430\\u0437\\u0430\\u0442\\u044c\\u0441\\u044f\", \"\\u043e\\u043a\\u0430\\u0437\\u0430\\u0442\\u044c\\u0441\\u044f\", \"\\u043e\\u0442\\u0435\\u0446\", \"\\u043e\\u0442\\u0435\\u0446\", \"\\u043e\\u0442\\u043c\\u0435\\u0442\\u0438\\u0442\\u044c\", \"\\u043e\\u0442\\u043c\\u0435\\u0442\\u0438\\u0442\\u044c\", \"\\u043e\\u0442\\u043c\\u0435\\u0442\\u0438\\u0442\\u044c\", \"\\u043e\\u0442\\u043c\\u0435\\u0442\\u0438\\u0442\\u044c\", \"\\u043e\\u0442\\u043d\\u043e\\u0448\\u0435\\u043d\\u0438\\u0435\", \"\\u043e\\u0442\\u043d\\u043e\\u0448\\u0435\\u043d\\u0438\\u0435\", \"\\u043e\\u0442\\u043d\\u043e\\u0448\\u0435\\u043d\\u0438\\u0435\", \"\\u043e\\u0442\\u0440\\u0430\\u0441\\u043b\\u044c\", \"\\u043e\\u0442\\u0440\\u0430\\u0441\\u043b\\u044c\", \"\\u043e\\u0442\\u0440\\u0430\\u0441\\u043b\\u044c\", \"\\u043f\\u0430\\u0441\\u0441\\u0430\\u0436\\u0438\\u0440\", \"\\u043f\\u0430\\u0441\\u0441\\u0430\\u0436\\u0438\\u0440\", \"\\u043f\\u0430\\u0441\\u0441\\u0430\\u0436\\u0438\\u0440\", \"\\u043f\\u0430\\u0441\\u0441\\u0430\\u0436\\u0438\\u0440\", \"\\u043f\\u0435\\u0440\\u0432\\u044b\\u0439\", \"\\u043f\\u0435\\u0440\\u0432\\u044b\\u0439\", \"\\u043f\\u0435\\u0440\\u0432\\u044b\\u0439\", \"\\u043f\\u0435\\u0440\\u0432\\u044b\\u0439\", \"\\u043f\\u0438\\u043b\\u043e\\u0442\", \"\\u043f\\u0438\\u043b\\u043e\\u0442\", \"\\u043f\\u0438\\u043b\\u043e\\u0442\", \"\\u043f\\u043e\\u0431\\u0435\\u0434\\u0430\", \"\\u043f\\u043e\\u0431\\u0435\\u0434\\u0430\", \"\\u043f\\u043e\\u0431\\u0435\\u0434\\u0430\", \"\\u043f\\u043e\\u0431\\u0435\\u0434\\u0430\", \"\\u043f\\u043e\\u0431\\u0435\\u0434\\u0430\", \"\\u043f\\u043e\\u0432\\u044b\\u0448\\u0435\\u043d\\u0438\\u0435\", \"\\u043f\\u043e\\u0432\\u044b\\u0448\\u0435\\u043d\\u0438\\u0435\", \"\\u043f\\u043e\\u0432\\u044b\\u0448\\u0435\\u043d\\u0438\\u0435\", \"\\u043f\\u043e\\u0432\\u044b\\u0448\\u0435\\u043d\\u0438\\u0435\", \"\\u043f\\u043e\\u0433\\u0440\\u0430\\u043d\\u0438\\u0447\\u043d\\u0438\\u043a\", \"\\u043f\\u043e\\u0433\\u0440\\u0430\\u043d\\u0438\\u0447\\u043d\\u0438\\u043a\", \"\\u043f\\u043e\\u0433\\u0440\\u0430\\u043d\\u0438\\u0447\\u043d\\u0438\\u043a\", \"\\u043f\\u043e\\u0433\\u0440\\u0430\\u043d\\u0438\\u0447\\u043d\\u044b\\u0439_\\u0443\\u043f\\u0440\\u0430\\u0432\\u043b\\u0435\\u043d\\u0438\\u0435\", \"\\u043f\\u043e\\u0433\\u0440\\u0430\\u043d\\u0438\\u0447\\u043d\\u044b\\u0439_\\u0443\\u043f\\u0440\\u0430\\u0432\\u043b\\u0435\\u043d\\u0438\\u0435\", \"\\u043f\\u043e\\u0433\\u0440\\u0430\\u043d\\u0438\\u0447\\u043d\\u044b\\u0439_\\u0443\\u043f\\u0440\\u0430\\u0432\\u043b\\u0435\\u043d\\u0438\\u0435\", \"\\u043f\\u043e\\u0434\\u0435\\u043b\\u0438\\u0442\\u044c\\u0441\\u044f\", \"\\u043f\\u043e\\u0434\\u0435\\u043b\\u0438\\u0442\\u044c\\u0441\\u044f\", \"\\u043f\\u043e\\u0434\\u0435\\u043b\\u0438\\u0442\\u044c\\u0441\\u044f\", \"\\u043f\\u043e\\u0434\\u0435\\u043b\\u0438\\u0442\\u044c\\u0441\\u044f\", \"\\u043f\\u043e\\u0434\\u0440\\u043e\\u0441\\u0442\\u043e\\u043a\", \"\\u043f\\u043e\\u0434\\u0440\\u043e\\u0441\\u0442\\u043e\\u043a\", \"\\u043f\\u043e\\u0434\\u0447\\u0435\\u0440\\u043a\\u043d\\u0443\\u0442\\u044c\", \"\\u043f\\u043e\\u0434\\u0447\\u0435\\u0440\\u043a\\u043d\\u0443\\u0442\\u044c\", \"\\u043f\\u043e\\u0434\\u0447\\u0435\\u0440\\u043a\\u043d\\u0443\\u0442\\u044c\", \"\\u043f\\u043e\\u0434\\u0447\\u0435\\u0440\\u043a\\u043d\\u0443\\u0442\\u044c\", \"\\u043f\\u043e\\u0434\\u0447\\u0435\\u0440\\u043a\\u043d\\u0443\\u0442\\u044c\", \"\\u043f\\u043e\\u0435\\u0434\\u0438\\u043d\\u043e\\u043a\", \"\\u043f\\u043e\\u0435\\u0434\\u0438\\u043d\\u043e\\u043a\", \"\\u043f\\u043e\\u0435\\u0434\\u0438\\u043d\\u043e\\u043a\", \"\\u043f\\u043e\\u043a\\u0430\\u0437\\u0430\\u0442\\u0435\\u043b\\u044c\", \"\\u043f\\u043e\\u043a\\u0430\\u0437\\u0430\\u0442\\u0435\\u043b\\u044c\", \"\\u043f\\u043e\\u043a\\u0430\\u0437\\u0430\\u0442\\u0435\\u043b\\u044c\", \"\\u043f\\u043e\\u043b\\u0438\\u0442\\u0438\\u043a\\u0430\", \"\\u043f\\u043e\\u043b\\u0438\\u0442\\u0438\\u043a\\u0430\", \"\\u043f\\u043e\\u043b\\u0438\\u0442\\u0438\\u043a\\u0430\", \"\\u043f\\u043e\\u043b\\u0438\\u0446\\u0435\\u0439\\u0441\\u043a\\u0438\\u0439\", \"\\u043f\\u043e\\u043b\\u0438\\u0446\\u0435\\u0439\\u0441\\u043a\\u0438\\u0439\", \"\\u043f\\u043e\\u043b\\u0438\\u0446\\u0435\\u0439\\u0441\\u043a\\u0438\\u0439\", \"\\u043f\\u043e\\u043b\\u0438\\u0446\\u0435\\u0439\\u0441\\u043a\\u0438\\u0439\", \"\\u043f\\u043e\\u043b\\u0438\\u0446\\u0438\\u044f\", \"\\u043f\\u043e\\u043b\\u0438\\u0446\\u0438\\u044f\", \"\\u043f\\u043e\\u043b\\u0438\\u0446\\u0438\\u044f\", \"\\u043f\\u043e\\u043b\\u044c\\u0437\\u043e\\u0432\\u0430\\u0442\\u0435\\u043b\\u044c\", \"\\u043f\\u043e\\u043b\\u044c\\u0437\\u043e\\u0432\\u0430\\u0442\\u0435\\u043b\\u044c\", \"\\u043f\\u043e\\u043b\\u044c\\u0437\\u043e\\u0432\\u0430\\u0442\\u0435\\u043b\\u044c\", \"\\u043f\\u043e\\u043b\\u0451\\u0442\", \"\\u043f\\u043e\\u043b\\u0451\\u0442\", \"\\u043f\\u043e\\u043b\\u0451\\u0442\", \"\\u043f\\u043e\\u043b\\u0451\\u0442\", \"\\u043f\\u043e\\u0440\\u043e\\u0448\\u0435\\u043d\\u043a\\u043e\", \"\\u043f\\u043e\\u0440\\u043e\\u0448\\u0435\\u043d\\u043a\\u043e\", \"\\u043f\\u043e\\u0440\\u043e\\u0448\\u0435\\u043d\\u043a\\u043e\", \"\\u043f\\u0440\\u0430\\u0432\\u043e\", \"\\u043f\\u0440\\u0430\\u0432\\u043e\", \"\\u043f\\u0440\\u0430\\u0432\\u043e\", \"\\u043f\\u0440\\u0430\\u0432\\u043e\", \"\\u043f\\u0440\\u0435\\u0434\\u0441\\u0442\\u0430\\u0432\\u0438\\u0442\\u0435\\u043b\\u044c\", \"\\u043f\\u0440\\u0435\\u0434\\u0441\\u0442\\u0430\\u0432\\u0438\\u0442\\u0435\\u043b\\u044c\", \"\\u043f\\u0440\\u0435\\u0434\\u0441\\u0442\\u0430\\u0432\\u0438\\u0442\\u0435\\u043b\\u044c\", \"\\u043f\\u0440\\u0435\\u0437\\u0438\\u0434\\u0435\\u043d\\u0442\", \"\\u043f\\u0440\\u0435\\u0437\\u0438\\u0434\\u0435\\u043d\\u0442\", \"\\u043f\\u0440\\u0435\\u0437\\u0438\\u0434\\u0435\\u043d\\u0442\", \"\\u043f\\u0440\\u0435\\u0437\\u0438\\u0434\\u0435\\u043d\\u0442\", \"\\u043f\\u0440\\u0435\\u0441\\u0442\\u0443\\u043f\\u043b\\u0435\\u043d\\u0438\\u0435\", \"\\u043f\\u0440\\u0435\\u0441\\u0442\\u0443\\u043f\\u043b\\u0435\\u043d\\u0438\\u0435\", \"\\u043f\\u0440\\u0435\\u0441\\u0442\\u0443\\u043f\\u043b\\u0435\\u043d\\u0438\\u0435\", \"\\u043f\\u0440\\u0438\\u043d\\u044f\\u0442\\u044c\", \"\\u043f\\u0440\\u0438\\u043d\\u044f\\u0442\\u044c\", \"\\u043f\\u0440\\u0438\\u043d\\u044f\\u0442\\u044c\", \"\\u043f\\u0440\\u0438\\u043d\\u044f\\u0442\\u044c\", \"\\u043f\\u0440\\u0438\\u043d\\u044f\\u0442\\u044c\", \"\\u043f\\u0440\\u043e\\u0432\\u043e\\u043a\\u0430\\u0446\\u0438\\u044f\", \"\\u043f\\u0440\\u043e\\u0432\\u043e\\u043a\\u0430\\u0446\\u0438\\u044f\", \"\\u043f\\u0440\\u043e\\u0432\\u043e\\u043a\\u0430\\u0446\\u0438\\u044f\", \"\\u043f\\u0440\\u043e\\u0434\\u0443\\u043a\\u0442\", \"\\u043f\\u0440\\u043e\\u0434\\u0443\\u043a\\u0442\", \"\\u043f\\u0440\\u043e\\u0434\\u0443\\u043a\\u0442\", \"\\u043f\\u0440\\u043e\\u0435\\u043a\\u0442\", \"\\u043f\\u0440\\u043e\\u0435\\u043a\\u0442\", \"\\u043f\\u0440\\u043e\\u0435\\u043a\\u0442\", \"\\u043f\\u0440\\u043e\\u0438\\u0437\\u0432\\u043e\\u0434\\u0441\\u0442\\u0432\\u043e\", \"\\u043f\\u0440\\u043e\\u0438\\u0437\\u0432\\u043e\\u0434\\u0441\\u0442\\u0432\\u043e\", \"\\u043f\\u0440\\u043e\\u0438\\u0437\\u0432\\u043e\\u0434\\u0441\\u0442\\u0432\\u043e\", \"\\u043f\\u0440\\u043e\\u0438\\u0437\\u0432\\u043e\\u0434\\u0441\\u0442\\u0432\\u043e\", \"\\u043f\\u0440\\u043e\\u043b\\u0438\\u0432\", \"\\u043f\\u0440\\u043e\\u043b\\u0438\\u0432\", \"\\u043f\\u0440\\u043e\\u043b\\u0438\\u0432\", \"\\u043f\\u0440\\u043e\\u0446\\u0435\\u043d\\u0442\", \"\\u043f\\u0440\\u043e\\u0446\\u0435\\u043d\\u0442\", \"\\u043f\\u0440\\u043e\\u0446\\u0435\\u043d\\u0442\", \"\\u043f\\u0443\\u0442\\u0438\\u043d\", \"\\u043f\\u0443\\u0442\\u0438\\u043d\", \"\\u043f\\u0443\\u0442\\u0438\\u043d\", \"\\u0440\\u0430\\u0431\\u043e\\u0442\\u0430\", \"\\u0440\\u0430\\u0431\\u043e\\u0442\\u0430\", \"\\u0440\\u0430\\u0431\\u043e\\u0442\\u0430\", \"\\u0440\\u0430\\u0431\\u043e\\u0442\\u0430\", \"\\u0440\\u0430\\u0437\\u0432\\u0438\\u0442\\u0438\\u0435\", \"\\u0440\\u0430\\u0437\\u0432\\u0438\\u0442\\u0438\\u0435\", \"\\u0440\\u0430\\u0437\\u0432\\u0438\\u0442\\u0438\\u0435\", \"\\u0440\\u0430\\u0439\\u043e\\u043d_\\u043a\\u0435\\u0440\\u0447\\u0435\\u043d\\u0441\\u043a\\u0438\\u0439\", \"\\u0440\\u0430\\u0439\\u043e\\u043d_\\u043a\\u0435\\u0440\\u0447\\u0435\\u043d\\u0441\\u043a\\u0438\\u0439\", \"\\u0440\\u0430\\u0439\\u043e\\u043d_\\u043a\\u0435\\u0440\\u0447\\u0435\\u043d\\u0441\\u043a\\u0438\\u0439\", \"\\u0440\\u0430\\u043d\\u0435\\u0435\", \"\\u0440\\u0430\\u043d\\u0435\\u0435\", \"\\u0440\\u0430\\u043d\\u0435\\u0435\", \"\\u0440\\u0430\\u043d\\u0435\\u0435\", \"\\u0440\\u0430\\u043d\\u0435\\u0435\", \"\\u0440\\u0430\\u0441\\u0441\\u043a\\u0430\\u0437\\u0430\\u0442\\u044c\", \"\\u0440\\u0430\\u0441\\u0441\\u043a\\u0430\\u0437\\u0430\\u0442\\u044c\", \"\\u0440\\u0430\\u0441\\u0441\\u043a\\u0430\\u0437\\u0430\\u0442\\u044c\", \"\\u0440\\u0430\\u0441\\u0441\\u043a\\u0430\\u0437\\u0430\\u0442\\u044c\", \"\\u0440\\u0435\\u0430\\u043b\", \"\\u0440\\u0435\\u0430\\u043b\", \"\\u0440\\u0435\\u0430\\u043b\", \"\\u0440\\u0435\\u0431\\u0451\\u043d\\u043e\\u043a\", \"\\u0440\\u0435\\u0431\\u0451\\u043d\\u043e\\u043a\", \"\\u0440\\u0435\\u0431\\u0451\\u043d\\u043e\\u043a\", \"\\u0440\\u0435\\u0433\\u0438\\u043e\\u043d\", \"\\u0440\\u0435\\u0433\\u0438\\u043e\\u043d\", \"\\u0440\\u0435\\u0433\\u0438\\u043e\\u043d\", \"\\u0440\\u0435\\u0436\\u0438\\u0441\\u0441\\u0451\\u0440\", \"\\u0440\\u0435\\u0436\\u0438\\u0441\\u0441\\u0451\\u0440\", \"\\u0440\\u0435\\u0439\\u0441\", \"\\u0440\\u0435\\u0439\\u0441\", \"\\u0440\\u0435\\u0439\\u0441\", \"\\u0440\\u0435\\u0439\\u0441\", \"\\u0440\\u0435\\u0439\\u0442\\u0438\\u043d\\u0433\", \"\\u0440\\u0435\\u0439\\u0442\\u0438\\u043d\\u0433\", \"\\u0440\\u0435\\u0439\\u0442\\u0438\\u043d\\u0433\", \"\\u0440\\u0435\\u0448\\u0435\\u043d\\u0438\\u0435\", \"\\u0440\\u0435\\u0448\\u0435\\u043d\\u0438\\u0435\", \"\\u0440\\u0435\\u0448\\u0435\\u043d\\u0438\\u0435\", \"\\u0440\\u0435\\u0448\\u0435\\u043d\\u0438\\u0435\", \"\\u0440\\u0435\\u0448\\u0435\\u043d\\u0438\\u0435\", \"\\u0440\\u043e\\u043b\\u0438\\u043a\", \"\\u0440\\u043e\\u043b\\u0438\\u043a\", \"\\u0440\\u043e\\u043b\\u0438\\u043a\", \"\\u0440\\u043e\\u043b\\u0438\\u043a\", \"\\u0440\\u043e\\u0441\\u043a\\u043e\\u0441\\u043c\\u043e\\u0441\", \"\\u0440\\u043e\\u0441\\u043a\\u043e\\u0441\\u043c\\u043e\\u0441\", \"\\u0440\\u043e\\u0441\\u043a\\u043e\\u0441\\u043c\\u043e\\u0441\", \"\\u0440\\u043e\\u0441\\u0441\\u0438\\u0439\\u0441\\u043a\\u0438\\u0439\", \"\\u0440\\u043e\\u0441\\u0441\\u0438\\u0439\\u0441\\u043a\\u0438\\u0439\", \"\\u0440\\u043e\\u0441\\u0441\\u0438\\u0439\\u0441\\u043a\\u0438\\u0439\", \"\\u0440\\u043e\\u0441\\u0441\\u0438\\u0439\\u0441\\u043a\\u0438\\u0439\", \"\\u0440\\u043e\\u0441\\u0441\\u0438\\u0439\\u0441\\u043a\\u0438\\u0439\", \"\\u0440\\u043e\\u0441\\u0441\\u0438\\u044f\", \"\\u0440\\u043e\\u0441\\u0441\\u0438\\u044f\", \"\\u0440\\u043e\\u0441\\u0441\\u0438\\u044f\", \"\\u0440\\u043e\\u0441\\u0441\\u0438\\u044f\", \"\\u0440\\u043e\\u0441\\u0442\", \"\\u0440\\u043e\\u0441\\u0442\", \"\\u0440\\u043e\\u0441\\u0442\", \"\\u0440\\u0443\\u0431\\u043b\\u044c\", \"\\u0440\\u0443\\u0431\\u043b\\u044c\", \"\\u0440\\u0443\\u0431\\u043b\\u044c\", \"\\u0440\\u0443\\u043a\\u0430\", \"\\u0440\\u0443\\u043a\\u0430\", \"\\u0440\\u0443\\u043a\\u0430\", \"\\u0440\\u0443\\u043a\\u0430\", \"\\u0440\\u044b\\u043d\\u043e\\u043a\", \"\\u0440\\u044b\\u043d\\u043e\\u043a\", \"\\u0440\\u044b\\u043d\\u043e\\u043a\", \"\\u0440\\u044d\\u043f\\u0435\\u0440\", \"\\u0440\\u044d\\u043f\\u0435\\u0440\", \"\\u0441\\u0430\\u043c\\u043e\\u043b\\u0451\\u0442\", \"\\u0441\\u0430\\u043c\\u043e\\u043b\\u0451\\u0442\", \"\\u0441\\u0430\\u043c\\u043e\\u043b\\u0451\\u0442\", \"\\u0441\\u0430\\u043c\\u043e\\u043b\\u0451\\u0442\", \"\\u0441\\u0430\\u043c\\u043e\\u043b\\u0451\\u0442\", \"\\u0441\\u0430\\u043c\\u044b\\u0439\", \"\\u0441\\u0430\\u043c\\u044b\\u0439\", \"\\u0441\\u0430\\u043c\\u044b\\u0439\", \"\\u0441\\u0430\\u043c\\u044b\\u0439\", \"\\u0441\\u0431\\u043e\\u0440\\u043d\\u0430\\u044f\", \"\\u0441\\u0431\\u043e\\u0440\\u043d\\u0430\\u044f\", \"\\u0441\\u0431\\u043e\\u0440\\u043d\\u0430\\u044f\", \"\\u0441\\u0435\\u043c\\u044c\\u044f\", \"\\u0441\\u0435\\u043c\\u044c\\u044f\", \"\\u0441\\u0435\\u043c\\u044c\\u044f\", \"\\u0441\\u0435\\u043c\\u044c\\u044f\", \"\\u0441\\u0435\\u0440\\u0433\\u0435\\u0439\", \"\\u0441\\u0435\\u0440\\u0433\\u0435\\u0439\", \"\\u0441\\u0435\\u0440\\u0433\\u0435\\u0439\", \"\\u0441\\u0435\\u0440\\u0433\\u0435\\u0439\", \"\\u0441\\u0435\\u0440\\u0433\\u0435\\u0439\", \"\\u0441\\u0438\\u043b\\u0430\", \"\\u0441\\u0438\\u043b\\u0430\", \"\\u0441\\u0438\\u043b\\u0430\", \"\\u0441\\u0438\\u043b\\u0430\", \"\\u0441\\u0438\\u043b\\u0430\", \"\\u0441\\u0438\\u0440\\u0438\\u044f\", \"\\u0441\\u0438\\u0440\\u0438\\u044f\", \"\\u0441\\u0438\\u0440\\u0438\\u044f\", \"\\u0441\\u0438\\u0440\\u0438\\u044f\", \"\\u0441\\u0438\\u0442\\u0443\\u0430\\u0446\\u0438\\u044f\", \"\\u0441\\u0438\\u0442\\u0443\\u0430\\u0446\\u0438\\u044f\", \"\\u0441\\u0438\\u0442\\u0443\\u0430\\u0446\\u0438\\u044f\", \"\\u0441\\u0438\\u0442\\u0443\\u0430\\u0446\\u0438\\u044f\", \"\\u0441\\u043a\\u0430\\u0437\\u0430\\u0442\\u044c\", \"\\u0441\\u043a\\u0430\\u0437\\u0430\\u0442\\u044c\", \"\\u0441\\u043a\\u0430\\u0437\\u0430\\u0442\\u044c\", \"\\u0441\\u043a\\u0430\\u0437\\u0430\\u0442\\u044c\", \"\\u0441\\u043b\\u043e\\u0432\\u043e\", \"\\u0441\\u043b\\u043e\\u0432\\u043e\", \"\\u0441\\u043b\\u043e\\u0432\\u043e\", \"\\u0441\\u043b\\u043e\\u0432\\u043e\", \"\\u0441\\u043d\\u0438\\u0436\\u0435\\u043d\\u0438\\u0435\", \"\\u0441\\u043d\\u0438\\u0436\\u0435\\u043d\\u0438\\u0435\", \"\\u0441\\u043d\\u0438\\u0436\\u0435\\u043d\\u0438\\u0435\", \"\\u0441\\u043d\\u0438\\u043c\\u043e\\u043a\", \"\\u0441\\u043d\\u0438\\u043c\\u043e\\u043a\", \"\\u0441\\u043d\\u0438\\u043c\\u043e\\u043a\", \"\\u0441\\u043e\\u0431\\u0430\\u043a\\u0430\", \"\\u0441\\u043e\\u0431\\u0430\\u043a\\u0430\", \"\\u0441\\u043e\\u0431\\u0430\\u043a\\u0430\", \"\\u0441\\u043e\\u0432\\u0435\\u0440\\u0448\\u0430\\u0442\\u044c_\\u043e\\u043f\\u0430\\u0441\\u043d\\u044b\\u0439\", \"\\u0441\\u043e\\u0432\\u0435\\u0440\\u0448\\u0430\\u0442\\u044c_\\u043e\\u043f\\u0430\\u0441\\u043d\\u044b\\u0439\", \"\\u0441\\u043e\\u0432\\u0435\\u0440\\u0448\\u0430\\u0442\\u044c_\\u043e\\u043f\\u0430\\u0441\\u043d\\u044b\\u0439\", \"\\u0441\\u043e\\u043e\\u0431\\u0449\\u0430\\u0442\\u044c\", \"\\u0441\\u043e\\u043e\\u0431\\u0449\\u0430\\u0442\\u044c\", \"\\u0441\\u043e\\u043e\\u0431\\u0449\\u0430\\u0442\\u044c\", \"\\u0441\\u043e\\u043e\\u0431\\u0449\\u0430\\u0442\\u044c\", \"\\u0441\\u043e\\u043e\\u0431\\u0449\\u0430\\u0442\\u044c\\u0441\\u044f\", \"\\u0441\\u043e\\u043e\\u0431\\u0449\\u0430\\u0442\\u044c\\u0441\\u044f\", \"\\u0441\\u043e\\u043e\\u0431\\u0449\\u0430\\u0442\\u044c\\u0441\\u044f\", \"\\u0441\\u043e\\u043e\\u0431\\u0449\\u0430\\u0442\\u044c\\u0441\\u044f\", \"\\u0441\\u043e\\u043e\\u0431\\u0449\\u0430\\u0442\\u044c\\u0441\\u044f\", \"\\u0441\\u043e\\u043e\\u0431\\u0449\\u0438\\u0442\\u044c\", \"\\u0441\\u043e\\u043e\\u0431\\u0449\\u0438\\u0442\\u044c\", \"\\u0441\\u043e\\u043e\\u0431\\u0449\\u0438\\u0442\\u044c\", \"\\u0441\\u043e\\u043e\\u0431\\u0449\\u0438\\u0442\\u044c\", \"\\u0441\\u043e\\u043f\\u0435\\u0440\\u043d\\u0438\\u043a\", \"\\u0441\\u043e\\u043f\\u0435\\u0440\\u043d\\u0438\\u043a\", \"\\u0441\\u043e\\u043f\\u0435\\u0440\\u043d\\u0438\\u043a\", \"\\u0441\\u043e\\u0440\\u0435\\u0432\\u043d\\u043e\\u0432\\u0430\\u043d\\u0438\\u0435\", \"\\u0441\\u043e\\u0440\\u0435\\u0432\\u043d\\u043e\\u0432\\u0430\\u043d\\u0438\\u0435\", \"\\u0441\\u043e\\u0440\\u0435\\u0432\\u043d\\u043e\\u0432\\u0430\\u043d\\u0438\\u0435\", \"\\u0441\\u043e\\u0440\\u0435\\u0432\\u043d\\u043e\\u0432\\u0430\\u043d\\u0438\\u0435\", \"\\u0441\\u043e\\u0441\\u0442\\u0430\\u0432\\u0438\\u0442\\u044c\", \"\\u0441\\u043e\\u0441\\u0442\\u0430\\u0432\\u0438\\u0442\\u044c\", \"\\u0441\\u043e\\u0441\\u0442\\u0430\\u0432\\u0438\\u0442\\u044c\", \"\\u0441\\u043e\\u0441\\u0442\\u0430\\u0432\\u043b\\u044f\\u0442\\u044c\", \"\\u0441\\u043e\\u0441\\u0442\\u0430\\u0432\\u043b\\u044f\\u0442\\u044c\", \"\\u0441\\u043e\\u0441\\u0442\\u0430\\u0432\\u043b\\u044f\\u0442\\u044c\", \"\\u0441\\u043e\\u0441\\u0442\\u0430\\u0432\\u043b\\u044f\\u0442\\u044c\", \"\\u0441\\u043f\\u043e\\u0440\\u0442\\u0441\\u043c\\u0435\\u043d\", \"\\u0441\\u043f\\u043e\\u0440\\u0442\\u0441\\u043c\\u0435\\u043d\", \"\\u0441\\u043f\\u043e\\u0440\\u0442\\u0441\\u043c\\u0435\\u043d\", \"\\u0441\\u043f\\u0443\\u0442\\u043d\\u0438\\u043a\", \"\\u0441\\u043f\\u0443\\u0442\\u043d\\u0438\\u043a\", \"\\u0441\\u043f\\u0443\\u0442\\u043d\\u0438\\u043a\", \"\\u0441\\u0440\\u0435\\u0434\\u043d\\u0438\\u0439\", \"\\u0441\\u0440\\u0435\\u0434\\u043d\\u0438\\u0439\", \"\\u0441\\u0440\\u0435\\u0434\\u043d\\u0438\\u0439\", \"\\u0441\\u0442\\u0430\\u0442\\u044c\", \"\\u0441\\u0442\\u0430\\u0442\\u044c\", \"\\u0441\\u0442\\u0430\\u0442\\u044c\", \"\\u0441\\u0442\\u0430\\u0442\\u044c\", \"\\u0441\\u0442\\u043e\\u0438\\u043c\\u043e\\u0441\\u0442\\u044c\", \"\\u0441\\u0442\\u043e\\u0438\\u043c\\u043e\\u0441\\u0442\\u044c\", \"\\u0441\\u0442\\u043e\\u0438\\u043c\\u043e\\u0441\\u0442\\u044c\", \"\\u0441\\u0442\\u043e\\u0440\\u043e\\u043d\\u0430\", \"\\u0441\\u0442\\u043e\\u0440\\u043e\\u043d\\u0430\", \"\\u0441\\u0442\\u043e\\u0440\\u043e\\u043d\\u0430\", \"\\u0441\\u0442\\u043e\\u0440\\u043e\\u043d\\u0430\", \"\\u0441\\u0442\\u0440\\u0430\\u043d\\u0430\", \"\\u0441\\u0442\\u0440\\u0430\\u043d\\u0430\", \"\\u0441\\u0442\\u0440\\u0430\\u043d\\u0430\", \"\\u0441\\u0442\\u0440\\u0430\\u043d\\u0430\", \"\\u0441\\u0442\\u0440\\u043e\\u0438\\u0442\\u0435\\u043b\\u044c\\u0441\\u0442\\u0432\\u043e\", \"\\u0441\\u0442\\u0440\\u043e\\u0438\\u0442\\u0435\\u043b\\u044c\\u0441\\u0442\\u0432\\u043e\", \"\\u0441\\u0442\\u0440\\u043e\\u0438\\u0442\\u0435\\u043b\\u044c\\u0441\\u0442\\u0432\\u043e\", \"\\u0441\\u0442\\u0440\\u043e\\u0438\\u0442\\u0435\\u043b\\u044c\\u0441\\u0442\\u0432\\u043e\", \"\\u0441\\u0443\\u0434\", \"\\u0441\\u0443\\u0434\", \"\\u0441\\u0443\\u0434\", \"\\u0441\\u0443\\u0434\", \"\\u0441\\u0443\\u043c\\u043c\\u0430\", \"\\u0441\\u0443\\u043c\\u043c\\u0430\", \"\\u0441\\u0443\\u043c\\u043c\\u0430\", \"\\u0441\\u0443\\u043c\\u043c\\u0430\", \"\\u0441\\u0447\\u0451\\u0442\", \"\\u0441\\u0447\\u0451\\u0442\", \"\\u0441\\u0447\\u0451\\u0442\", \"\\u0441\\u0447\\u0451\\u0442\", \"\\u0441\\u0448\\u0430\", \"\\u0441\\u0448\\u0430\", \"\\u0441\\u0448\\u0430\", \"\\u0441\\u0448\\u0430_\\u0434\\u043e\\u043d\\u0430\\u043b\\u044c\\u0434\", \"\\u0441\\u0448\\u0430_\\u0434\\u043e\\u043d\\u0430\\u043b\\u044c\\u0434\", \"\\u0441\\u0448\\u0430_\\u0434\\u043e\\u043d\\u0430\\u043b\\u044c\\u0434\", \"\\u0441\\u044b\\u043d\", \"\\u0441\\u044b\\u043d\", \"\\u0441\\u044b\\u043d\", \"\\u0441\\u044b\\u043d\", \"\\u0442\\u0435\\u043b\\u043e\", \"\\u0442\\u0435\\u043b\\u043e\", \"\\u0442\\u0435\\u043b\\u043e\", \"\\u0442\\u0435\\u0440\\u0440\\u0438\\u0442\\u043e\\u0440\\u0438\\u0430\\u043b\\u044c\\u043d\\u044b\\u0439_\\u0432\\u043e\\u0434\\u0430\", \"\\u0442\\u0435\\u0440\\u0440\\u0438\\u0442\\u043e\\u0440\\u0438\\u0430\\u043b\\u044c\\u043d\\u044b\\u0439_\\u0432\\u043e\\u0434\\u0430\", \"\\u0442\\u0435\\u0440\\u0440\\u0438\\u0442\\u043e\\u0440\\u0438\\u0430\\u043b\\u044c\\u043d\\u044b\\u0439_\\u0432\\u043e\\u0434\\u0430\", \"\\u0442\\u043e\\u043d\\u043d\\u0430\", \"\\u0442\\u043e\\u043d\\u043d\\u0430\", \"\\u0442\\u043e\\u043d\\u043d\\u0430\", \"\\u0442\\u0440\\u0430\\u043c\\u043f\", \"\\u0442\\u0440\\u0430\\u043c\\u043f\", \"\\u0442\\u0440\\u0430\\u043c\\u043f\", \"\\u0442\\u0440\\u0435\\u043d\\u0435\\u0440\", \"\\u0442\\u0440\\u0435\\u043d\\u0435\\u0440\", \"\\u0442\\u0440\\u0435\\u043d\\u0435\\u0440\", \"\\u0442\\u0443\\u0440\", \"\\u0442\\u0443\\u0440\", \"\\u0442\\u0443\\u0440\", \"\\u0442\\u0443\\u0440\\u043d\\u0438\\u0440\", \"\\u0442\\u0443\\u0440\\u043d\\u0438\\u0440\", \"\\u0442\\u0443\\u0440\\u043d\\u0438\\u0440\", \"\\u0442\\u0443\\u0440\\u043d\\u0438\\u0440\", \"\\u0442\\u044b\\u0441\\u044f\\u0447\\u0430\", \"\\u0442\\u044b\\u0441\\u044f\\u0447\\u0430\", \"\\u0442\\u044b\\u0441\\u044f\\u0447\\u0430\", \"\\u0442\\u044b\\u0441\\u044f\\u0447\\u0430\", \"\\u0443\\u0432\\u0438\\u0434\\u0435\\u0442\\u044c\", \"\\u0443\\u0432\\u0438\\u0434\\u0435\\u0442\\u044c\", \"\\u0443\\u0432\\u0438\\u0434\\u0435\\u0442\\u044c\", \"\\u0443\\u0432\\u0438\\u0434\\u0435\\u0442\\u044c\", \"\\u0443\\u0432\\u0438\\u0434\\u0435\\u0442\\u044c\", \"\\u0443\\u0433\\u0440\\u043e\\u0437\\u0430\", \"\\u0443\\u0433\\u0440\\u043e\\u0437\\u0430\", \"\\u0443\\u0433\\u0440\\u043e\\u0437\\u0430\", \"\\u0443\\u0433\\u0440\\u043e\\u0437\\u0430\", \"\\u0443\\u043a\\u0440\\u0430\\u0438\\u043d\\u0430\", \"\\u0443\\u043a\\u0440\\u0430\\u0438\\u043d\\u0430\", \"\\u0443\\u043a\\u0440\\u0430\\u0438\\u043d\\u0430\", \"\\u0443\\u043a\\u0440\\u0430\\u0438\\u043d\\u0430\", \"\\u0443\\u043a\\u0440\\u0430\\u0438\\u043d\\u0430_\\u043f\\u0451\\u0442\\u0440\", \"\\u0443\\u043a\\u0440\\u0430\\u0438\\u043d\\u0430_\\u043f\\u0451\\u0442\\u0440\", \"\\u0443\\u043a\\u0440\\u0430\\u0438\\u043d\\u0430_\\u043f\\u0451\\u0442\\u0440\", \"\\u0443\\u043a\\u0440\\u0430\\u0438\\u043d\\u0441\\u043a\\u0438\\u0439\", \"\\u0443\\u043a\\u0440\\u0430\\u0438\\u043d\\u0441\\u043a\\u0438\\u0439\", \"\\u0443\\u043a\\u0440\\u0430\\u0438\\u043d\\u0441\\u043a\\u0438\\u0439\", \"\\u0443\\u043a\\u0440\\u0430\\u0438\\u043d\\u0441\\u043a\\u0438\\u0439\", \"\\u0443\\u043a\\u0440\\u0430\\u0438\\u043d\\u0441\\u043a\\u0438\\u0439_\\u043c\\u043e\\u0440\\u044f\\u043a\", \"\\u0443\\u043a\\u0440\\u0430\\u0438\\u043d\\u0441\\u043a\\u0438\\u0439_\\u043c\\u043e\\u0440\\u044f\\u043a\", \"\\u0443\\u043a\\u0440\\u0430\\u0438\\u043d\\u0441\\u043a\\u0438\\u0439_\\u043c\\u043e\\u0440\\u044f\\u043a\", \"\\u0443\\u043c\\u0435\\u0440\\u0435\\u0442\\u044c\", \"\\u0443\\u043c\\u0435\\u0440\\u0435\\u0442\\u044c\", \"\\u0443\\u0440\\u043e\\u0432\\u0435\\u043d\\u044c\", \"\\u0443\\u0440\\u043e\\u0432\\u0435\\u043d\\u044c\", \"\\u0443\\u0440\\u043e\\u0432\\u0435\\u043d\\u044c\", \"\\u0443\\u0440\\u043e\\u0432\\u0435\\u043d\\u044c\", \"\\u0443\\u0447\\u0451\\u043d\\u044b\\u0439\", \"\\u0443\\u0447\\u0451\\u043d\\u044b\\u0439\", \"\\u0443\\u0447\\u0451\\u043d\\u044b\\u0439\", \"\\u0444\\u0438\\u0433\\u0443\\u0440\\u0438\\u0441\\u0442\\u043a\\u0430\", \"\\u0444\\u0438\\u0433\\u0443\\u0440\\u0438\\u0441\\u0442\\u043a\\u0430\", \"\\u0444\\u0438\\u0433\\u0443\\u0440\\u0438\\u0441\\u0442\\u043a\\u0430\", \"\\u0444\\u0438\\u043b\\u044c\\u043c\", \"\\u0444\\u0438\\u043b\\u044c\\u043c\", \"\\u0444\\u0438\\u043d\\u0430\\u043b\", \"\\u0444\\u0438\\u043d\\u0430\\u043b\", \"\\u0444\\u0438\\u043d\\u0430\\u043b\", \"\\u0444\\u0438\\u043d\\u0430\\u043b_\\u0433\\u0440\\u0430\\u043d\", \"\\u0444\\u0438\\u043d\\u0430\\u043b_\\u0433\\u0440\\u0430\\u043d\", \"\\u0444\\u0438\\u043d\\u0430\\u043b_\\u0433\\u0440\\u0430\\u043d\", \"\\u0444\\u043e\\u0440\\u0432\\u0430\\u0440\\u0434\", \"\\u0444\\u043e\\u0440\\u0432\\u0430\\u0440\\u0434\", \"\\u0444\\u043e\\u0440\\u0432\\u0430\\u0440\\u0434\", \"\\u0444\\u043e\\u0442\\u043e\\u0433\\u0440\\u0430\\u0444\\u0438\\u044f\", \"\\u0444\\u043e\\u0442\\u043e\\u0433\\u0440\\u0430\\u0444\\u0438\\u044f\", \"\\u0444\\u043e\\u0442\\u043e\\u0433\\u0440\\u0430\\u0444\\u0438\\u044f\", \"\\u0444\\u043e\\u0442\\u043e\\u0433\\u0440\\u0430\\u0444\\u0438\\u044f\", \"\\u0444\\u0441\\u0431\", \"\\u0444\\u0441\\u0431\", \"\\u0444\\u0441\\u0431\", \"\\u0444\\u0443\\u0442\\u0431\\u043e\\u043b\", \"\\u0444\\u0443\\u0442\\u0431\\u043e\\u043b\", \"\\u0444\\u0443\\u0442\\u0431\\u043e\\u043b\", \"\\u0444\\u0443\\u0442\\u0431\\u043e\\u043b\", \"\\u0444\\u0443\\u0442\\u0431\\u043e\\u043b\\u0438\\u0441\\u0442\", \"\\u0444\\u0443\\u0442\\u0431\\u043e\\u043b\\u0438\\u0441\\u0442\", \"\\u0444\\u0443\\u0442\\u0431\\u043e\\u043b\\u0438\\u0441\\u0442\", \"\\u0445\\u0430\\u0441\\u043a\", \"\\u0445\\u0430\\u0441\\u043a\", \"\\u0446\\u0435\\u043d\\u0430\", \"\\u0446\\u0435\\u043d\\u0430\", \"\\u0446\\u0435\\u043d\\u0430\", \"\\u0446\\u0435\\u043d\\u0430_\\u043d\\u0435\\u0444\\u0442\\u044c\", \"\\u0446\\u0435\\u043d\\u0430_\\u043d\\u0435\\u0444\\u0442\\u044c\", \"\\u0446\\u0435\\u043d\\u0430_\\u043d\\u0435\\u0444\\u0442\\u044c\", \"\\u0447\\u0435\\u043b\\u043e\\u0432\\u0435\\u043a\", \"\\u0447\\u0435\\u043b\\u043e\\u0432\\u0435\\u043a\", \"\\u0447\\u0435\\u043b\\u043e\\u0432\\u0435\\u043a\", \"\\u0447\\u0435\\u043b\\u043e\\u0432\\u0435\\u043a\", \"\\u0447\\u0435\\u043c\\u043f\\u0438\\u043e\\u043d\\u0430\\u0442\", \"\\u0447\\u0435\\u043c\\u043f\\u0438\\u043e\\u043d\\u0430\\u0442\", \"\\u0447\\u0435\\u043c\\u043f\\u0438\\u043e\\u043d\\u0430\\u0442\", \"\\u0447\\u0435\\u043c\\u043f\\u0438\\u043e\\u043d\\u0430\\u0442_\\u043c\\u0438\\u0440\", \"\\u0447\\u0435\\u043c\\u043f\\u0438\\u043e\\u043d\\u0430\\u0442_\\u043c\\u0438\\u0440\", \"\\u0447\\u0435\\u043c\\u043f\\u0438\\u043e\\u043d\\u0430\\u0442_\\u043c\\u0438\\u0440\", \"\\u0447\\u0435\\u043c\\u043f\\u0438\\u043e\\u043d\\u0430\\u0442_\\u043c\\u0438\\u0440\", \"\\u0447\\u043b\\u0435\\u043d\", \"\\u0447\\u043b\\u0435\\u043d\", \"\\u0447\\u043b\\u0435\\u043d\", \"\\u044d\\u043a\\u0441\\u043f\\u0435\\u0440\\u0442\", \"\\u044d\\u043a\\u0441\\u043f\\u0435\\u0440\\u0442\", \"\\u044d\\u043a\\u0441\\u043f\\u0435\\u0440\\u0442\", \"\\u044e\\u0432\\u0435\\u043d\\u0442\\u0443\\u0441\", \"\\u044e\\u0432\\u0435\\u043d\\u0442\\u0443\\u0441\", \"\\u044e\\u0432\\u0435\\u043d\\u0442\\u0443\\u0441\", \"\\u044e\\u0432\\u0435\\u043d\\u0442\\u0443\\u0441\", \"\\u044f\\u043d_\\u043a\\u0430\\u043f\", \"\\u044f\\u043d_\\u043a\\u0430\\u043f\", \"\\u044f\\u043d_\\u043a\\u0430\\u043f\"]}, \"R\": 30, \"lambda.step\": 0.01, \"plot.opts\": {\"xlab\": \"PC1\", \"ylab\": \"PC2\"}, \"topic.order\": [2, 1, 4, 5, 3]};\n",
              "\n",
              "function LDAvis_load_lib(url, callback){\n",
              "  var s = document.createElement('script');\n",
              "  s.src = url;\n",
              "  s.async = true;\n",
              "  s.onreadystatechange = s.onload = callback;\n",
              "  s.onerror = function(){console.warn(\"failed to load library \" + url);};\n",
              "  document.getElementsByTagName(\"head\")[0].appendChild(s);\n",
              "}\n",
              "\n",
              "if(typeof(LDAvis) !== \"undefined\"){\n",
              "   // already loaded: just create the visualization\n",
              "   !function(LDAvis){\n",
              "       new LDAvis(\"#\" + \"ldavis_el5091406095173078246394267984\", ldavis_el5091406095173078246394267984_data);\n",
              "   }(LDAvis);\n",
              "}else if(typeof define === \"function\" && define.amd){\n",
              "   // require.js is available: use it to load d3/LDAvis\n",
              "   require.config({paths: {d3: \"https://d3js.org/d3.v5\"}});\n",
              "   require([\"d3\"], function(d3){\n",
              "      window.d3 = d3;\n",
              "      LDAvis_load_lib(\"https://cdn.jsdelivr.net/gh/bmabey/pyLDAvis@3.4.0/pyLDAvis/js/ldavis.v3.0.0.js\", function(){\n",
              "        new LDAvis(\"#\" + \"ldavis_el5091406095173078246394267984\", ldavis_el5091406095173078246394267984_data);\n",
              "      });\n",
              "    });\n",
              "}else{\n",
              "    // require.js not available: dynamically load d3 & LDAvis\n",
              "    LDAvis_load_lib(\"https://d3js.org/d3.v5.js\", function(){\n",
              "         LDAvis_load_lib(\"https://cdn.jsdelivr.net/gh/bmabey/pyLDAvis@3.4.0/pyLDAvis/js/ldavis.v3.0.0.js\", function(){\n",
              "                 new LDAvis(\"#\" + \"ldavis_el5091406095173078246394267984\", ldavis_el5091406095173078246394267984_data);\n",
              "            })\n",
              "         });\n",
              "}\n",
              "</script>"
            ]
          },
          "metadata": {},
          "execution_count": 21
        }
      ],
      "source": [
        "visualize_model(model=model, corpus=corpus)"
      ]
    },
    {
      "cell_type": "markdown",
      "metadata": {
        "id": "hgg0XFH6fRkd"
      },
      "source": [
        "Посмотрим на топики модели"
      ]
    },
    {
      "cell_type": "code",
      "execution_count": 22,
      "metadata": {
        "id": "sSU-8Q4pV9cB",
        "colab": {
          "base_uri": "https://localhost:8080/"
        },
        "outputId": "cebd755e-71d6-4b56-f665-e07d687ca54c"
      },
      "outputs": [
        {
          "output_type": "execute_result",
          "data": {
            "text/plain": [
              "[(0,\n",
              "  '0.007*\"тысяча\" + 0.006*\"год\" + 0.006*\"один\" + 0.005*\"женщина\" + 0.005*\"человек\" + 0.005*\"мужчина\" + 0.005*\"сообщать\" + 0.005*\"ребёнок\" + 0.005*\"летний\" + 0.004*\"дом\"'),\n",
              " (1,\n",
              "  '0.017*\"россия\" + 0.010*\"ноябрь\" + 0.010*\"российский\" + 0.009*\"тысяча\" + 0.009*\"год\" + 0.008*\"два\" + 0.008*\"страна\" + 0.008*\"заявить\" + 0.007*\"слово\" + 0.006*\"президент\"'),\n",
              " (2,\n",
              "  '0.034*\"украина\" + 0.027*\"украинский\" + 0.021*\"корабль\" + 0.012*\"керченский_пролив\" + 0.011*\"фсб\" + 0.011*\"киев\" + 0.011*\"военный_положение\" + 0.009*\"порошенко\" + 0.009*\"ноябрь\" + 0.007*\"задержать\"'),\n",
              " (3,\n",
              "  '0.016*\"тысяча\" + 0.015*\"год\" + 0.011*\"два\" + 0.009*\"процент\" + 0.008*\"компания\" + 0.005*\"рубль\" + 0.005*\"доллар\" + 0.004*\"новый\" + 0.004*\"миллион\" + 0.003*\"цена\"'),\n",
              " (4,\n",
              "  '0.010*\"самолёт\" + 0.006*\"медведев\" + 0.005*\"матч\" + 0.005*\"команда\" + 0.005*\"два\" + 0.004*\"футболист\" + 0.004*\"победа\" + 0.004*\"спортсмен\" + 0.004*\"клуб\" + 0.003*\"поединок\"')]"
            ]
          },
          "metadata": {},
          "execution_count": 22
        }
      ],
      "source": [
        "model.print_topics()"
      ]
    },
    {
      "cell_type": "markdown",
      "source": [
        "Вывод: возможно, нужно было подбирать другие параметры, потому что училась модель долго, но качество не очень"
      ],
      "metadata": {
        "id": "yxL-z42Tx5ST"
      }
    }
  ],
  "metadata": {
    "colab": {
      "provenance": []
    },
    "kernelspec": {
      "display_name": "Python 3 (ipykernel)",
      "language": "python",
      "name": "python3"
    },
    "language_info": {
      "codemirror_mode": {
        "name": "ipython",
        "version": 3
      },
      "file_extension": ".py",
      "mimetype": "text/x-python",
      "name": "python",
      "nbconvert_exporter": "python",
      "pygments_lexer": "ipython3",
      "version": "3.10.12"
    },
    "widgets": {
      "application/vnd.jupyter.widget-state+json": {
        "ffc3de16b3f04e1698a06bdad3f6c27b": {
          "model_module": "@jupyter-widgets/controls",
          "model_name": "HBoxModel",
          "model_module_version": "1.5.0",
          "state": {
            "_dom_classes": [],
            "_model_module": "@jupyter-widgets/controls",
            "_model_module_version": "1.5.0",
            "_model_name": "HBoxModel",
            "_view_count": null,
            "_view_module": "@jupyter-widgets/controls",
            "_view_module_version": "1.5.0",
            "_view_name": "HBoxView",
            "box_style": "",
            "children": [
              "IPY_MODEL_a0a2f8846fa842d68dfde49e614fc1d4",
              "IPY_MODEL_773898c54cdc48b0b2961cb03e594d3c",
              "IPY_MODEL_7aaeafb252654ee5b2b43b55eed5e6cf"
            ],
            "layout": "IPY_MODEL_d90e02813eb54c93a68c070e791c005e"
          }
        },
        "a0a2f8846fa842d68dfde49e614fc1d4": {
          "model_module": "@jupyter-widgets/controls",
          "model_name": "HTMLModel",
          "model_module_version": "1.5.0",
          "state": {
            "_dom_classes": [],
            "_model_module": "@jupyter-widgets/controls",
            "_model_module_version": "1.5.0",
            "_model_name": "HTMLModel",
            "_view_count": null,
            "_view_module": "@jupyter-widgets/controls",
            "_view_module_version": "1.5.0",
            "_view_name": "HTMLView",
            "description": "",
            "description_tooltip": null,
            "layout": "IPY_MODEL_791644457a464793b05193e6cc88eaae",
            "placeholder": "​",
            "style": "IPY_MODEL_8017e68008b247cb9df7702eb7a7affe",
            "value": "Best trial: 6. Best value: -8.99822: 100%"
          }
        },
        "773898c54cdc48b0b2961cb03e594d3c": {
          "model_module": "@jupyter-widgets/controls",
          "model_name": "FloatProgressModel",
          "model_module_version": "1.5.0",
          "state": {
            "_dom_classes": [],
            "_model_module": "@jupyter-widgets/controls",
            "_model_module_version": "1.5.0",
            "_model_name": "FloatProgressModel",
            "_view_count": null,
            "_view_module": "@jupyter-widgets/controls",
            "_view_module_version": "1.5.0",
            "_view_name": "ProgressView",
            "bar_style": "success",
            "description": "",
            "description_tooltip": null,
            "layout": "IPY_MODEL_99e64c5efd8544f691b928400ff1a254",
            "max": 15,
            "min": 0,
            "orientation": "horizontal",
            "style": "IPY_MODEL_620abbdaeaaa473a88b81df1d59aebe7",
            "value": 15
          }
        },
        "7aaeafb252654ee5b2b43b55eed5e6cf": {
          "model_module": "@jupyter-widgets/controls",
          "model_name": "HTMLModel",
          "model_module_version": "1.5.0",
          "state": {
            "_dom_classes": [],
            "_model_module": "@jupyter-widgets/controls",
            "_model_module_version": "1.5.0",
            "_model_name": "HTMLModel",
            "_view_count": null,
            "_view_module": "@jupyter-widgets/controls",
            "_view_module_version": "1.5.0",
            "_view_name": "HTMLView",
            "description": "",
            "description_tooltip": null,
            "layout": "IPY_MODEL_b9cd7f99594040d0834f3a06b3c928d9",
            "placeholder": "​",
            "style": "IPY_MODEL_9c509d9aced3424bb80af6e03a4b06ed",
            "value": " 15/15 [14:12&lt;00:00, 24.41s/it]"
          }
        },
        "d90e02813eb54c93a68c070e791c005e": {
          "model_module": "@jupyter-widgets/base",
          "model_name": "LayoutModel",
          "model_module_version": "1.2.0",
          "state": {
            "_model_module": "@jupyter-widgets/base",
            "_model_module_version": "1.2.0",
            "_model_name": "LayoutModel",
            "_view_count": null,
            "_view_module": "@jupyter-widgets/base",
            "_view_module_version": "1.2.0",
            "_view_name": "LayoutView",
            "align_content": null,
            "align_items": null,
            "align_self": null,
            "border": null,
            "bottom": null,
            "display": null,
            "flex": null,
            "flex_flow": null,
            "grid_area": null,
            "grid_auto_columns": null,
            "grid_auto_flow": null,
            "grid_auto_rows": null,
            "grid_column": null,
            "grid_gap": null,
            "grid_row": null,
            "grid_template_areas": null,
            "grid_template_columns": null,
            "grid_template_rows": null,
            "height": null,
            "justify_content": null,
            "justify_items": null,
            "left": null,
            "margin": null,
            "max_height": null,
            "max_width": null,
            "min_height": null,
            "min_width": null,
            "object_fit": null,
            "object_position": null,
            "order": null,
            "overflow": null,
            "overflow_x": null,
            "overflow_y": null,
            "padding": null,
            "right": null,
            "top": null,
            "visibility": null,
            "width": null
          }
        },
        "791644457a464793b05193e6cc88eaae": {
          "model_module": "@jupyter-widgets/base",
          "model_name": "LayoutModel",
          "model_module_version": "1.2.0",
          "state": {
            "_model_module": "@jupyter-widgets/base",
            "_model_module_version": "1.2.0",
            "_model_name": "LayoutModel",
            "_view_count": null,
            "_view_module": "@jupyter-widgets/base",
            "_view_module_version": "1.2.0",
            "_view_name": "LayoutView",
            "align_content": null,
            "align_items": null,
            "align_self": null,
            "border": null,
            "bottom": null,
            "display": null,
            "flex": null,
            "flex_flow": null,
            "grid_area": null,
            "grid_auto_columns": null,
            "grid_auto_flow": null,
            "grid_auto_rows": null,
            "grid_column": null,
            "grid_gap": null,
            "grid_row": null,
            "grid_template_areas": null,
            "grid_template_columns": null,
            "grid_template_rows": null,
            "height": null,
            "justify_content": null,
            "justify_items": null,
            "left": null,
            "margin": null,
            "max_height": null,
            "max_width": null,
            "min_height": null,
            "min_width": null,
            "object_fit": null,
            "object_position": null,
            "order": null,
            "overflow": null,
            "overflow_x": null,
            "overflow_y": null,
            "padding": null,
            "right": null,
            "top": null,
            "visibility": null,
            "width": null
          }
        },
        "8017e68008b247cb9df7702eb7a7affe": {
          "model_module": "@jupyter-widgets/controls",
          "model_name": "DescriptionStyleModel",
          "model_module_version": "1.5.0",
          "state": {
            "_model_module": "@jupyter-widgets/controls",
            "_model_module_version": "1.5.0",
            "_model_name": "DescriptionStyleModel",
            "_view_count": null,
            "_view_module": "@jupyter-widgets/base",
            "_view_module_version": "1.2.0",
            "_view_name": "StyleView",
            "description_width": ""
          }
        },
        "99e64c5efd8544f691b928400ff1a254": {
          "model_module": "@jupyter-widgets/base",
          "model_name": "LayoutModel",
          "model_module_version": "1.2.0",
          "state": {
            "_model_module": "@jupyter-widgets/base",
            "_model_module_version": "1.2.0",
            "_model_name": "LayoutModel",
            "_view_count": null,
            "_view_module": "@jupyter-widgets/base",
            "_view_module_version": "1.2.0",
            "_view_name": "LayoutView",
            "align_content": null,
            "align_items": null,
            "align_self": null,
            "border": null,
            "bottom": null,
            "display": null,
            "flex": null,
            "flex_flow": null,
            "grid_area": null,
            "grid_auto_columns": null,
            "grid_auto_flow": null,
            "grid_auto_rows": null,
            "grid_column": null,
            "grid_gap": null,
            "grid_row": null,
            "grid_template_areas": null,
            "grid_template_columns": null,
            "grid_template_rows": null,
            "height": null,
            "justify_content": null,
            "justify_items": null,
            "left": null,
            "margin": null,
            "max_height": null,
            "max_width": null,
            "min_height": null,
            "min_width": null,
            "object_fit": null,
            "object_position": null,
            "order": null,
            "overflow": null,
            "overflow_x": null,
            "overflow_y": null,
            "padding": null,
            "right": null,
            "top": null,
            "visibility": null,
            "width": null
          }
        },
        "620abbdaeaaa473a88b81df1d59aebe7": {
          "model_module": "@jupyter-widgets/controls",
          "model_name": "ProgressStyleModel",
          "model_module_version": "1.5.0",
          "state": {
            "_model_module": "@jupyter-widgets/controls",
            "_model_module_version": "1.5.0",
            "_model_name": "ProgressStyleModel",
            "_view_count": null,
            "_view_module": "@jupyter-widgets/base",
            "_view_module_version": "1.2.0",
            "_view_name": "StyleView",
            "bar_color": null,
            "description_width": ""
          }
        },
        "b9cd7f99594040d0834f3a06b3c928d9": {
          "model_module": "@jupyter-widgets/base",
          "model_name": "LayoutModel",
          "model_module_version": "1.2.0",
          "state": {
            "_model_module": "@jupyter-widgets/base",
            "_model_module_version": "1.2.0",
            "_model_name": "LayoutModel",
            "_view_count": null,
            "_view_module": "@jupyter-widgets/base",
            "_view_module_version": "1.2.0",
            "_view_name": "LayoutView",
            "align_content": null,
            "align_items": null,
            "align_self": null,
            "border": null,
            "bottom": null,
            "display": null,
            "flex": null,
            "flex_flow": null,
            "grid_area": null,
            "grid_auto_columns": null,
            "grid_auto_flow": null,
            "grid_auto_rows": null,
            "grid_column": null,
            "grid_gap": null,
            "grid_row": null,
            "grid_template_areas": null,
            "grid_template_columns": null,
            "grid_template_rows": null,
            "height": null,
            "justify_content": null,
            "justify_items": null,
            "left": null,
            "margin": null,
            "max_height": null,
            "max_width": null,
            "min_height": null,
            "min_width": null,
            "object_fit": null,
            "object_position": null,
            "order": null,
            "overflow": null,
            "overflow_x": null,
            "overflow_y": null,
            "padding": null,
            "right": null,
            "top": null,
            "visibility": null,
            "width": null
          }
        },
        "9c509d9aced3424bb80af6e03a4b06ed": {
          "model_module": "@jupyter-widgets/controls",
          "model_name": "DescriptionStyleModel",
          "model_module_version": "1.5.0",
          "state": {
            "_model_module": "@jupyter-widgets/controls",
            "_model_module_version": "1.5.0",
            "_model_name": "DescriptionStyleModel",
            "_view_count": null,
            "_view_module": "@jupyter-widgets/base",
            "_view_module_version": "1.2.0",
            "_view_name": "StyleView",
            "description_width": ""
          }
        }
      }
    }
  },
  "nbformat": 4,
  "nbformat_minor": 0
}